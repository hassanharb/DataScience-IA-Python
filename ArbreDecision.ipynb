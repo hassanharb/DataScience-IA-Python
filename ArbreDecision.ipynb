{
 "cells": [
  {
   "cell_type": "markdown",
   "metadata": {},
   "source": [
    "IA & Data science -- 2017-2018\n",
    "--------\n",
    "*&copy; Equipe pédagogique: Ludovic Denoyer, Thibault Laugel, Marie-Jeanne Lesot, Christophe Marsala, Olivier Schwander*"
   ]
  },
  {
   "cell_type": "markdown",
   "metadata": {},
   "source": [
    "# TD-TME05: les arbres de décision\n",
    "\n",
    "L'objectif de ce TP est d'implémenter un algorithme d'apprentissage supervisé, l'algorithme de construction d'arbres de décision (cours 6).\n",
    "\n",
    "Comme pour les k-nn, nous allons nous restreindre à un cas binaire où les données sont étiquetées $+1$ ou $-1$. De plus, nous allons ne considérer que le cas où les attributs sont tous numériques."
   ]
  },
  {
   "cell_type": "markdown",
   "metadata": {},
   "source": [
    "<font size=\"+1\">**[Q]**</font> **Indiquer dans la boîte ci-dessous vos noms et prénoms :**"
   ]
  },
  {
   "cell_type": "markdown",
   "metadata": {},
   "source": [
    "Harb Hassan et Chrétien Clément"
   ]
  },
  {
   "cell_type": "markdown",
   "metadata": {},
   "source": [
    "<font color=\"RED\" size=\"+1\">IMPORTANT: soumission de votre fichier final</font>\n",
    "\n",
    "**Nom à donner au fichier à poster** : *Nom1_Nom2.ipynb* \n",
    "- *Nom1* et *Nom2* : noms des membres du binôme\n",
    "- ne pas compresser ou faire une archive: envoyer le fichier ipython tel quel, éventuellement, si vous avez d'autres fichiers à envoyer, vous les joignez au message."
   ]
  },
  {
   "cell_type": "markdown",
   "metadata": {},
   "source": [
    "## Préparation\n",
    "\n",
    "Copier l'archive dans votre répertoire de travail: <code>/users/Enseignants/marsala/iads/tp5.tgz</code>\n",
    "\n",
    "Décompresser l'archive, elle crée le répertoire \"tp5\" qui contient un fichier ipython à ouvrir (ce fichier-ci) et un sous-répertoire \"data\" contenant les bases d'apprentissage utilisées dans ce TP.\n",
    "\n",
    "Le but de ce TP est de compléter ce document ipython en ajoutant les fonctions demandées. Avant de commencer, exécuter le bloc suivant afin de pouvoir initialiser des variables utiles \n"
   ]
  },
  {
   "cell_type": "code",
   "execution_count": 320,
   "metadata": {
    "collapsed": true
   },
   "outputs": [],
   "source": [
    "# imports utiles\n",
    "import numpy as np\n",
    "import pandas as pd\n",
    "import random\n",
    "import math\n",
    "import copy"
   ]
  },
  {
   "cell_type": "markdown",
   "metadata": {
    "collapsed": true
   },
   "source": [
    "## Etape 1: Retour sur les TD-TME précédents\n",
    "\n",
    "Cette partie a été réalisée lors du TD-TME précédent, reprenez ce que vous avez fait en copier-collant votre travail de la semaine dernière.\n",
    "\n",
    "Reprendre la classe <code>LabeledSet</code> du TD_TME précédent pour stocker les données d'apprentissage, de validation et de test. Cette classe permet de stocker des couples $\\{(x_1,y_1),...,(x_n,y_n)\\}$. Les $x_i$ et $y_i$ seront des tableaux numpy. "
   ]
  },
  {
   "cell_type": "code",
   "execution_count": 164,
   "metadata": {
    "collapsed": true
   },
   "outputs": [],
   "source": [
    "class LabeledSet:  \n",
    "    \n",
    "    def __init__(self, input_dimension):\n",
    "        self.input_dimension = input_dimension\n",
    "        self.nb_examples = 0\n",
    "    \n",
    "    def addExample(self,vector,label):\n",
    "        if (self.nb_examples == 0):\n",
    "            self.x = np.array([vector])\n",
    "            self.y = np.array([label])\n",
    "        else:\n",
    "            self.x = np.vstack((self.x, vector))\n",
    "            self.y = np.vstack((self.y, label))\n",
    "        \n",
    "        self.nb_examples = self.nb_examples + 1\n",
    "    \n",
    "    #Renvoie la dimension de l'espace d'entrée\n",
    "    def getInputDimension(self):\n",
    "        return self.input_dimension\n",
    "    \n",
    "    #Renvoie le nombre d'exemples dans le set\n",
    "    def size(self):\n",
    "        return self.nb_examples\n",
    "    \n",
    "    #Renvoie la valeur de x_i\n",
    "    def getX(self, i):\n",
    "        return self.x[i]\n",
    "        \n",
    "    \n",
    "    #Renvouie la valeur de y_i\n",
    "    def getY(self, i):\n",
    "        return(self.y[i])\n",
    "    \n",
    "    \n",
    "    #Renvoie 2 labeledSet depuis 1 \n",
    "    def split(self, pourcent):\n",
    "        train = LabeledSet(self.input_dimension)\n",
    "        test = LabeledSet(self.input_dimension)\n",
    "        alea = [i for i in range(self.size())]\n",
    "        random.shuffle(alea)\n",
    "        for i in range(len(alea)):\n",
    "            if i < pourcent * self.size() / 100:\n",
    "                train.addExample(self.getX(alea[i]), self.getY(alea[i]))\n",
    "            else:\n",
    "                test.addExample(self.getX(alea[i]), self.getY(alea[i]))\n",
    "        return train, test"
   ]
  },
  {
   "cell_type": "code",
   "execution_count": 165,
   "metadata": {
    "collapsed": true
   },
   "outputs": [],
   "source": [
    "def plot_frontiere(set, classifier, step=20):\n",
    "    mmax = set.x.max(0)\n",
    "    mmin = set.x.min(0)\n",
    "    x1grid, x2grid = np.meshgrid(np.linspace(mmin[0], mmax[0], step), np.linspace(mmin[1], mmax[1], step))\n",
    "    grid = np.hstack((x1grid.reshape(x1grid.size, 1), x2grid.reshape(x2grid.size, 1)))\n",
    "    \n",
    "    # calcul de la prediction pour chaque point de la grille\n",
    "    res = np.array([classifier.predict(grid[i,:]) for i in range(len(grid)) ])\n",
    "    res = res.reshape(x1grid.shape)\n",
    "    # tracé des frontieres\n",
    "    plt.contourf(x1grid, x2grid, res, colors=[\"red\", \"cyan\"], levels=[-1000,0,1000], linewidth=2)\n",
    "\n",
    "    \n",
    "#Renvoie les points du labeledSet et en fonction de leur couleur\n",
    "def points(labeledSet):\n",
    "    xr = []\n",
    "    yr = []\n",
    "    xb = []\n",
    "    yb = []\n",
    "    for i in range(labeledSet.size()):  # Pour tous les exemples\n",
    "        if labeledSet.getY(i) == 1:  # Si l'exemple appartient a la classe +1 on l'ajoute dans les listes associees\n",
    "            xr.append(labeledSet.getX(i)[0])\n",
    "            yr.append(labeledSet.getX(i)[1])\n",
    "        else:\n",
    "            xb.append(labeledSet.getX(i)[0])\n",
    "            yb.append(labeledSet.getX(i)[1])\n",
    "    return xr, yr, xb, yb"
   ]
  },
  {
   "cell_type": "markdown",
   "metadata": {},
   "source": [
    "### Génération de données ''Jouet''\n",
    "\n",
    "Comme lors des TD_TME précédents, les fonctions seront testées sur des données \"jouet\" générées selon des distributions choisies à la main. Commençons par un dataset en 2 dimensions (entrée) et 1 dimension (sortie): $x_i \\in \\mathbb{R}^2$, $y_i \\in [-1;+1]$ telles que les données sont généres selon deux Gaussiennes. Pour cela, nous utiliserons la fonction numpy.random.multivariate_normal  - http://docs.scipy.org/doc/numpy/reference/generated/numpy.random.multivariate_normal.html \n",
    "\n",
    "* ''positive_center'' est le centre de la gaussienne des points positifs (vecteur de taille 2)\n",
    "* ''positive_sigma'' est la variance de la gaussienne (sous forme de matrice 2*2)\n",
    "* Idem pour ''negative''\n",
    "\n",
    "* Générer une premiere gaussienne associée au label $+1$\n",
    "* Y rajouter une seconde gaussienne associée au label $-1$\n",
    "\n",
    "<font size=\"+1\">**[Q]**</font>  Dans un premier temps, pour mettre au point les fonctions, génerer une base jouet assez petite (par exemple, 10 exemples de chaque classe)."
   ]
  },
  {
   "cell_type": "code",
   "execution_count": 311,
   "metadata": {
    "collapsed": false
   },
   "outputs": [
    {
     "data": {
      "image/png": "[encoded data removed]",
      "text/plain": [
       "<matplotlib.figure.Figure at 0x7f5dfc88ded0>"
      ]
     },
     "metadata": {},
     "output_type": "display_data"
    }
   ],
   "source": [
    "# Creation des Gaussiennes\n",
    "# Exemple avec deux gaussiennes qui se \"melangent\"\n",
    "mean1 = [1.5, 1.5]\n",
    "mean2 = [-1.5, -1.5]\n",
    "mat1 = np.random.multivariate_normal(mean1, [[3, 1],[1, 3]], 10).T\n",
    "mat2 = np.random.multivariate_normal(mean2, [[3, 1],[1, 3]], 10).T\n",
    "data = LabeledSet(2)\n",
    "for i in range(len(mat1[0])):  # On ajoute les exemples au labeledSet\n",
    "    data.addExample([mat1[0][i], mat1[1][i]], 1)\n",
    "    data.addExample([mat2[0][i], mat2[1][i]], -1)\n",
    "data_training, data_test = data.split(25)\n",
    "xra, yra, xba, yba = points(data_training)\n",
    "xrb, yrb, xbb, ybb = points(data_test)\n",
    "\n",
    "\n",
    "# Affichage\n",
    "plt.plot(xra, yra, 'bx')\n",
    "plt.plot(xba, yba, 'kx')\n",
    "plt.title(\"Affichage des deux gaussiennes\")\n",
    "plt.show()"
   ]
  },
  {
   "cell_type": "code",
   "execution_count": 167,
   "metadata": {
    "collapsed": false
   },
   "outputs": [
    {
     "data": {
      "text/plain": [
       "array([[10.88026468, 12.34554025],\n",
       "       [13.20308471,  8.99864064],\n",
       "       [11.77243099, 11.85622383],\n",
       "       [10.00097825,  8.91919169],\n",
       "       [ 8.7190292 , 10.60634117],\n",
       "       [10.2537262 ,  9.83545922],\n",
       "       [ 7.25212496,  8.17573628],\n",
       "       [11.98567808, 11.72032065],\n",
       "       [11.58275379, 10.22544509],\n",
       "       [ 9.25420423,  7.80996887]])"
      ]
     },
     "execution_count": 167,
     "metadata": {},
     "output_type": "execute_result"
    }
   ],
   "source": [
    "S= data.x[np.where(data.y == 1),:]\n",
    "S[0]"
   ]
  },
  {
   "cell_type": "markdown",
   "metadata": {},
   "source": [
    "Le dataset peut être affiché en utilisant matplotlib (pour vérifier). Nous utiliserons la commande matplotlib.pyplot.scatter permettant de dessiner un nuage de points - http://matplotlib.org/api/pyplot_api.html#matplotlib.pyplot.scatter -"
   ]
  },
  {
   "cell_type": "code",
   "execution_count": 313,
   "metadata": {
    "collapsed": false
   },
   "outputs": [],
   "source": [
    "import matplotlib.pyplot as plt\n",
    "%matplotlib inline \n",
    "\n",
    "def plot2DSet(set):\n",
    "    \"\"\" LabeledSet -> NoneType\n",
    "        Hypothèse: set est de dimension 2\n",
    "        affiche une représentation graphique du LabeledSet\n",
    "        remarque: l'ordre des labels dans set peut être quelconque\n",
    "    \"\"\"\n",
    "    S_pos = set.x[np.where(set.y == 1),:][0]      # tous les exemples de label +1\n",
    "    S_neg = set.x[np.where(set.y == -1),:][0]     # tous les exemples de label -1\n",
    "    plt.scatter(S_pos[:,0],S_pos[:,1],marker='o')\n",
    "    plt.scatter(S_neg[:,0],S_neg[:,1],marker='x')"
   ]
  },
  {
   "cell_type": "code",
   "execution_count": 314,
   "metadata": {
    "collapsed": false
   },
   "outputs": [
    {
     "data": {
      "image/png": "[encoded data removed]",
      "text/plain": [
       "<matplotlib.figure.Figure at 0x7f5dcdd2ec90>"
      ]
     },
     "metadata": {},
     "output_type": "display_data"
    }
   ],
   "source": [
    "# Essai de la fonction : (the_set : variable du dataset généré précédemment)\n",
    "plot2DSet(data)"
   ]
  },
  {
   "cell_type": "markdown",
   "metadata": {},
   "source": [
    "### Les classifieurs\n",
    "\n",
    "La classe <code>Classifier</code> sert toujours de classe de base: l'algorithme d'apprentissage par arbres de décision est un nouveau type de Classifier que l'on va créer.\n"
   ]
  },
  {
   "cell_type": "code",
   "execution_count": 170,
   "metadata": {
    "collapsed": true
   },
   "outputs": [],
   "source": [
    "class Classifier:\n",
    "    def __init__(self,input_dimension):\n",
    "        \"\"\" Constructeur \"\"\"\n",
    "        raise NotImplementedError(\"Please Implement this method\")\n",
    "    \n",
    "    \n",
    "    # Permet de calculer la prediction sur x => renvoie un score\n",
    "    def predict(self,x):\n",
    "        raise NotImplementedError(\"Please Implement this method\")\n",
    "\n",
    "    \n",
    "    # Permet d'entrainer le modele sur un ensemble de données\n",
    "    def train(self,labeledSet):\n",
    "        raise NotImplementedError(\"Please Implement this method\")\n",
    "    \n",
    "    #Permet de calculer la qualité du système \n",
    "    def accuracy(self, dataset):\n",
    "        nb_ok = 0\n",
    "        for i in range(dataset.size()):\n",
    "            output = self.predict(dataset.getX(i))\n",
    "            if (output * dataset.getY(i) > 0):\n",
    "                nb_ok = nb_ok + 1\n",
    "        acc = nb_ok / (dataset.size() * 1.0)\n",
    "        return acc    "
   ]
  },
  {
   "cell_type": "markdown",
   "metadata": {},
   "source": [
    "On reprend la fonction suivante, utilisée lors des TD-TME précédent, pour dessiner la frontière de décision d'un classifieur."
   ]
  },
  {
   "cell_type": "code",
   "execution_count": 171,
   "metadata": {
    "collapsed": false,
    "scrolled": true
   },
   "outputs": [],
   "source": [
    "def plot_frontiere(set,classifier,step=20):\n",
    "    \"\"\" LabeledSet * Classifier * int -> NoneType\n",
    "        Remarque: le 3e argument est optionnel et donne la \"résolution\" du tracé\n",
    "        affiche la frontière de décision associée au classifieur\n",
    "    \"\"\"\n",
    "    mmax = set.x.max(0)\n",
    "    mmin = set.x.min(0)\n",
    "    x1grid, x2grid = np.meshgrid(np.linspace(mmin[0], mmax[0], step), np.linspace(mmin[1], mmax[1], step))\n",
    "    grid = np.hstack((x1grid.reshape(x1grid.size, 1), x2grid.reshape(x2grid.size, 1)))\n",
    "    \n",
    "    # calcul de la prediction pour chaque point de la grille\n",
    "    res = np.array([classifier.predict(grid[i,:]) for i in range(len(grid)) ])\n",
    "    res = res.reshape(x1grid.shape)\n",
    "    # tracé des frontieres\n",
    "    plt.contourf(x1grid, x2grid, res, colors=[\"red\", \"cyan\"], levels=[-1000,0,1000], linewidth=2)    "
   ]
  },
  {
   "cell_type": "code",
   "execution_count": 172,
   "metadata": {
    "collapsed": false
   },
   "outputs": [
    {
     "ename": "NameError",
     "evalue": "name 'ClassifierRandom' is not defined",
     "output_type": "error",
     "traceback": [
      "\u001b[1;31m---------------------------------------------------------------------------\u001b[0m",
      "\u001b[1;31mNameError\u001b[0m                                 Traceback (most recent call last)",
      "\u001b[1;32m<ipython-input-172-77f62f3dbab5>\u001b[0m in \u001b[0;36m<module>\u001b[1;34m()\u001b[0m\n\u001b[0;32m      1\u001b[0m \u001b[1;31m# Exemple d'utilisation:\u001b[0m\u001b[1;33m\u001b[0m\u001b[1;33m\u001b[0m\u001b[0m\n\u001b[1;32m----> 2\u001b[1;33m \u001b[0mclassifieur_random\u001b[0m\u001b[1;33m=\u001b[0m\u001b[0mClassifierRandom\u001b[0m\u001b[1;33m(\u001b[0m\u001b[1;36m2\u001b[0m\u001b[1;33m)\u001b[0m   \u001b[1;31m# test avec la classe écrite dans les séances précédentes\u001b[0m\u001b[1;33m\u001b[0m\u001b[0m\n\u001b[0m\u001b[0;32m      3\u001b[0m \u001b[1;33m\u001b[0m\u001b[0m\n\u001b[0;32m      4\u001b[0m \u001b[0mclassifieur_random\u001b[0m\u001b[1;33m.\u001b[0m\u001b[0mtrain\u001b[0m\u001b[1;33m(\u001b[0m\u001b[0mthe_set\u001b[0m\u001b[1;33m)\u001b[0m        \u001b[1;31m# the_set a été initialisé précédemment\u001b[0m\u001b[1;33m\u001b[0m\u001b[0m\n\u001b[0;32m      5\u001b[0m \u001b[1;33m\u001b[0m\u001b[0m\n",
      "\u001b[1;31mNameError\u001b[0m: name 'ClassifierRandom' is not defined"
     ]
    }
   ],
   "source": [
    "# Exemple d'utilisation:\n",
    "classifieur_random=ClassifierRandom(2)   # test avec la classe écrite dans les séances précédentes\n",
    "\n",
    "classifieur_random.train(the_set)        # the_set a été initialisé précédemment\n",
    "\n",
    "plot_frontiere(the_set,classifieur_random)   # on trace la frontière\n",
    "plot2DSet(the_set)                           # on affiche le LabeledSet dessus\n"
   ]
  },
  {
   "cell_type": "markdown",
   "metadata": {},
   "source": [
    "<font size=\"+1\">**[Q]**</font> Ecrire la fonction <code>classe_majoritaire()</code> qui, étant donné un LabeledSet rend la classe majoritaire dans l'ensemble (celle qui est possédée par le plus grand nombre d'exemples donc...). En cas d'égalité, cette fonction rend la classe +1."
   ]
  },
  {
   "cell_type": "code",
   "execution_count": 262,
   "metadata": {
    "collapsed": false
   },
   "outputs": [],
   "source": [
    "def classe_majoritaire(labeledSet):\n",
    "    a = sum(1 for i in range(labeledSet.nb_examples) if labeledSet.getY(i) == 1)  # Nombre d'exemple ayant pour classe +1\n",
    "    b = sum(1 for i in range(labeledSet.nb_examples) if labeledSet.getY(i) == -1)\n",
    "    if b > a:   # Si il y a plus d'exemple de la classe -1 alors on retourne -1 sinon 1 \n",
    "        return -1\n",
    "    else:\n",
    "        return 1"
   ]
  },
  {
   "cell_type": "code",
   "execution_count": 174,
   "metadata": {
    "collapsed": false
   },
   "outputs": [
    {
     "data": {
      "text/plain": [
       "1"
      ]
     },
     "execution_count": 174,
     "metadata": {},
     "output_type": "execute_result"
    }
   ],
   "source": [
    "classe_majoritaire(data)"
   ]
  },
  {
   "cell_type": "markdown",
   "metadata": {},
   "source": [
    "## Etape 2: Arbres de décision\n",
    "\n",
    "Dans cet étape, on réalise l'implémentation de l'algorithme de construction d'un arbre de décision."
   ]
  },
  {
   "cell_type": "markdown",
   "metadata": {},
   "source": [
    "### Entropie et gain d'information\n",
    "\n",
    "Dans un premier temps, il est nécessaire écrire des fonctions pour calculer l'entropie et le gain d'information vus dans le cours 6.\n",
    "\n",
    "Etant donné une distribution de probabilités $P=(p_1, p_2,..., p_k)$, l'entropie de Shannon de cette distribution est donnée par:\n",
    "\n",
    "$ H_S(P) = -\\sum_{i=1}^{k} p_i \\log_k(p_i)$\n",
    "\n",
    "Par convention, on considère que $0\\log_k(0) = 0$. \n",
    "\n",
    "Le logarithme utilisé est le logarithme en base $k$ afin d'obtenir une valeur normalisée de l'entropie. La base du logarithme est donc $k$, le nombre de classes présentes dans la base au maximum.\n",
    "\n",
    "Dans ce qui suit, en Python, une *distribution de probabilités* est représentée par une liste $P=[p_1,...,p_k]$ de valeurs réelles telle que\n",
    "* pour tout $i=1,..., k$ : $0 \\leq p_i \\leq 1$\n",
    "* $\\sum_{i=1}^{k}p_i = 1$\n"
   ]
  },
  {
   "cell_type": "markdown",
   "metadata": {},
   "source": [
    "<font size=\"+1\">**[Q]**</font> Ecrire la fonction <code>shannon()</code> qui, étant donné une distribution de probabilités $P$, rend la valeur de l'entropie de Shannon correspondante.\n",
    "\n",
    "Remarque: pour nous, en Python, $P$ est représentée par une liste de $k$ valeurs de $[0, 1]$ telle que la somme de toutes les valeurs vaut $1$."
   ]
  },
  {
   "cell_type": "code",
   "execution_count": 175,
   "metadata": {
    "collapsed": false
   },
   "outputs": [],
   "source": [
    "def shannon(l):\n",
    "    return -sum(i*math.log(i, len(l)) for i in l if i > 0)  # Somme des donnees de la liste donnee en argument a l'aide\n",
    "                                                            # de la formule donnee"
   ]
  },
  {
   "cell_type": "code",
   "execution_count": 176,
   "metadata": {
    "collapsed": false
   },
   "outputs": [
    {
     "data": {
      "text/plain": [
       "-0.0"
      ]
     },
     "execution_count": 176,
     "metadata": {},
     "output_type": "execute_result"
    }
   ],
   "source": [
    "shannon([1, 0])"
   ]
  },
  {
   "cell_type": "code",
   "execution_count": 177,
   "metadata": {
    "collapsed": false
   },
   "outputs": [
    {
     "data": {
      "text/plain": [
       "1.0"
      ]
     },
     "execution_count": 177,
     "metadata": {},
     "output_type": "execute_result"
    }
   ],
   "source": [
    "shannon([0.5, 0.5])"
   ]
  },
  {
   "cell_type": "code",
   "execution_count": 178,
   "metadata": {
    "collapsed": false
   },
   "outputs": [
    {
     "data": {
      "text/plain": [
       "1.0"
      ]
     },
     "execution_count": 178,
     "metadata": {},
     "output_type": "execute_result"
    }
   ],
   "source": [
    "shannon([0.25, 0.25, 0.25, 0.25])"
   ]
  },
  {
   "cell_type": "code",
   "execution_count": 179,
   "metadata": {
    "collapsed": false
   },
   "outputs": [
    {
     "data": {
      "text/plain": [
       "0.5783898247235197"
      ]
     },
     "execution_count": 179,
     "metadata": {},
     "output_type": "execute_result"
    }
   ],
   "source": [
    "shannon([0.7, 0.1, 0.2, 0.0])"
   ]
  },
  {
   "cell_type": "code",
   "execution_count": 180,
   "metadata": {
    "collapsed": false
   },
   "outputs": [
    {
     "data": {
      "text/plain": [
       "0.9182958340544896"
      ]
     },
     "execution_count": 180,
     "metadata": {},
     "output_type": "execute_result"
    }
   ],
   "source": [
    "shannon([1.0/3, 2.0/3])"
   ]
  },
  {
   "cell_type": "markdown",
   "metadata": {},
   "source": [
    "<font size=\"+1\">**[Q]**</font> A l'aide de la fonction <code>shannon()</code>, écrire la fonction <code>entropie()</code> qui prend un LabeledSet en argument et renvoie l'entropie de sa distribution des classes dans cet ensemble."
   ]
  },
  {
   "cell_type": "code",
   "execution_count": 263,
   "metadata": {
    "collapsed": false
   },
   "outputs": [],
   "source": [
    "def entropie(labeledSet):\n",
    "    a = sum(1 for i in range(labeledSet.nb_examples) if labeledSet.getY(i) == 1)  # Nombre d'exemple ayant pour classe +1 \n",
    "    b = sum(1 for i in range(labeledSet.nb_examples) if labeledSet.getY(i) == -1)  \n",
    "    return shannon([float(a)/(a+b), float(b)/(a+b)])  # Taux de presence de chaque classe d'exemple"
   ]
  },
  {
   "cell_type": "code",
   "execution_count": 182,
   "metadata": {
    "collapsed": false
   },
   "outputs": [
    {
     "data": {
      "text/plain": [
       "1.0"
      ]
     },
     "execution_count": 182,
     "metadata": {},
     "output_type": "execute_result"
    }
   ],
   "source": [
    "entropie(data)"
   ]
  },
  {
   "cell_type": "markdown",
   "metadata": {},
   "source": [
    "### Discrétisation des attributs numériques"
   ]
  },
  {
   "cell_type": "markdown",
   "metadata": {
    "collapsed": true
   },
   "source": [
    "Discrétiser un attribut numérique consiste en trouver un seuil de coupure dans son ensemble de valeurs. Pour trouver ce seuil, on sélectionne le point de coupure qui optimise la distribution des classes des exemples de chaque côté du seuil.\n",
    "\n",
    "Par exemple, soit l'attribut Age contenant les valeurs 17, 18, 20, 27, 35, 37, 40. On discrétise cet attribut en 2 valeurs en déterminant un seuil de coupure comme, par exemple, le seuil 30: cela permet de séparer d'un côté les valeurs inférieures ou égales à 30, et de l'autre les valeurs strictement supérieures à 30.\n",
    "\n",
    "Soit $E$ un ensemble d'exemples, et soit $X$ un attribut que l'on veut discrétiser. Pour cela, on constitue l'ensemble des valeurs prises par les exemples de $E$ pour l'attribut $X$. Soit $X_E$ cet ensemble de valeurs.\n",
    "La discrétisation de $X_E$ s'effectue par les étapes suivantes:\n",
    "- Etape 1: ordonner de façon croissante les valeurs de $X_E$;\n",
    "- Etape 2: regarder tous les seuils possibles de coupure entre 2 valeurs consécutives de $X_E$ (on prend comme seuil de coupure la valeur entre ces 2 valeurs). Chaque seuil trouvé créé 2 intervalles qui générent 2 sous-ensembles de $E$: \n",
    "    1) l'ensemble $E_1$ des exemples dont la valeur pour l'attribut considéré et inférieure ou égale au seuil, et 2) l'ensemble $E_2$ des exemples dont la valeur pour l'attribut considéré et supérieure au seuil;\n",
    "    - pour chacun des seuils trouvés: \n",
    "        - calculer l'entropie de la distribution des classes pour les exemples de l'ensemble $E_1$, et l'entropie de la distribution des classes  pour les exemples de $E_2$;\n",
    "        - calculer l'entropie moyenne de la coupure engendrée par le seuil considéré:\n",
    "$$H_{moy}(coupure) = \\frac{|E_1|}{|E|} H_S(E_1) + \\frac{|E_2|}{|E|} H_S(E_2);$$\n",
    "\n",
    "\n",
    "La meilleure coupure pour discrétiser $X_E$ est celle qui minimise la valeur $H_{moy}(coupure)$.\n",
    "\n",
    "\n",
    "Par exemple, soit $E=\\{17, 18, 20, 27, 35, 37, 40\\}$, chaque valeur étant associées aux classes +1, +1, -1, -1, +1, +1, -1 respectivement. Un seuil de coupure possible est $31$ ($31 = \\frac{27+35}{2}$). Ce seuil coupe $E$ en $E_1=\\{17, 18, 20, 27\\}$ et $E_2=\\{35, 37, 40\\}$.\n",
    "\n",
    "- pour $E_1$, la probabilité de chaque classe est: $p(+1)= 0.5$ et $p(-1)=0.5$ donc, $H_S(E_1)=1$;\n",
    "- pour $E_2$, la probabilité de chaque classe est: $p(+1)= \\frac{1}{3}$ et $p(-1)=\\frac{2}{3}$ donc, $H_S(E_2)=0.9182958340544896$;\n",
    "- on a donc: $$H_{moy}(coupure par 31) = \\frac{4}{7} H_S(E_1) + \\frac{3}{7} H_S(E_2);$$\n",
    "soit $H_{moy}(coupure par 31) = 0.9182958340544896$"
   ]
  },
  {
   "cell_type": "markdown",
   "metadata": {},
   "source": [
    "On considère que the_set est un LabeledSet construit précédement. Il contient deux variables de type array: x et y.\n",
    "\n",
    "Regarder et tester les instructions suivantes, il faut bien comprendre comment elles fonctionnent car on va utiliser les mêmes principes dans les fonctions à écrire."
   ]
  },
  {
   "cell_type": "code",
   "execution_count": 183,
   "metadata": {
    "collapsed": false
   },
   "outputs": [
    {
     "data": {
      "text/plain": [
       "array([[11, 13],\n",
       "       [ 5, 11],\n",
       "       [ 1, 19],\n",
       "       [13,  7],\n",
       "       [15, 15],\n",
       "       [17, 17],\n",
       "       [19,  3],\n",
       "       [ 9,  1],\n",
       "       [ 7,  5],\n",
       "       [ 3,  9],\n",
       "       [12, 18],\n",
       "       [ 8, 12],\n",
       "       [18,  6],\n",
       "       [ 6,  2],\n",
       "       [10, 10],\n",
       "       [ 0, 16],\n",
       "       [16,  8],\n",
       "       [ 4, 14],\n",
       "       [14,  4],\n",
       "       [ 2,  0]])"
      ]
     },
     "execution_count": 183,
     "metadata": {},
     "output_type": "execute_result"
    }
   ],
   "source": [
    "ind= np.argsort(data.x,axis=0)   # Tri des valeurs de the_set.x selon les colonnes. \n",
    "                                    # La fonction rend un numpy.ndarray contenant autant de \n",
    "                                    # colonnes que the_set.x et dans chaque colonne, on a \n",
    "                                    # la position de l'exemple dans l'ordonnancement croissant.\n",
    "ind # pour afficher"
   ]
  },
  {
   "cell_type": "code",
   "execution_count": 184,
   "metadata": {
    "collapsed": false
   },
   "outputs": [
    {
     "data": {
      "text/plain": [
       "array([[-11.2405397 , -11.06598828],\n",
       "       [-11.06752522,  -8.4932766 ],\n",
       "       [-10.83749718,  -8.60695852],\n",
       "       [-10.43846506, -11.45623197],\n",
       "       [-10.20556255,  -9.72263726],\n",
       "       [-10.1814302 ,  -9.51330903],\n",
       "       [ -9.91875604, -10.50550037],\n",
       "       [ -8.88891592,  -8.39297785],\n",
       "       [ -8.56240026,  -9.72623371],\n",
       "       [ -7.70570587,  -9.36092813],\n",
       "       [  7.25212496,   8.17573628],\n",
       "       [  8.7190292 ,  10.60634117],\n",
       "       [  9.25420423,   7.80996887],\n",
       "       [ 10.00097825,   8.91919169],\n",
       "       [ 10.2537262 ,   9.83545922],\n",
       "       [ 10.88026468,  12.34554025],\n",
       "       [ 11.58275379,  10.22544509],\n",
       "       [ 11.77243099,  11.85622383],\n",
       "       [ 11.98567808,  11.72032065],\n",
       "       [ 13.20308471,   8.99864064]])"
      ]
     },
     "execution_count": 184,
     "metadata": {},
     "output_type": "execute_result"
    }
   ],
   "source": [
    "data.x[ind[0:len(data.x),0]]  # Rend le numpy.array des exemples de the_set.x ordonnés\n",
    "                                    # selon les indices donnés dans ind (colonne 0)\n"
   ]
  },
  {
   "cell_type": "code",
   "execution_count": 185,
   "metadata": {
    "collapsed": false
   },
   "outputs": [
    {
     "data": {
      "text/plain": [
       "array([[-1],\n",
       "       [-1],\n",
       "       [-1],\n",
       "       [-1],\n",
       "       [-1],\n",
       "       [-1],\n",
       "       [-1],\n",
       "       [-1],\n",
       "       [-1],\n",
       "       [-1],\n",
       "       [ 1],\n",
       "       [ 1],\n",
       "       [ 1],\n",
       "       [ 1],\n",
       "       [ 1],\n",
       "       [ 1],\n",
       "       [ 1],\n",
       "       [ 1],\n",
       "       [ 1],\n",
       "       [ 1]])"
      ]
     },
     "execution_count": 185,
     "metadata": {},
     "output_type": "execute_result"
    }
   ],
   "source": [
    "data.y[ind[0:len(data.y),0]]  # Rend le numpy.array des exemples de the_set.y ordonnés\n",
    "                                    # selon les indices donnés dans ind (colonne 0)"
   ]
  },
  {
   "cell_type": "code",
   "execution_count": 186,
   "metadata": {
    "collapsed": false
   },
   "outputs": [
    {
     "name": "stdout",
     "output_type": "stream",
     "text": [
      "('valeur=', -11.456231971205728, 'classe= ', -1)\n",
      "('valeur=', -11.06598828383721, 'classe= ', -1)\n",
      "('valeur=', -10.505500366503083, 'classe= ', -1)\n",
      "('valeur=', -9.72623370858072, 'classe= ', -1)\n",
      "('valeur=', -9.722637257240244, 'classe= ', -1)\n",
      "('valeur=', -9.513309028364434, 'classe= ', -1)\n",
      "('valeur=', -9.36092812833515, 'classe= ', -1)\n",
      "('valeur=', -8.606958521213633, 'classe= ', -1)\n",
      "('valeur=', -8.493276600772932, 'classe= ', -1)\n",
      "('valeur=', -8.392977849307307, 'classe= ', -1)\n",
      "('valeur=', 7.809968865358803, 'classe= ', 1)\n",
      "('valeur=', 8.175736282677187, 'classe= ', 1)\n",
      "('valeur=', 8.91919169311086, 'classe= ', 1)\n",
      "('valeur=', 8.998640644155413, 'classe= ', 1)\n",
      "('valeur=', 9.835459222655714, 'classe= ', 1)\n",
      "('valeur=', 10.22544508561473, 'classe= ', 1)\n",
      "('valeur=', 10.606341174922532, 'classe= ', 1)\n",
      "('valeur=', 11.720320646739092, 'classe= ', 1)\n",
      "('valeur=', 11.85622383445418, 'classe= ', 1)\n",
      "('valeur=', 12.345540254512542, 'classe= ', 1)\n"
     ]
    }
   ],
   "source": [
    "colonne = 1    # numéro de la colonne de the_set.x à considérer\n",
    "for v_i in ind[0:len(data.x)]:\n",
    "    i = v_i[colonne]\n",
    "    exem = data.getX(i)\n",
    "    clas = data.getY(i)\n",
    "    print(\"valeur=\",exem[colonne], \"classe= \", clas[0])"
   ]
  },
  {
   "cell_type": "markdown",
   "metadata": {},
   "source": [
    "Etant donné un LabeledSet, ainsi qu'un numéro de colonne à considérer (qui correspond à un des attributs de description), la fonction <code>discrétise()</code> rend un tuple constitué de la valeur de coupure qui minimise l'entropie de Shannon moyenne, et de la valeur de l'entropie trouvée."
   ]
  },
  {
   "cell_type": "code",
   "execution_count": 187,
   "metadata": {
    "collapsed": true
   },
   "outputs": [],
   "source": [
    "def discretise(LSet, col):\n",
    "    \"\"\" LabelledSet * int -> tuple[float, float]\n",
    "        col est le numéro de colonne sur X à discrétiser\n",
    "        rend la valeur de coupure qui minimise l'entropie ainsi que son entropie.\n",
    "    \"\"\"\n",
    "    # initialisation:\n",
    "    min_entropie = 1.1  # on met à une valeur max car on veut minimiser\n",
    "    min_seuil = 0.0     \n",
    "    # trie des valeurs:\n",
    "    ind= np.argsort(LSet.x,axis=0)\n",
    "    \n",
    "    # calcul des distributions des classes pour E1 et E2:\n",
    "    inf_plus  = 0               # nombre de +1 dans E1\n",
    "    inf_moins = 0               # nombre de -1 dans E1\n",
    "    sup_plus  = 0               # nombre de +1 dans E2\n",
    "    sup_moins = 0               # nombre de -1 dans E2       \n",
    "    # remarque: au départ on considère que E1 est vide et donc E2 correspond à E. \n",
    "    # Ainsi inf_plus et inf_moins valent 0. Il reste à calculer sup_plus et sup_moins \n",
    "    # dans E.\n",
    "    for j in range(0,LSet.size()):\n",
    "        if (LSet.getY(j) == -1):\n",
    "            sup_moins += 1\n",
    "        else:\n",
    "            sup_plus += 1\n",
    "    nb_total = (sup_plus + sup_moins) # nombre d'exemples total dans E\n",
    "    \n",
    "    # parcours pour trouver le meilleur seuil:\n",
    "    for i in range(len(LSet.x)-1):\n",
    "        v_ind_i = ind[i]   # vecteur d'indices\n",
    "        courant = LSet.getX(v_ind_i[col])[col]\n",
    "        lookahead = LSet.getX(ind[i+1][col])[col]\n",
    "        val_seuil = (courant + lookahead) / 2.0;\n",
    "        # M-A-J de la distrib. des classes:\n",
    "        # pour réduire les traitements: on retire un exemple de E2 et on le place\n",
    "        # dans E1, c'est ainsi que l'on déplace donc le seuil de coupure.\n",
    "        if LSet.getY(ind[i][col])[0] == -1:\n",
    "            inf_moins += 1\n",
    "            sup_moins -= 1\n",
    "        else:\n",
    "            inf_plus += 1\n",
    "            sup_plus -= 1\n",
    "        # calcul de la distribution des classes de chaque côté du seuil:\n",
    "        nb_inf = (inf_moins + inf_plus)*1.0     # rem: on en fait un float pour éviter\n",
    "        nb_sup = (sup_moins + sup_plus)*1.0     # que ce soit une division entière.\n",
    "        # calcul de l'entropie de la coupure\n",
    "        val_entropie_inf = shannon([inf_moins / nb_inf, inf_plus  / nb_inf])\n",
    "        val_entropie_sup = shannon([sup_moins / nb_sup, sup_plus  / nb_sup])\n",
    "        val_entropie = (nb_inf / nb_total) * val_entropie_inf + (nb_sup / nb_total) * val_entropie_sup\n",
    "        # si cette coupure minimise l'entropie, on mémorise ce seuil et son entropie:\n",
    "        if (min_entropie > val_entropie):\n",
    "            min_entropie = val_entropie\n",
    "            min_seuil = val_seuil\n",
    "    return (min_seuil, min_entropie)"
   ]
  },
  {
   "cell_type": "code",
   "execution_count": 188,
   "metadata": {
    "collapsed": false
   },
   "outputs": [
    {
     "data": {
      "text/plain": [
       "(-0.2267904562142089, -0.0)"
      ]
     },
     "execution_count": 188,
     "metadata": {},
     "output_type": "execute_result"
    }
   ],
   "source": [
    "discretise(data,0) # le résultat dépend, bien sûr, de la base jouet"
   ]
  },
  {
   "cell_type": "code",
   "execution_count": 189,
   "metadata": {
    "collapsed": false
   },
   "outputs": [
    {
     "data": {
      "text/plain": [
       "(-0.2915044919742522, -0.0)"
      ]
     },
     "execution_count": 189,
     "metadata": {},
     "output_type": "execute_result"
    }
   ],
   "source": [
    "discretise(data,1) # le résultat dépend, bien sûr, de la base jouet"
   ]
  },
  {
   "cell_type": "markdown",
   "metadata": {},
   "source": [
    "Une dernière fonction utile permet de diviser une base d'exemples en 2 sous-bases en utilisant un seuil sur la valeur d'un attribut donné.\n",
    "\n",
    "<font size=\"+1\">**[Q]**</font> Ecrire la fonction divise() dont la spécification est:\n",
    "\n",
    "    def divise(LSet,att,seuil):\n",
    "        \"\"\" LSet: LabeledSet\n",
    "            att : numéro d'attribut\n",
    "            seuil : valeur de seuil\n",
    "            rend le tuple contenant les 2 sous-LabeledSet obtenus par la\n",
    "            division de LSet selon le seuil sur l'attribut att\n",
    "        \"\"\"\n",
    "\n"
   ]
  },
  {
   "cell_type": "code",
   "execution_count": 196,
   "metadata": {
    "collapsed": true
   },
   "outputs": [],
   "source": [
    "def divise(LSet,att,seuil):\n",
    "    \"\"\" LSet: LabeledSet\n",
    "        att : numéro d'attribut\n",
    "        seuil : valeur de seuil\n",
    "        rend le tuple contenant les 2 sous-LabeledSet obtenus par la\n",
    "        division de LSet selon le seuil sur l'attribut att\n",
    "    \"\"\"\n",
    "    a = LabeledSet(2)\n",
    "    b = LabeledSet(2)\n",
    "    for i in range(LSet.size()):  # Pour chaque exemple on le range dans l'un des deux labeledSet\n",
    "        if LSet.getX(i)[att] <= seuil:  # Si il se trouve en dessous du seuil on le met dans l'un sinon dans l'autre\n",
    "            a.addExample(LSet.getX(i), LSet.getY(i))\n",
    "        else:\n",
    "            b.addExample(LSet.getX(i), LSet.getY(i))\n",
    "    return a, b  # Tuple contenant les deux labeledSet crees\n",
    "    "
   ]
  },
  {
   "cell_type": "code",
   "execution_count": 191,
   "metadata": {
    "collapsed": false
   },
   "outputs": [
    {
     "name": "stdout",
     "output_type": "stream",
     "text": [
      "('entropie inferieur:', -0.0, ' / entropie superieur:', -0.0)\n"
     ]
    }
   ],
   "source": [
    "Linf, Lsup = divise(data,0,-0.5)\n",
    "print(\"entropie inferieur:\",entropie(Linf),\" / entropie superieur:\", entropie(Lsup))\n",
    "# remarque: les résultats dépendent de votre base jouet..."
   ]
  },
  {
   "cell_type": "markdown",
   "metadata": {},
   "source": [
    "### Représentation d'un arbre en Python"
   ]
  },
  {
   "cell_type": "markdown",
   "metadata": {},
   "source": [
    "Un arbre de décision est doit être représenté en Python, pour cela, on utilise la classe <code>ArbreBinaire</code> suivante:"
   ]
  },
  {
   "cell_type": "code",
   "execution_count": 192,
   "metadata": {
    "collapsed": false
   },
   "outputs": [],
   "source": [
    "import graphviz as gv\n",
    "\n",
    "class ArbreBinaire:\n",
    "    def __init__(self):\n",
    "        self.attribut = None   # numéro de l'attribut\n",
    "        self.seuil = None\n",
    "        self.inferieur = None # ArbreBinaire Gauche (valeurs <= au seuil)\n",
    "        self.superieur = None # ArbreBinaire Droit (valeurs > au seuil)\n",
    "        self.classe = None # Classe si c'est une feuille: -1 ou +1\n",
    "        \n",
    "    def est_feuille(self):\n",
    "        \"\"\" rend True si l'arbre est une feuille \"\"\"\n",
    "        return self.seuil == None\n",
    "    \n",
    "    def ajoute_fils(self,ABinf,ABsup,att,seuil):\n",
    "        \"\"\" ABinf, ABsup: 2 arbres binaires\n",
    "            att: numéro d'attribut\n",
    "            seuil: valeur de seuil\n",
    "        \"\"\"\n",
    "        self.attribut = att\n",
    "        self.seuil = seuil\n",
    "        self.inferieur = ABinf\n",
    "        self.superieur = ABsup\n",
    "    \n",
    "    def ajoute_feuille(self,classe):\n",
    "        \"\"\" classe: -1 ou + 1\n",
    "        \"\"\"\n",
    "        self.classe = classe\n",
    "        \n",
    "    def classifie(self,exemple):\n",
    "        \"\"\" exemple : numpy.array\n",
    "            rend la classe de l'exemple: +1 ou -1\n",
    "        \"\"\"\n",
    "        if self.est_feuille():\n",
    "            return self.classe\n",
    "        if exemple[self.attribut] <= self.seuil:\n",
    "            return self.inferieur.classifie(exemple)\n",
    "        return self.superieur.classifie(exemple)\n",
    "    \n",
    "    def to_graph(self, g, prefixe='A'):\n",
    "        \"\"\" construit une représentation de l'arbre pour pouvoir\n",
    "            l'afficher\n",
    "        \"\"\"\n",
    "        if self.est_feuille():\n",
    "            g.node(prefixe,str(self.classe),shape='box')\n",
    "        else:\n",
    "            g.node(prefixe, str(self.attribut))\n",
    "            self.inferieur.to_graph(g,prefixe+\"g\")\n",
    "            self.superieur.to_graph(g,prefixe+\"d\")\n",
    "            g.edge(prefixe,prefixe+\"g\", '<='+ str(self.seuil))\n",
    "            g.edge(prefixe,prefixe+\"d\", '>'+ str(self.seuil))\n",
    "        \n",
    "        return g"
   ]
  },
  {
   "cell_type": "code",
   "execution_count": 193,
   "metadata": {
    "collapsed": false
   },
   "outputs": [
    {
     "name": "stdout",
     "output_type": "stream",
     "text": [
      "True\n"
     ]
    },
    {
     "data": {
      "image/svg+xml": [
       "<?xml version=\"1.0\" encoding=\"UTF-8\" standalone=\"no\"?>\n",
       "<!DOCTYPE svg PUBLIC \"-//W3C//DTD SVG 1.1//EN\"\n",
       " \"http://www.w3.org/Graphics/SVG/1.1/DTD/svg11.dtd\">\n",
       "<!-- Generated by graphviz version 2.38.0 (20140413.2041)\n",
       " -->\n",
       "<!-- Title: %3 Pages: 1 -->\n",
       "<svg width=\"134pt\" height=\"131pt\"\n",
       " viewBox=\"0.00 0.00 134.00 131.00\" xmlns=\"http://www.w3.org/2000/svg\" xmlns:xlink=\"http://www.w3.org/1999/xlink\">\n",
       "<g id=\"graph0\" class=\"graph\" transform=\"scale(1 1) rotate(0) translate(4 127)\">\n",
       "<title>%3</title>\n",
       "<polygon fill=\"white\" stroke=\"none\" points=\"-4,4 -4,-127 130,-127 130,4 -4,4\"/>\n",
       "<!-- A -->\n",
       "<g id=\"node1\" class=\"node\"><title>A</title>\n",
       "<ellipse fill=\"none\" stroke=\"black\" cx=\"63\" cy=\"-105\" rx=\"27\" ry=\"18\"/>\n",
       "<text text-anchor=\"middle\" x=\"63\" y=\"-101.3\" font-family=\"Times,serif\" font-size=\"14.00\">nom</text>\n",
       "</g>\n",
       "<!-- Ag -->\n",
       "<g id=\"node2\" class=\"node\"><title>Ag</title>\n",
       "<polygon fill=\"none\" stroke=\"black\" points=\"54,-36 0,-36 0,-0 54,-0 54,-36\"/>\n",
       "<text text-anchor=\"middle\" x=\"27\" y=\"-14.3\" font-family=\"Times,serif\" font-size=\"14.00\">1</text>\n",
       "</g>\n",
       "<!-- A&#45;&gt;Ag -->\n",
       "<g id=\"edge1\" class=\"edge\"><title>A&#45;&gt;Ag</title>\n",
       "<path fill=\"none\" stroke=\"black\" d=\"M49.171,-89.3516C44.2998,-83.4397 39.2368,-76.2955 36,-69 32.8522,-61.9053 30.8051,-53.78 29.4738,-46.171\"/>\n",
       "<polygon fill=\"black\" stroke=\"black\" points=\"32.9377,-45.6687 28.0661,-36.2603 26.0073,-46.6532 32.9377,-45.6687\"/>\n",
       "<text text-anchor=\"middle\" x=\"56.5\" y=\"-57.8\" font-family=\"Times,serif\" font-size=\"14.00\">&lt;=42.0</text>\n",
       "</g>\n",
       "<!-- Ad -->\n",
       "<g id=\"node3\" class=\"node\"><title>Ad</title>\n",
       "<polygon fill=\"none\" stroke=\"black\" points=\"126,-36 72,-36 72,-0 126,-0 126,-36\"/>\n",
       "<text text-anchor=\"middle\" x=\"99\" y=\"-14.3\" font-family=\"Times,serif\" font-size=\"14.00\">2</text>\n",
       "</g>\n",
       "<!-- A&#45;&gt;Ad -->\n",
       "<g id=\"edge2\" class=\"edge\"><title>A&#45;&gt;Ad</title>\n",
       "<path fill=\"none\" stroke=\"black\" d=\"M70.1124,-87.2067C75.1581,-75.2934 82.032,-59.0634 87.8086,-45.4242\"/>\n",
       "<polygon fill=\"black\" stroke=\"black\" points=\"91.102,-46.6225 91.7791,-36.0493 84.6563,-43.8925 91.102,-46.6225\"/>\n",
       "<text text-anchor=\"middle\" x=\"99.5\" y=\"-57.8\" font-family=\"Times,serif\" font-size=\"14.00\">&gt;42.0</text>\n",
       "</g>\n",
       "</g>\n",
       "</svg>\n"
      ],
      "text/plain": [
       "<graphviz.dot.Digraph at 0x7f5dd3edb290>"
      ]
     },
     "execution_count": 193,
     "metadata": {},
     "output_type": "execute_result"
    }
   ],
   "source": [
    "# Exemple d'utilisation: \n",
    "un_arbre= ArbreBinaire()\n",
    "un_arbre.ajoute_feuille(1)\n",
    "print(un_arbre.est_feuille())\n",
    "un_arbre1 = ArbreBinaire()\n",
    "un_arbre1.ajoute_feuille(2)\n",
    "un_arbre2 = ArbreBinaire()\n",
    "un_arbre2.ajoute_fils(un_arbre,un_arbre1,\"nom\",42.0)\n",
    "\n",
    "gtree = gv.Digraph(format='png')\n",
    "un_arbre2.to_graph(gtree)"
   ]
  },
  {
   "cell_type": "markdown",
   "metadata": {},
   "source": [
    "### Construction de l'arbre de décision"
   ]
  },
  {
   "cell_type": "markdown",
   "metadata": {},
   "source": [
    "Pour construire un arbre de décision, il faut réaliser les étapes suivantes:\n",
    "- si l'entropie de Shannon de la distribution des classes de l'ensemble courant est inférieure à epsilon (réel positif fixé et qui est un paramètre de l'algorithme), alors construire une feuille avec cet ensemble, la classe associée à cette feuille est la classe majoritaire;\n",
    "- sinon, pour chaque attribut, calculer le seuil de discrétisation et l'entropie de Shannon correspondante\n",
    "    - choisir l'attribut qui donne une valeur d'entropie minimale\n",
    "    - l'attribut choisi sert à constituer un noeud de l'arbre de décision, les arcs issus de ce noeud sont labeller par un test (inférieur ou égal ou supérieur) par rapport au seuil trouvé\n",
    "    \n",
    "    \n",
    "<font size=\"+1\">**[Q]**</font> Ecrire la fonction qui construit un arbre de décision (binaire) à partir d'une base d'exemples. En plus de la base d'exemples, on utilise un argument \"epsilon\" qui est un réel >0 et qui sert pour le critère d'arrêt.\n",
    "Cette fonction a la spécification suivante:\n",
    "\n",
    "    def construit_AD(LSet,epsilon):\n",
    "        \"\"\" LSet : LabeledSet\n",
    "            epsilon : seuil d'entropie pour le critère d'arrêt \n",
    "        \"\"\"\n"
   ]
  },
  {
   "cell_type": "code",
   "execution_count": 281,
   "metadata": {
    "collapsed": false
   },
   "outputs": [],
   "source": [
    "def construit_AD(LSet,epsilon):\n",
    "    \"\"\" LSet : LabeledSet\n",
    "        epsilon : seuil d'entropie pour le critère d'arrêt \n",
    "    \"\"\"\n",
    "    arbre = ArbreBinaire()  # On cree un arbreBinaire\n",
    "     \n",
    "        \n",
    "    if entropie(LSet) <= epsilon:  # Si l'entropie du lset est inferieur ou egal a l'epsilon que l'on a fixe \n",
    "        arbre.ajoute_feuille(classe_majoritaire(LSet))  # On ajoute une feuille qui aura pour label la classe majoritaire\n",
    "        return arbre  # On renvoie l'arbre \n",
    "    \n",
    "    \n",
    "    else:\n",
    "        min_ent = 2  # On fixe une entropie a 2 de cette facon on est certain de trouver plus petit\n",
    "        min_seuil = -1  \n",
    "        att = -1\n",
    "        \n",
    "        for i in range(len(LSet.getX(0))):  # Pour le nombre d'attribut du set\n",
    "            d = discretise(LSet, i)  # On discretise cet attribut\n",
    "            if min_ent > d[1]:  # Si l'entropie est plus petite\n",
    "                min_ent = d[1]\n",
    "                min_seuil = d[0]\n",
    "                att = i\n",
    "                \n",
    "        new_lset1, new_lset2 = divise(LSet, att, min_seuil)  # On cree 2 lset grace au parametre recuperer precedement\n",
    "        \n",
    "        #  On ajoute a l'arbre deux fils qui seront eux même des feuilles ou des arbres\n",
    "        arbre.ajoute_fils(construit_AD(new_lset1, epsilon), construit_AD(new_lset2, epsilon), att, min_seuil)\n",
    "        return arbre\n",
    "        \n",
    "        "
   ]
  },
  {
   "cell_type": "code",
   "execution_count": 282,
   "metadata": {
    "collapsed": false
   },
   "outputs": [
    {
     "data": {
      "image/svg+xml": [
       "<?xml version=\"1.0\" encoding=\"UTF-8\" standalone=\"no\"?>\n",
       "<!DOCTYPE svg PUBLIC \"-//W3C//DTD SVG 1.1//EN\"\n",
       " \"http://www.w3.org/Graphics/SVG/1.1/DTD/svg11.dtd\">\n",
       "<!-- Generated by graphviz version 2.38.0 (20140413.2041)\n",
       " -->\n",
       "<!-- Title: %3 Pages: 1 -->\n",
       "<svg width=\"399pt\" height=\"218pt\"\n",
       " viewBox=\"0.00 0.00 399.00 218.00\" xmlns=\"http://www.w3.org/2000/svg\" xmlns:xlink=\"http://www.w3.org/1999/xlink\">\n",
       "<g id=\"graph0\" class=\"graph\" transform=\"scale(1 1) rotate(0) translate(4 214)\">\n",
       "<title>%3</title>\n",
       "<polygon fill=\"white\" stroke=\"none\" points=\"-4,4 -4,-214 395,-214 395,4 -4,4\"/>\n",
       "<!-- A -->\n",
       "<g id=\"node1\" class=\"node\"><title>A</title>\n",
       "<ellipse fill=\"none\" stroke=\"black\" cx=\"108\" cy=\"-192\" rx=\"27\" ry=\"18\"/>\n",
       "<text text-anchor=\"middle\" x=\"108\" y=\"-188.3\" font-family=\"Times,serif\" font-size=\"14.00\">0</text>\n",
       "</g>\n",
       "<!-- Ag -->\n",
       "<g id=\"node2\" class=\"node\"><title>Ag</title>\n",
       "<polygon fill=\"none\" stroke=\"black\" points=\"54,-123 0,-123 0,-87 54,-87 54,-123\"/>\n",
       "<text text-anchor=\"middle\" x=\"27\" y=\"-101.3\" font-family=\"Times,serif\" font-size=\"14.00\">&#45;1</text>\n",
       "</g>\n",
       "<!-- A&#45;&gt;Ag -->\n",
       "<g id=\"edge3\" class=\"edge\"><title>A&#45;&gt;Ag</title>\n",
       "<path fill=\"none\" stroke=\"black\" d=\"M81.6529,-187.007C63.2683,-182.709 39.9624,-173.897 28,-156 23.5719,-149.375 22.1904,-141.073 22.2401,-133.149\"/>\n",
       "<polygon fill=\"black\" stroke=\"black\" points=\"25.7343,-133.356 22.994,-123.122 18.754,-132.831 25.7343,-133.356\"/>\n",
       "<text text-anchor=\"middle\" x=\"98\" y=\"-144.8\" font-family=\"Times,serif\" font-size=\"14.00\">&lt;=&#45;1.1472483156655906</text>\n",
       "</g>\n",
       "<!-- Ad -->\n",
       "<g id=\"node3\" class=\"node\"><title>Ad</title>\n",
       "<ellipse fill=\"none\" stroke=\"black\" cx=\"190\" cy=\"-105\" rx=\"27\" ry=\"18\"/>\n",
       "<text text-anchor=\"middle\" x=\"190\" y=\"-101.3\" font-family=\"Times,serif\" font-size=\"14.00\">1</text>\n",
       "</g>\n",
       "<!-- A&#45;&gt;Ad -->\n",
       "<g id=\"edge4\" class=\"edge\"><title>A&#45;&gt;Ad</title>\n",
       "<path fill=\"none\" stroke=\"black\" d=\"M130.583,-181.999C142.956,-176.13 157.802,-167.427 168,-156 174.016,-149.259 178.601,-140.611 181.987,-132.409\"/>\n",
       "<polygon fill=\"black\" stroke=\"black\" points=\"185.36,-133.377 185.538,-122.783 178.793,-130.954 185.36,-133.377\"/>\n",
       "<text text-anchor=\"middle\" x=\"243\" y=\"-144.8\" font-family=\"Times,serif\" font-size=\"14.00\">&gt;&#45;1.1472483156655906</text>\n",
       "</g>\n",
       "<!-- Adg -->\n",
       "<g id=\"node4\" class=\"node\"><title>Adg</title>\n",
       "<polygon fill=\"none\" stroke=\"black\" points=\"136,-36 82,-36 82,-0 136,-0 136,-36\"/>\n",
       "<text text-anchor=\"middle\" x=\"109\" y=\"-14.3\" font-family=\"Times,serif\" font-size=\"14.00\">&#45;1</text>\n",
       "</g>\n",
       "<!-- Ad&#45;&gt;Adg -->\n",
       "<g id=\"edge1\" class=\"edge\"><title>Ad&#45;&gt;Adg</title>\n",
       "<path fill=\"none\" stroke=\"black\" d=\"M163.653,-100.007C145.268,-95.7086 121.962,-86.8974 110,-69 105.572,-62.3749 104.19,-54.0734 104.24,-46.1492\"/>\n",
       "<polygon fill=\"black\" stroke=\"black\" points=\"107.734,-46.3563 104.994,-36.122 100.754,-45.8314 107.734,-46.3563\"/>\n",
       "<text text-anchor=\"middle\" x=\"180\" y=\"-57.8\" font-family=\"Times,serif\" font-size=\"14.00\">&lt;=&#45;1.8644572200364196</text>\n",
       "</g>\n",
       "<!-- Add -->\n",
       "<g id=\"node5\" class=\"node\"><title>Add</title>\n",
       "<polygon fill=\"none\" stroke=\"black\" points=\"299,-36 245,-36 245,-0 299,-0 299,-36\"/>\n",
       "<text text-anchor=\"middle\" x=\"272\" y=\"-14.3\" font-family=\"Times,serif\" font-size=\"14.00\">1</text>\n",
       "</g>\n",
       "<!-- Ad&#45;&gt;Add -->\n",
       "<g id=\"edge2\" class=\"edge\"><title>Ad&#45;&gt;Add</title>\n",
       "<path fill=\"none\" stroke=\"black\" d=\"M212.583,-94.9995C224.956,-89.1299 239.802,-80.4268 250,-69 255.926,-62.3598 260.463,-53.869 263.834,-45.7766\"/>\n",
       "<polygon fill=\"black\" stroke=\"black\" points=\"267.17,-46.8472 267.382,-36.2545 260.611,-44.4031 267.17,-46.8472\"/>\n",
       "<text text-anchor=\"middle\" x=\"325\" y=\"-57.8\" font-family=\"Times,serif\" font-size=\"14.00\">&gt;&#45;1.8644572200364196</text>\n",
       "</g>\n",
       "</g>\n",
       "</svg>\n"
      ],
      "text/plain": [
       "<graphviz.dot.Digraph at 0x7f5dfc89eb10>"
      ]
     },
     "execution_count": 282,
     "metadata": {},
     "output_type": "execute_result"
    }
   ],
   "source": [
    "#test de l'affichage \n",
    "abin = construit_AD(data,0.0)\n",
    "gtree = gv.Digraph(format='png')\n",
    "abin.to_graph(gtree)"
   ]
  },
  {
   "cell_type": "markdown",
   "metadata": {},
   "source": [
    "### Classification avec arbre de décision\n"
   ]
  },
  {
   "cell_type": "markdown",
   "metadata": {},
   "source": [
    "Pour classer un nouvel exemple avec un arbre de décision, il faut parcourir l'arbre, de la racine vers une feuille en respectant les tests rencontrés dans chaque arc. Une fois atteint une feuille, la classe de l'exemple est celle présente dans la feuille.\n",
    "\n",
    "La classe ArbreBinaire contient déjà une fonction <code>classifie</code> qui permet de classer un nouvel exemple et de renvoyer la classe +1 ou -1 selon le cas."
   ]
  },
  {
   "cell_type": "markdown",
   "metadata": {},
   "source": [
    "### Implémentation"
   ]
  },
  {
   "cell_type": "markdown",
   "metadata": {},
   "source": [
    "De la même façon que pour le knn, on définit le classifieur <code>ArbreDecision</code> (classe héritant de la classe Classifier vue lors du TD-TME 5) comme suit.\n",
    "\n",
    "Si toutes les fonctions précédentes ont été écrites correctement, il est maintenant possible de construire un arbre de décision à partir de la base jouet.\n"
   ]
  },
  {
   "cell_type": "markdown",
   "metadata": {},
   "source": [
    "## Applications à des données réelles"
   ]
  },
  {
   "cell_type": "code",
   "execution_count": 284,
   "metadata": {
    "collapsed": false
   },
   "outputs": [],
   "source": [
    "class ArbreDecision(Classifier):\n",
    "    # Constructeur\n",
    "    def __init__(self,epsilon):\n",
    "        # valeur seuil d'entropie pour arrêter la construction\n",
    "        self.epsilon= epsilon\n",
    "        self.racine = None\n",
    "    \n",
    "    # Permet de calculer la prediction sur x => renvoie un score\n",
    "    def predict(self,x):\n",
    "        # classification de l'exemple x avec l'arbre de décision\n",
    "        # on rend 0 (classe -1) ou 1 (classe 1)\n",
    "        classe = self.racine.classifie(x)\n",
    "        if (classe == 1):\n",
    "            return(1)\n",
    "        else:\n",
    "            return(-1)\n",
    "    \n",
    "    # Permet d'entrainer le modele sur un ensemble de données\n",
    "    def train(self,set):\n",
    "        # construction de l'arbre de décision \n",
    "        self.set=set\n",
    "        self.racine = construit_AD(set,self.epsilon)\n",
    "\n",
    "    # Permet d'afficher l'arbre\n",
    "    def plot(self):\n",
    "        gtree = gv.Digraph(format='png')\n",
    "        return self.racine.to_graph(gtree)\n",
    "        "
   ]
  },
  {
   "cell_type": "code",
   "execution_count": 315,
   "metadata": {
    "collapsed": false
   },
   "outputs": [
    {
     "data": {
      "image/png": "[encoded data removed]",
      "text/plain": [
       "<matplotlib.figure.Figure at 0x7f5dcde947d0>"
      ]
     },
     "metadata": {},
     "output_type": "display_data"
    }
   ],
   "source": [
    "# un exemple d'utilisation:\n",
    "ad=ArbreDecision(0.0)          # initialiation d'un arbre binaire qui utilisera epsilon= 0.0\n",
    "ad.train(data_training)              # construction de l'arbre à partir de la base jouet\n",
    "plot_frontiere(data_test,ad,20)  # tracé graphique de la frontière de décision\n",
    "plot2DSet(data_test) "
   ]
  },
  {
   "cell_type": "code",
   "execution_count": 289,
   "metadata": {
    "collapsed": false
   },
   "outputs": [
    {
     "data": {
      "image/svg+xml": [
       "<?xml version=\"1.0\" encoding=\"UTF-8\" standalone=\"no\"?>\n",
       "<!DOCTYPE svg PUBLIC \"-//W3C//DTD SVG 1.1//EN\"\n",
       " \"http://www.w3.org/Graphics/SVG/1.1/DTD/svg11.dtd\">\n",
       "<!-- Generated by graphviz version 2.38.0 (20140413.2041)\n",
       " -->\n",
       "<!-- Title: %3 Pages: 1 -->\n",
       "<svg width=\"575pt\" height=\"566pt\"\n",
       " viewBox=\"0.00 0.00 575.00 566.00\" xmlns=\"http://www.w3.org/2000/svg\" xmlns:xlink=\"http://www.w3.org/1999/xlink\">\n",
       "<g id=\"graph0\" class=\"graph\" transform=\"scale(1 1) rotate(0) translate(4 562)\">\n",
       "<title>%3</title>\n",
       "<polygon fill=\"white\" stroke=\"none\" points=\"-4,4 -4,-562 571,-562 571,4 -4,4\"/>\n",
       "<!-- A -->\n",
       "<g id=\"node1\" class=\"node\"><title>A</title>\n",
       "<ellipse fill=\"none\" stroke=\"black\" cx=\"108\" cy=\"-540\" rx=\"27\" ry=\"18\"/>\n",
       "<text text-anchor=\"middle\" x=\"108\" y=\"-536.3\" font-family=\"Times,serif\" font-size=\"14.00\">1</text>\n",
       "</g>\n",
       "<!-- Ag -->\n",
       "<g id=\"node2\" class=\"node\"><title>Ag</title>\n",
       "<polygon fill=\"none\" stroke=\"black\" points=\"54,-471 0,-471 0,-435 54,-435 54,-471\"/>\n",
       "<text text-anchor=\"middle\" x=\"27\" y=\"-449.3\" font-family=\"Times,serif\" font-size=\"14.00\">&#45;1</text>\n",
       "</g>\n",
       "<!-- A&#45;&gt;Ag -->\n",
       "<g id=\"edge11\" class=\"edge\"><title>A&#45;&gt;Ag</title>\n",
       "<path fill=\"none\" stroke=\"black\" d=\"M81.6529,-535.007C63.2683,-530.709 39.9624,-521.897 28,-504 23.5719,-497.375 22.1904,-489.073 22.2401,-481.149\"/>\n",
       "<polygon fill=\"black\" stroke=\"black\" points=\"25.7343,-481.356 22.994,-471.122 18.754,-480.831 25.7343,-481.356\"/>\n",
       "<text text-anchor=\"middle\" x=\"98\" y=\"-492.8\" font-family=\"Times,serif\" font-size=\"14.00\">&lt;=&#45;0.4564934775897068</text>\n",
       "</g>\n",
       "<!-- Ad -->\n",
       "<g id=\"node3\" class=\"node\"><title>Ad</title>\n",
       "<ellipse fill=\"none\" stroke=\"black\" cx=\"190\" cy=\"-453\" rx=\"27\" ry=\"18\"/>\n",
       "<text text-anchor=\"middle\" x=\"190\" y=\"-449.3\" font-family=\"Times,serif\" font-size=\"14.00\">1</text>\n",
       "</g>\n",
       "<!-- A&#45;&gt;Ad -->\n",
       "<g id=\"edge12\" class=\"edge\"><title>A&#45;&gt;Ad</title>\n",
       "<path fill=\"none\" stroke=\"black\" d=\"M130.583,-529.999C142.956,-524.13 157.802,-515.427 168,-504 174.016,-497.259 178.601,-488.611 181.987,-480.409\"/>\n",
       "<polygon fill=\"black\" stroke=\"black\" points=\"185.36,-481.377 185.538,-470.783 178.793,-478.954 185.36,-481.377\"/>\n",
       "<text text-anchor=\"middle\" x=\"244\" y=\"-492.8\" font-family=\"Times,serif\" font-size=\"14.00\">&gt;&#45;0.4564934775897068</text>\n",
       "</g>\n",
       "<!-- Adg -->\n",
       "<g id=\"node4\" class=\"node\"><title>Adg</title>\n",
       "<ellipse fill=\"none\" stroke=\"black\" cx=\"110\" cy=\"-366\" rx=\"27\" ry=\"18\"/>\n",
       "<text text-anchor=\"middle\" x=\"110\" y=\"-362.3\" font-family=\"Times,serif\" font-size=\"14.00\">0</text>\n",
       "</g>\n",
       "<!-- Ad&#45;&gt;Adg -->\n",
       "<g id=\"edge9\" class=\"edge\"><title>Ad&#45;&gt;Adg</title>\n",
       "<path fill=\"none\" stroke=\"black\" d=\"M163.791,-448.622C144.501,-444.613 119.538,-435.894 107,-417 102.47,-410.173 101.68,-401.598 102.492,-393.488\"/>\n",
       "<polygon fill=\"black\" stroke=\"black\" points=\"105.941,-394.081 104.215,-383.628 99.0459,-392.876 105.941,-394.081\"/>\n",
       "<text text-anchor=\"middle\" x=\"175\" y=\"-405.8\" font-family=\"Times,serif\" font-size=\"14.00\">&lt;=1.0623307989511754</text>\n",
       "</g>\n",
       "<!-- Add -->\n",
       "<g id=\"node13\" class=\"node\"><title>Add</title>\n",
       "<polygon fill=\"none\" stroke=\"black\" points=\"296,-384 242,-384 242,-348 296,-348 296,-384\"/>\n",
       "<text text-anchor=\"middle\" x=\"269\" y=\"-362.3\" font-family=\"Times,serif\" font-size=\"14.00\">1</text>\n",
       "</g>\n",
       "<!-- Ad&#45;&gt;Add -->\n",
       "<g id=\"edge10\" class=\"edge\"><title>Ad&#45;&gt;Add</title>\n",
       "<path fill=\"none\" stroke=\"black\" d=\"M212.006,-442.478C223.644,-436.54 237.458,-427.939 247,-417 252.85,-410.293 257.368,-401.785 260.744,-393.697\"/>\n",
       "<polygon fill=\"black\" stroke=\"black\" points=\"264.075,-394.781 264.308,-384.189 257.52,-392.324 264.075,-394.781\"/>\n",
       "<text text-anchor=\"middle\" x=\"320.5\" y=\"-405.8\" font-family=\"Times,serif\" font-size=\"14.00\">&gt;1.0623307989511754</text>\n",
       "</g>\n",
       "<!-- Adgg -->\n",
       "<g id=\"node5\" class=\"node\"><title>Adgg</title>\n",
       "<polygon fill=\"none\" stroke=\"black\" points=\"56,-297 2,-297 2,-261 56,-261 56,-297\"/>\n",
       "<text text-anchor=\"middle\" x=\"29\" y=\"-275.3\" font-family=\"Times,serif\" font-size=\"14.00\">&#45;1</text>\n",
       "</g>\n",
       "<!-- Adg&#45;&gt;Adgg -->\n",
       "<g id=\"edge7\" class=\"edge\"><title>Adg&#45;&gt;Adgg</title>\n",
       "<path fill=\"none\" stroke=\"black\" d=\"M83.6529,-361.007C65.2683,-356.709 41.9624,-347.897 30,-330 25.5719,-323.375 24.1904,-315.073 24.2401,-307.149\"/>\n",
       "<polygon fill=\"black\" stroke=\"black\" points=\"27.7343,-307.356 24.994,-297.122 20.754,-306.831 27.7343,-307.356\"/>\n",
       "<text text-anchor=\"middle\" x=\"100\" y=\"-318.8\" font-family=\"Times,serif\" font-size=\"14.00\">&lt;=&#45;2.4106128373918434</text>\n",
       "</g>\n",
       "<!-- Adgd -->\n",
       "<g id=\"node6\" class=\"node\"><title>Adgd</title>\n",
       "<ellipse fill=\"none\" stroke=\"black\" cx=\"192\" cy=\"-279\" rx=\"27\" ry=\"18\"/>\n",
       "<text text-anchor=\"middle\" x=\"192\" y=\"-275.3\" font-family=\"Times,serif\" font-size=\"14.00\">1</text>\n",
       "</g>\n",
       "<!-- Adg&#45;&gt;Adgd -->\n",
       "<g id=\"edge8\" class=\"edge\"><title>Adg&#45;&gt;Adgd</title>\n",
       "<path fill=\"none\" stroke=\"black\" d=\"M132.583,-355.999C144.956,-350.13 159.802,-341.427 170,-330 176.016,-323.259 180.601,-314.611 183.987,-306.409\"/>\n",
       "<polygon fill=\"black\" stroke=\"black\" points=\"187.36,-307.377 187.538,-296.783 180.793,-304.954 187.36,-307.377\"/>\n",
       "<text text-anchor=\"middle\" x=\"246\" y=\"-318.8\" font-family=\"Times,serif\" font-size=\"14.00\">&gt;&#45;2.4106128373918434</text>\n",
       "</g>\n",
       "<!-- Adgdg -->\n",
       "<g id=\"node7\" class=\"node\"><title>Adgdg</title>\n",
       "<polygon fill=\"none\" stroke=\"black\" points=\"133,-210 79,-210 79,-174 133,-174 133,-210\"/>\n",
       "<text text-anchor=\"middle\" x=\"106\" y=\"-188.3\" font-family=\"Times,serif\" font-size=\"14.00\">1</text>\n",
       "</g>\n",
       "<!-- Adgd&#45;&gt;Adgdg -->\n",
       "<g id=\"edge5\" class=\"edge\"><title>Adgd&#45;&gt;Adgdg</title>\n",
       "<path fill=\"none\" stroke=\"black\" d=\"M165.694,-274.818C145.954,-270.909 120.158,-262.229 107,-243 102.5,-236.424 101.098,-228.136 101.151,-220.209\"/>\n",
       "<polygon fill=\"black\" stroke=\"black\" points=\"104.646,-220.41 101.921,-210.171 97.6666,-219.874 104.646,-220.41\"/>\n",
       "<text text-anchor=\"middle\" x=\"181.5\" y=\"-231.8\" font-family=\"Times,serif\" font-size=\"14.00\">&lt;=0.028880461834161264</text>\n",
       "</g>\n",
       "<!-- Adgdd -->\n",
       "<g id=\"node8\" class=\"node\"><title>Adgdd</title>\n",
       "<ellipse fill=\"none\" stroke=\"black\" cx=\"278\" cy=\"-192\" rx=\"27\" ry=\"18\"/>\n",
       "<text text-anchor=\"middle\" x=\"278\" y=\"-188.3\" font-family=\"Times,serif\" font-size=\"14.00\">0</text>\n",
       "</g>\n",
       "<!-- Adgd&#45;&gt;Adgdd -->\n",
       "<g id=\"edge6\" class=\"edge\"><title>Adgd&#45;&gt;Adgdd</title>\n",
       "<path fill=\"none\" stroke=\"black\" d=\"M215.161,-269.726C228.539,-263.967 244.869,-255.131 256,-243 262.108,-236.343 266.717,-227.716 270.096,-219.508\"/>\n",
       "<polygon fill=\"black\" stroke=\"black\" points=\"273.476,-220.457 273.627,-209.864 266.902,-218.051 273.476,-220.457\"/>\n",
       "<text text-anchor=\"middle\" x=\"337.5\" y=\"-231.8\" font-family=\"Times,serif\" font-size=\"14.00\">&gt;0.028880461834161264</text>\n",
       "</g>\n",
       "<!-- Adgddg -->\n",
       "<g id=\"node9\" class=\"node\"><title>Adgddg</title>\n",
       "<polygon fill=\"none\" stroke=\"black\" points=\"220,-123 166,-123 166,-87 220,-87 220,-123\"/>\n",
       "<text text-anchor=\"middle\" x=\"193\" y=\"-101.3\" font-family=\"Times,serif\" font-size=\"14.00\">&#45;1</text>\n",
       "</g>\n",
       "<!-- Adgdd&#45;&gt;Adgddg -->\n",
       "<g id=\"edge3\" class=\"edge\"><title>Adgdd&#45;&gt;Adgddg</title>\n",
       "<path fill=\"none\" stroke=\"black\" d=\"M251.592,-187.644C232.133,-183.647 206.897,-174.933 194,-156 189.514,-149.414 188.116,-141.124 188.168,-133.198\"/>\n",
       "<polygon fill=\"black\" stroke=\"black\" points=\"191.663,-133.399 188.935,-123.162 184.683,-132.866 191.663,-133.399\"/>\n",
       "<text text-anchor=\"middle\" x=\"267.5\" y=\"-144.8\" font-family=\"Times,serif\" font-size=\"14.00\">&lt;=&#45;0.17169619508466383</text>\n",
       "</g>\n",
       "<!-- Adgddd -->\n",
       "<g id=\"node10\" class=\"node\"><title>Adgddd</title>\n",
       "<ellipse fill=\"none\" stroke=\"black\" cx=\"363\" cy=\"-105\" rx=\"27\" ry=\"18\"/>\n",
       "<text text-anchor=\"middle\" x=\"363\" y=\"-101.3\" font-family=\"Times,serif\" font-size=\"14.00\">0</text>\n",
       "</g>\n",
       "<!-- Adgdd&#45;&gt;Adgddd -->\n",
       "<g id=\"edge4\" class=\"edge\"><title>Adgdd&#45;&gt;Adgddd</title>\n",
       "<path fill=\"none\" stroke=\"black\" d=\"M301.103,-182.513C314.215,-176.723 330.127,-167.929 341,-156 347.086,-149.323 351.689,-140.691 355.07,-132.484\"/>\n",
       "<polygon fill=\"black\" stroke=\"black\" points=\"358.448,-133.438 358.605,-122.844 351.876,-131.028 358.448,-133.438\"/>\n",
       "<text text-anchor=\"middle\" x=\"420.5\" y=\"-144.8\" font-family=\"Times,serif\" font-size=\"14.00\">&gt;&#45;0.17169619508466383</text>\n",
       "</g>\n",
       "<!-- Adgdddg -->\n",
       "<g id=\"node11\" class=\"node\"><title>Adgdddg</title>\n",
       "<polygon fill=\"none\" stroke=\"black\" points=\"308,-36 254,-36 254,-0 308,-0 308,-36\"/>\n",
       "<text text-anchor=\"middle\" x=\"281\" y=\"-14.3\" font-family=\"Times,serif\" font-size=\"14.00\">1</text>\n",
       "</g>\n",
       "<!-- Adgddd&#45;&gt;Adgdddg -->\n",
       "<g id=\"edge1\" class=\"edge\"><title>Adgddd&#45;&gt;Adgdddg</title>\n",
       "<path fill=\"none\" stroke=\"black\" d=\"M336.726,-100.192C318.057,-95.9749 294.214,-87.1851 282,-69 277.557,-62.385 276.171,-54.0863 276.222,-46.1616\"/>\n",
       "<polygon fill=\"black\" stroke=\"black\" points=\"279.716,-46.3673 276.979,-36.1322 272.736,-45.8402 279.716,-46.3673\"/>\n",
       "<text text-anchor=\"middle\" x=\"353\" y=\"-57.8\" font-family=\"Times,serif\" font-size=\"14.00\">&lt;=0.04221193099046583</text>\n",
       "</g>\n",
       "<!-- Adgdddd -->\n",
       "<g id=\"node12\" class=\"node\"><title>Adgdddd</title>\n",
       "<polygon fill=\"none\" stroke=\"black\" points=\"473,-36 419,-36 419,-0 473,-0 473,-36\"/>\n",
       "<text text-anchor=\"middle\" x=\"446\" y=\"-14.3\" font-family=\"Times,serif\" font-size=\"14.00\">&#45;1</text>\n",
       "</g>\n",
       "<!-- Adgddd&#45;&gt;Adgdddd -->\n",
       "<g id=\"edge2\" class=\"edge\"><title>Adgddd&#45;&gt;Adgdddd</title>\n",
       "<path fill=\"none\" stroke=\"black\" d=\"M385.961,-95.0797C398.54,-89.2361 413.634,-80.5322 424,-69 429.95,-62.3811 434.494,-53.896 437.863,-45.8022\"/>\n",
       "<polygon fill=\"black\" stroke=\"black\" points=\"441.201,-46.8684 441.406,-36.2755 434.64,-44.4284 441.201,-46.8684\"/>\n",
       "<text text-anchor=\"middle\" x=\"500\" y=\"-57.8\" font-family=\"Times,serif\" font-size=\"14.00\">&gt;0.04221193099046583</text>\n",
       "</g>\n",
       "</g>\n",
       "</svg>\n"
      ],
      "text/plain": [
       "<graphviz.dot.Digraph at 0x7f5dcdec6d10>"
      ]
     },
     "execution_count": 289,
     "metadata": {},
     "output_type": "execute_result"
    }
   ],
   "source": [
    "ad.plot()"
   ]
  },
  {
   "cell_type": "markdown",
   "metadata": {},
   "source": [
    "<font size=\"+1\">**[Q]**</font> Appliquer l'algorithme des arbres de décision à des données réelles (par exemple, celles utilisées avec les k-nn) et comparer les résultats obtenus par les 2 algorithmes.\n",
    "\n",
    "Un autre exemple d'utilisation sur une base plus grande:"
   ]
  },
  {
   "cell_type": "code",
   "execution_count": 341,
   "metadata": {
    "collapsed": false,
    "scrolled": true
   },
   "outputs": [
    {
     "data": {
      "image/png": "[encoded data removed]",
      "text/plain": [
       "<matplotlib.figure.Figure at 0x7f5dcde69c10>"
      ]
     },
     "metadata": {},
     "output_type": "display_data"
    }
   ],
   "source": [
    "# Creation des Gaussiennes\n",
    "# Exemple avec deux gaussiennes qui se \"melangent\"\n",
    "mean1 = [2.5, 2.5]\n",
    "mean2 = [-2.5, -2.5]\n",
    "mat1 = np.random.multivariate_normal(mean1, [[3, 1],[1, 3]], 100).T\n",
    "mat2 = np.random.multivariate_normal(mean2, [[3, 1],[1, 3]], 100).T\n",
    "data2 = LabeledSet(2)\n",
    "for i in range(len(mat1[0])):  # On ajoute les exemples au labeledSet\n",
    "    data2.addExample([mat1[0][i], mat1[1][i]], 1)\n",
    "    data2.addExample([mat2[0][i], mat2[1][i]], -1)\n",
    "data_training2, data_test2 = data2.split(25)\n",
    "xra, yra, xba, yba = points(data_training2)\n",
    "xrb, yrb, xbb, ybb = points(data_test2)\n",
    "\n",
    "\n",
    "# Affichage\n",
    "plt.plot(xra, yra, 'bx')\n",
    "plt.plot(xba, yba, 'kx')\n",
    "plt.title(\"Affichage des deux gaussiennes\")\n",
    "plt.show()"
   ]
  },
  {
   "cell_type": "code",
   "execution_count": 342,
   "metadata": {
    "collapsed": false
   },
   "outputs": [
    {
     "data": {
      "image/svg+xml": [
       "<?xml version=\"1.0\" encoding=\"UTF-8\" standalone=\"no\"?>\n",
       "<!DOCTYPE svg PUBLIC \"-//W3C//DTD SVG 1.1//EN\"\n",
       " \"http://www.w3.org/Graphics/SVG/1.1/DTD/svg11.dtd\">\n",
       "<!-- Generated by graphviz version 2.38.0 (20140413.2041)\n",
       " -->\n",
       "<!-- Title: %3 Pages: 1 -->\n",
       "<svg width=\"644pt\" height=\"305pt\"\n",
       " viewBox=\"0.00 0.00 644.00 305.00\" xmlns=\"http://www.w3.org/2000/svg\" xmlns:xlink=\"http://www.w3.org/1999/xlink\">\n",
       "<g id=\"graph0\" class=\"graph\" transform=\"scale(1 1) rotate(0) translate(4 301)\">\n",
       "<title>%3</title>\n",
       "<polygon fill=\"white\" stroke=\"none\" points=\"-4,4 -4,-301 640,-301 640,4 -4,4\"/>\n",
       "<!-- A -->\n",
       "<g id=\"node1\" class=\"node\"><title>A</title>\n",
       "<ellipse fill=\"none\" stroke=\"black\" cx=\"272\" cy=\"-279\" rx=\"27\" ry=\"18\"/>\n",
       "<text text-anchor=\"middle\" x=\"272\" y=\"-275.3\" font-family=\"Times,serif\" font-size=\"14.00\">0</text>\n",
       "</g>\n",
       "<!-- Ag -->\n",
       "<g id=\"node2\" class=\"node\"><title>Ag</title>\n",
       "<ellipse fill=\"none\" stroke=\"black\" cx=\"190\" cy=\"-192\" rx=\"27\" ry=\"18\"/>\n",
       "<text text-anchor=\"middle\" x=\"190\" y=\"-188.3\" font-family=\"Times,serif\" font-size=\"14.00\">1</text>\n",
       "</g>\n",
       "<!-- A&#45;&gt;Ag -->\n",
       "<g id=\"edge7\" class=\"edge\"><title>A&#45;&gt;Ag</title>\n",
       "<path fill=\"none\" stroke=\"black\" d=\"M245.726,-274.192C227.057,-269.975 203.214,-261.185 191,-243 186.557,-236.385 185.171,-228.086 185.222,-220.162\"/>\n",
       "<polygon fill=\"black\" stroke=\"black\" points=\"188.716,-220.367 185.979,-210.132 181.736,-219.84 188.716,-220.367\"/>\n",
       "<text text-anchor=\"middle\" x=\"262\" y=\"-231.8\" font-family=\"Times,serif\" font-size=\"14.00\">&lt;=0.24671623322151714</text>\n",
       "</g>\n",
       "<!-- Ad -->\n",
       "<g id=\"node7\" class=\"node\"><title>Ad</title>\n",
       "<ellipse fill=\"none\" stroke=\"black\" cx=\"355\" cy=\"-192\" rx=\"27\" ry=\"18\"/>\n",
       "<text text-anchor=\"middle\" x=\"355\" y=\"-188.3\" font-family=\"Times,serif\" font-size=\"14.00\">1</text>\n",
       "</g>\n",
       "<!-- A&#45;&gt;Ad -->\n",
       "<g id=\"edge8\" class=\"edge\"><title>A&#45;&gt;Ad</title>\n",
       "<path fill=\"none\" stroke=\"black\" d=\"M294.961,-269.08C307.54,-263.236 322.634,-254.532 333,-243 339.04,-236.281 343.631,-227.638 347.015,-219.435\"/>\n",
       "<polygon fill=\"black\" stroke=\"black\" points=\"350.39,-220.398 350.561,-209.804 343.821,-217.979 350.39,-220.398\"/>\n",
       "<text text-anchor=\"middle\" x=\"410\" y=\"-231.8\" font-family=\"Times,serif\" font-size=\"14.00\">&gt;0.24671623322151714</text>\n",
       "</g>\n",
       "<!-- Agg -->\n",
       "<g id=\"node3\" class=\"node\"><title>Agg</title>\n",
       "<polygon fill=\"none\" stroke=\"black\" points=\"54,-123 0,-123 0,-87 54,-87 54,-123\"/>\n",
       "<text text-anchor=\"middle\" x=\"27\" y=\"-101.3\" font-family=\"Times,serif\" font-size=\"14.00\">&#45;1</text>\n",
       "</g>\n",
       "<!-- Ag&#45;&gt;Agg -->\n",
       "<g id=\"edge3\" class=\"edge\"><title>Ag&#45;&gt;Agg</title>\n",
       "<path fill=\"none\" stroke=\"black\" d=\"M162.999,-191.755C130.963,-191.182 77.775,-185.393 45,-156 38.359,-150.044 34.1668,-141.455 31.521,-133.071\"/>\n",
       "<polygon fill=\"black\" stroke=\"black\" points=\"34.8523,-131.969 28.9999,-123.137 28.0674,-133.691 34.8523,-131.969\"/>\n",
       "<text text-anchor=\"middle\" x=\"116\" y=\"-144.8\" font-family=\"Times,serif\" font-size=\"14.00\">&lt;=0.18954661654536276</text>\n",
       "</g>\n",
       "<!-- Agd -->\n",
       "<g id=\"node4\" class=\"node\"><title>Agd</title>\n",
       "<ellipse fill=\"none\" stroke=\"black\" cx=\"192\" cy=\"-105\" rx=\"27\" ry=\"18\"/>\n",
       "<text text-anchor=\"middle\" x=\"192\" y=\"-101.3\" font-family=\"Times,serif\" font-size=\"14.00\">1</text>\n",
       "</g>\n",
       "<!-- Ag&#45;&gt;Agd -->\n",
       "<g id=\"edge4\" class=\"edge\"><title>Ag&#45;&gt;Agd</title>\n",
       "<path fill=\"none\" stroke=\"black\" d=\"M190.405,-173.799C190.679,-162.163 191.046,-146.548 191.359,-133.237\"/>\n",
       "<polygon fill=\"black\" stroke=\"black\" points=\"194.86,-133.255 191.596,-123.175 187.862,-133.09 194.86,-133.255\"/>\n",
       "<text text-anchor=\"middle\" x=\"259\" y=\"-144.8\" font-family=\"Times,serif\" font-size=\"14.00\">&gt;0.18954661654536276</text>\n",
       "</g>\n",
       "<!-- Agdg -->\n",
       "<g id=\"node5\" class=\"node\"><title>Agdg</title>\n",
       "<polygon fill=\"none\" stroke=\"black\" points=\"140,-36 86,-36 86,-0 140,-0 140,-36\"/>\n",
       "<text text-anchor=\"middle\" x=\"113\" y=\"-14.3\" font-family=\"Times,serif\" font-size=\"14.00\">1</text>\n",
       "</g>\n",
       "<!-- Agd&#45;&gt;Agdg -->\n",
       "<g id=\"edge1\" class=\"edge\"><title>Agd&#45;&gt;Agdg</title>\n",
       "<path fill=\"none\" stroke=\"black\" d=\"M165.912,-99.7231C148.037,-95.2986 125.548,-86.4536 114,-69 109.603,-62.3542 108.23,-54.0469 108.278,-46.1236\"/>\n",
       "<polygon fill=\"black\" stroke=\"black\" points=\"111.772,-46.3336 109.026,-36.101 104.792,-45.8132 111.772,-46.3336\"/>\n",
       "<text text-anchor=\"middle\" x=\"182\" y=\"-57.8\" font-family=\"Times,serif\" font-size=\"14.00\">&lt;=0.4505850734334915</text>\n",
       "</g>\n",
       "<!-- Agdd -->\n",
       "<g id=\"node6\" class=\"node\"><title>Agdd</title>\n",
       "<polygon fill=\"none\" stroke=\"black\" points=\"299,-36 245,-36 245,-0 299,-0 299,-36\"/>\n",
       "<text text-anchor=\"middle\" x=\"272\" y=\"-14.3\" font-family=\"Times,serif\" font-size=\"14.00\">&#45;1</text>\n",
       "</g>\n",
       "<!-- Agd&#45;&gt;Agdd -->\n",
       "<g id=\"edge2\" class=\"edge\"><title>Agd&#45;&gt;Agdd</title>\n",
       "<path fill=\"none\" stroke=\"black\" d=\"M214.394,-94.5582C226.238,-88.6443 240.293,-80.0409 250,-69 255.876,-62.316 260.401,-53.8134 263.775,-45.7238\"/>\n",
       "<polygon fill=\"black\" stroke=\"black\" points=\"267.108,-46.8035 267.333,-36.211 260.551,-44.3508 267.108,-46.8035\"/>\n",
       "<text text-anchor=\"middle\" x=\"323.5\" y=\"-57.8\" font-family=\"Times,serif\" font-size=\"14.00\">&gt;0.4505850734334915</text>\n",
       "</g>\n",
       "<!-- Adg -->\n",
       "<g id=\"node8\" class=\"node\"><title>Adg</title>\n",
       "<polygon fill=\"none\" stroke=\"black\" points=\"380,-123 326,-123 326,-87 380,-87 380,-123\"/>\n",
       "<text text-anchor=\"middle\" x=\"353\" y=\"-101.3\" font-family=\"Times,serif\" font-size=\"14.00\">&#45;1</text>\n",
       "</g>\n",
       "<!-- Ad&#45;&gt;Adg -->\n",
       "<g id=\"edge5\" class=\"edge\"><title>Ad&#45;&gt;Adg</title>\n",
       "<path fill=\"none\" stroke=\"black\" d=\"M354.482,-173.911C354.318,-168.214 354.142,-161.834 354,-156 353.822,-148.652 353.652,-140.696 353.504,-133.338\"/>\n",
       "<polygon fill=\"black\" stroke=\"black\" points=\"357,-133.055 353.306,-123.125 350.001,-133.191 357,-133.055\"/>\n",
       "<text text-anchor=\"middle\" x=\"424\" y=\"-144.8\" font-family=\"Times,serif\" font-size=\"14.00\">&lt;=&#45;1.5135953395750124</text>\n",
       "</g>\n",
       "<!-- Add -->\n",
       "<g id=\"node9\" class=\"node\"><title>Add</title>\n",
       "<polygon fill=\"none\" stroke=\"black\" points=\"543,-123 489,-123 489,-87 543,-87 543,-123\"/>\n",
       "<text text-anchor=\"middle\" x=\"516\" y=\"-101.3\" font-family=\"Times,serif\" font-size=\"14.00\">1</text>\n",
       "</g>\n",
       "<!-- Ad&#45;&gt;Add -->\n",
       "<g id=\"edge6\" class=\"edge\"><title>Ad&#45;&gt;Add</title>\n",
       "<path fill=\"none\" stroke=\"black\" d=\"M382.208,-190.975C412.775,-189.542 462.254,-182.82 494,-156 501.081,-150.017 505.963,-141.314 509.291,-132.839\"/>\n",
       "<polygon fill=\"black\" stroke=\"black\" points=\"512.672,-133.766 512.524,-123.173 506.033,-131.546 512.672,-133.766\"/>\n",
       "<text text-anchor=\"middle\" x=\"570\" y=\"-144.8\" font-family=\"Times,serif\" font-size=\"14.00\">&gt;&#45;1.5135953395750124</text>\n",
       "</g>\n",
       "</g>\n",
       "</svg>\n"
      ],
      "text/plain": [
       "<graphviz.dot.Digraph at 0x7f5dfc25dd90>"
      ]
     },
     "execution_count": 342,
     "metadata": {},
     "output_type": "execute_result"
    }
   ],
   "source": [
    "adautre.plot()"
   ]
  },
  {
   "cell_type": "markdown",
   "metadata": {},
   "source": [
    "### Améliorations (facultatif)"
   ]
  },
  {
   "cell_type": "markdown",
   "metadata": {},
   "source": [
    "Adapter votre algorithme afin de pouvoir construire des arbres de décision avec des attributs catégoriels."
   ]
  },
  {
   "cell_type": "markdown",
   "metadata": {},
   "source": [
    "## Etape 3: Expérimentation"
   ]
  },
  {
   "cell_type": "markdown",
   "metadata": {
    "collapsed": true
   },
   "source": [
    "Comparez le résultat obtenu avec ceux obtenus avec les 2 classifiers implémentés lors des TD-TME précédents. Ensuite, utilisez votre implémentation sur d'autres bases de données que vous avez déjà trouvées ou que vous pourrez trouver sur le web."
   ]
  },
  {
   "cell_type": "code",
   "execution_count": 336,
   "metadata": {
    "collapsed": true
   },
   "outputs": [],
   "source": [
    "import scipy.spatial\n",
    "\n",
    "class KNN(Classifier):\n",
    "    def __init__(self, input_dimension, k, lset):\n",
    "        self.input_dimension = input_dimension\n",
    "        self.k = k\n",
    "        self.data = []\n",
    "        self.labeledSet = lset\n",
    "        \n",
    "    def train(self, labeledSet):\n",
    "        for i in range(labeledSet.size()):\n",
    "            self.data.append((labeledSet.getX(i), labeledSet.getY(i)))\n",
    "        \n",
    "    def predict(self, x):\n",
    "        dist = []\n",
    "        for i in range(self.labeledSet.size()):\n",
    "            d = scipy.spatial.distance.euclidean(x, self.labeledSet.getX(i))\n",
    "            if d != 0:\n",
    "                dist.append(d)\n",
    "        dist = np.argsort(dist)\n",
    "        somme = 0\n",
    "        for i in range(self.k):\n",
    "            somme += self.labeledSet.getY(dist[i])\n",
    "        if somme < 0:\n",
    "            return -1\n",
    "        else:\n",
    "            return 1"
   ]
  },
  {
   "cell_type": "code",
   "execution_count": 334,
   "metadata": {
    "collapsed": false
   },
   "outputs": [],
   "source": [
    "class KernelPoly:\n",
    "    def transform(self,x):\n",
    "            return np.asarray([x[0], x[1], x[0]*x[1], x[0]**2, x[1]**2, 1])\n",
    "\n",
    "class PerceptronKernel(Classifier):\n",
    "    def __init__(self,dimension_kernel,learning_rate,kernel, nb_iterations):\n",
    "        self.dimension_kernel = dimension_kernel\n",
    "        self.learning_rate = learning_rate\n",
    "        self.kernel = kernel\n",
    "        self.w = np.random.rand(dimension_kernel) * 2 - 1\n",
    "        self.nb_iterations = nb_iterations\n",
    "        \n",
    "    #Permet de calculer la prediction sur x => renvoie un score\n",
    "    def predict(self,x):\n",
    "        x = self.kernel.transform(x)\n",
    "        a = sum(self.w[i]*x[i] for i in range(len(x)))\n",
    "        return a\n",
    "    \n",
    "    #Permet d'entrainer le modele sur un ensemble de données\n",
    "    def train(self,labeledSet):\n",
    "        alea = [k for k in range(labeledSet.size())]\n",
    "        random.shuffle(alea)\n",
    "        for j in alea:\n",
    "            t = self.kernel.transform(labeledSet.getX(j))\n",
    "            if self.predict(t)*labeledSet.getY(j) < 0:\n",
    "                self.w = self.w + self.learning_rate * labeledSet.getY(j) * t     \n",
    "    \n",
    "    \n",
    "    def iterate(self, test, training):\n",
    "        train_acc = []\n",
    "        test_acc = []\n",
    "        train_acc.append(self.accuracy(training))\n",
    "        test_acc.append(self.accuracy(test))\n",
    "        for i in range(self.nb_iterations):\n",
    "            old_w = copy.deepcopy(self.w)\n",
    "            self.train(training)\n",
    "            train_acc.append(self.accuracy(training))\n",
    "            test_acc.append(self.accuracy(test))\n",
    "            if np.array_equal(old_w, self.w):\n",
    "                break\n",
    "        return test_acc, train_acc                     \n",
    "        "
   ]
  },
  {
   "cell_type": "code",
   "execution_count": 340,
   "metadata": {
    "collapsed": false
   },
   "outputs": [
    {
     "data": {
      "image/png": "[encoded data removed]",
      "text/plain": [
       "<matplotlib.figure.Figure at 0x7f5dfc1ecd50>"
      ]
     },
     "metadata": {},
     "output_type": "display_data"
    },
    {
     "data": {
      "image/png": "[encoded data removed]",
      "text/plain": [
       "<matplotlib.figure.Figure at 0x7f5dfc607b90>"
      ]
     },
     "metadata": {},
     "output_type": "display_data"
    },
    {
     "data": {
      "image/png": "[encoded data removed]",
      "text/plain": [
       "<matplotlib.figure.Figure at 0x7f5dfc57e2d0>"
      ]
     },
     "metadata": {},
     "output_type": "display_data"
    }
   ],
   "source": [
    "# Affichage après itération\n",
    "\n",
    "\n",
    "# Affichage des donnees avec utilisation du classifieur Perceptron avec kernel trick\n",
    "k=KernelPoly()\n",
    "perceptron_k=PerceptronKernel(6, 0.0003, k, 1000)\n",
    "perceptron_k.iterate(data_test2, data_training2)\n",
    "plt.plot(xrb, yrb, 'bx')\n",
    "plt.plot(xbb, ybb, 'kx')\n",
    "plt.title(\"Test apres apprentissage PERCEPTRON KERNEL\")\n",
    "plot_frontiere(data_test2, perceptron_k)\n",
    "plt.show()\n",
    "\n",
    "# Affichage des donnees avec utilisation du classifieur Arbre de Decision\n",
    "adautre=ArbreDecision(0.0)          \n",
    "adautre.train(data_training2)            \n",
    "plot_frontiere(data_test2,adautre,20)\n",
    "plt.title(\"Test apres apprentissage ARBRE DE DECISION\")\n",
    "plot2DSet(data_test2)\n",
    "plt.show()\n",
    "\n",
    "# Affichage des donnees avec utilisation du classifieur K-NN\n",
    "knn = KNN(2, 2, data2)\n",
    "knn.train(data_training2)\n",
    "plot_frontiere(data_test2,knn,20)\n",
    "plt.title(\"Test apres apprentissage K-NN\")\n",
    "plot2DSet(data_test2) "
   ]
  }
 ],
 "metadata": {
  "kernelspec": {
   "display_name": "Python 2",
   "language": "python",
   "name": "python2"
  },
  "language_info": {
   "codemirror_mode": {
    "name": "ipython",
    "version": 2
   },
   "file_extension": ".py",
   "mimetype": "text/x-python",
   "name": "python",
   "nbconvert_exporter": "python",
   "pygments_lexer": "ipython2",
   "version": "2.7.9"
  }
 },
 "nbformat": 4,
 "nbformat_minor": 0
}
