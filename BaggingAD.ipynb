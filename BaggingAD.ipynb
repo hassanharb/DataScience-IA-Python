{
 "cells": [
  {
   "cell_type": "markdown",
   "metadata": {},
   "source": [
    "IA & Data science -- 2017-2018\n",
    "--------\n",
    "*&copy; Equipe pédagogique: Ludovic Denoyer, Thibault Laugel, Marie-Jeanne Lesot, Christophe Marsala, Olivier Schwander*"
   ]
  },
  {
   "cell_type": "markdown",
   "metadata": {},
   "source": [
    "# TD-TME06: méthodes d'ensembles\n",
    "\n",
    "L'objectif de ce TP est d'implémenter des méthodes d'ensembles et de les évaluer: l'algorithme de bagging appliqué aux arbres de décision, dans un premier temps, puis au perceptron ensuite.\n",
    "\n",
    "Comme précédemment, on se restreint au cas binaire où les données sont étiquetées $+1$ ou $-1$. De plus, on ne considére que le cas où les attributs sont tous numériques."
   ]
  },
  {
   "cell_type": "markdown",
   "metadata": {},
   "source": [
    "<font size=\"+1\">**[Q]**</font> **Indiquer dans la boîte ci-dessous vos noms et prénoms :**"
   ]
  },
  {
   "cell_type": "markdown",
   "metadata": {},
   "source": [
    "Harb Hassan et Clément Chrétien"
   ]
  },
  {
   "cell_type": "markdown",
   "metadata": {},
   "source": [
    "<font color=\"RED\" size=\"+1\">IMPORTANT: soumission de votre fichier final</font>\n",
    "\n",
    "**Nom à donner au fichier à poster** : *Nom1_Nom2.ipynb* \n",
    "- *Nom1* et *Nom2* : noms des membres du binôme\n",
    "- ne pas compresser ou faire une archive: envoyer le fichier ipython tel quel, éventuellement, si vous avez d'autres fichiers à envoyer, vous les joignez au message."
   ]
  },
  {
   "cell_type": "markdown",
   "metadata": {},
   "source": [
    "## Questions de cours (à faire chez vous, sur papier)\n",
    "\n",
    "Pour vous entraîner sans machine... *(exercice de l'examen 2017)*\n",
    "\n",
    "Soit $V=\\{v_{1}, v_{2},..., v_{n}\\}$ un ensemble de $n$ valeurs réelles ordonnées,\n",
    "  telles que $v_1 \\geq v_2 \\geq \\ldots \\geq v_{n}$.. On note $\\bar{v}$ la valeur moyenne de $V$. La variance de $V$, $var(V)$ est définie par:\n",
    "$var(V) = \\frac{1}{n} \\sum_{i=1}^{n} (v_{i} - \\bar{v})^2$. \n",
    "\n",
    "Et soit $W=\\{w_{1}, w_{2},..., w_{n}\\}$ tel que,pour tout $i=1,...,n$.\n",
    "\n",
    "\n",
    "** [Q] ** Donner l'expression de $\\bar{v}$ en fonction des valeurs de $V$.\n",
    "\n",
    "** [Q] **  Montrer que $var(aV+b) = a^2 var(V)$.\n",
    "\n",
    "** [Q] ** Donner l'expression de $V\\cdot W$ (le produit scalaire) en fonction des coordonnées\n",
    "   de $V$ et de $W$.\n",
    "   \n",
    "** [Q] ** Comment doit-on définir $W$ si on souhaite que $V\\cdot W = \\bar{v}$ ?\n",
    "\n",
    "\n",
    "** [Q] ** Comment doit-on définir $W$ si on souhaite que\n",
    "   $V\\cdot W = \\displaystyle\\max_{i=1,...n} v_i$ ? Même question si on souhaite que\n",
    "   $V\\cdot W = \\displaystyle\\min_{i=1,...n} v_i$ ?\n",
    "\n",
    "** [Q] ** Soit un entier $k$ tel que $0<k\\leq n$. Proposer une définition de $W$ qui, par le\n",
    "   calcul du produit scalaire, permet de ne tenir compte, de façon équitable, que des $k$\n",
    "   valeurs les plus élevées de $V$.\n",
    "\n"
   ]
  },
  {
   "cell_type": "markdown",
   "metadata": {},
   "source": [
    "## Préparation\n"
   ]
  },
  {
   "cell_type": "code",
   "execution_count": 1,
   "metadata": {
    "collapsed": true
   },
   "outputs": [],
   "source": [
    "#imports utiles\n",
    "import numpy as np\n",
    "import pandas as pd"
   ]
  },
  {
   "cell_type": "markdown",
   "metadata": {},
   "source": [
    "On utilise la classe <code>LabeledSet</code> pour stocker les données d'apprentissage, de validation et de test."
   ]
  },
  {
   "cell_type": "code",
   "execution_count": 2,
   "metadata": {
    "collapsed": true
   },
   "outputs": [],
   "source": [
    "class LabeledSet:  \n",
    "    \n",
    "    def __init__(self, input_dimension):\n",
    "        self.input_dimension = input_dimension\n",
    "        self.nb_examples = 0\n",
    "    \n",
    "    def addExample(self,vector,label):\n",
    "        if (self.nb_examples == 0):\n",
    "            self.x = np.array([vector])\n",
    "            self.y = np.array([label])\n",
    "        else:\n",
    "            self.x = np.vstack((self.x, vector))\n",
    "            self.y = np.vstack((self.y, label))\n",
    "        \n",
    "        self.nb_examples = self.nb_examples + 1\n",
    "    \n",
    "    #Renvoie la dimension de l'espace d'entrée\n",
    "    def getInputDimension(self):\n",
    "        return self.input_dimension\n",
    "    \n",
    "    #Renvoie le nombre d'exemples dans le set\n",
    "    def size(self):\n",
    "        return self.nb_examples\n",
    "    \n",
    "    #Renvoie la valeur de x_i\n",
    "    def getX(self, i):\n",
    "        return self.x[i]\n",
    "        \n",
    "    \n",
    "    #Renvouie la valeur de y_i\n",
    "    def getY(self, i):\n",
    "        return(self.y[i])"
   ]
  },
  {
   "cell_type": "markdown",
   "metadata": {},
   "source": [
    "Pour tester les fonctions à implémenter dans cette séance, on utilise la base d'exemples suivante :"
   ]
  },
  {
   "cell_type": "code",
   "execution_count": 3,
   "metadata": {
    "collapsed": false
   },
   "outputs": [],
   "source": [
    "# Base d'exemples pour tester les fonctions:\n",
    "set_exemples = LabeledSet(2)\n",
    "set_exemples.addExample([2.10492662303,1.10648470933],1)\n",
    "set_exemples.addExample([0.297525816499,-0.662504551625],1)\n",
    "set_exemples.addExample([1.6694258992,0.313687975072],1)\n",
    "set_exemples.addExample([1.20583098523,3.50817309097],1)\n",
    "set_exemples.addExample([1.13739407316,1.96688273992],1)\n",
    "set_exemples.addExample([2.32319808376,0.536577798714],1)\n",
    "set_exemples.addExample([-0.953004346997,0.596926923927],1)\n",
    "set_exemples.addExample([1.00574784804,-0.0959606771199],1)\n",
    "set_exemples.addExample([0.747509778063,0.429544908608],1)\n",
    "set_exemples.addExample([1.39048336283,0.442578873406],1)\n",
    "set_exemples.addExample([0.0470799329584,-1.97596265858],-1)\n",
    "set_exemples.addExample([-0.673998013071,0.0693931940855],-1)\n",
    "set_exemples.addExample([-0.84587451642,0.761766191612],-1)\n",
    "set_exemples.addExample([-1.39596839858,-0.943807082082],-1)\n",
    "set_exemples.addExample([0.319301767707,0.566169775123],-1)\n",
    "set_exemples.addExample([1.43459714786,0.935712030926],-1)\n",
    "set_exemples.addExample([-1.69323475458,-1.89563184035],-1)\n",
    "set_exemples.addExample([0.81167008598,-1.17927660655],-1)\n",
    "set_exemples.addExample([-1.03264043689,-1.08118488864],-1)\n",
    "set_exemples.addExample([0.609517439986,-2.88593327349],-1)"
   ]
  },
  {
   "cell_type": "markdown",
   "metadata": {},
   "source": [
    "Pour afficher, nous utilisons la fonction <code>plot2DSet()</code> déjà vue dans les séances précédentes. \n"
   ]
  },
  {
   "cell_type": "code",
   "execution_count": 4,
   "metadata": {
    "collapsed": false
   },
   "outputs": [],
   "source": [
    "import matplotlib.pyplot as plt\n",
    "%matplotlib inline \n",
    "\n",
    "def plot2DSet(set):\n",
    "    \"\"\" LabeledSet -> NoneType\n",
    "        Hypothèse: set est de dimension 2\n",
    "        affiche une représentation graphique du LabeledSet\n",
    "        remarque: l'ordre des labels dans set peut être quelconque\n",
    "    \"\"\"\n",
    "    S_pos = set.x[np.where(set.y == 1),:][0]      # tous les exemples de label +1\n",
    "    S_neg = set.x[np.where(set.y == -1),:][0]     # tous les exemples de label -1\n",
    "    plt.scatter(S_pos[:,0],S_pos[:,1],marker='o')\n",
    "    plt.scatter(S_neg[:,0],S_neg[:,1],marker='x')\n"
   ]
  },
  {
   "cell_type": "code",
   "execution_count": 5,
   "metadata": {
    "collapsed": false,
    "scrolled": true
   },
   "outputs": [
    {
     "data": {
      "image/png": "[encoded data removed]",
      "text/plain": [
       "<matplotlib.figure.Figure at 0x7f6e2f699ed0>"
      ]
     },
     "metadata": {},
     "output_type": "display_data"
    }
   ],
   "source": [
    "# Essai de la fonction : (the_set : variable du dataset généré précédemment)\n",
    "plot2DSet(set_exemples)"
   ]
  },
  {
   "cell_type": "markdown",
   "metadata": {},
   "source": [
    "### Les classifieurs\n",
    "\n",
    "On reprend ici la classe <code>Classifier</code> qui sert encore de classe de base pour implémenter un nouveau classifieur."
   ]
  },
  {
   "cell_type": "code",
   "execution_count": 6,
   "metadata": {
    "collapsed": true
   },
   "outputs": [],
   "source": [
    "class Classifier:\n",
    "    def __init__(self,input_dimension):\n",
    "        \"\"\" Constructeur \"\"\"\n",
    "        raise NotImplementedError(\"Please Implement this method\")\n",
    "    \n",
    "    \n",
    "    # Permet de calculer la prediction sur x => renvoie un score\n",
    "    def predict(self,x):\n",
    "        raise NotImplementedError(\"Please Implement this method\")\n",
    "\n",
    "    \n",
    "    # Permet d'entrainer le modele sur un ensemble de données étiquetés\n",
    "    def train(self,labeledSet):\n",
    "        raise NotImplementedError(\"Please Implement this method\")\n",
    "    \n",
    "    # Permet de calculer le taux de bonne classification\n",
    "    def accuracy(self,set):\n",
    "        nb_ok=0\n",
    "        for i in range(set.size()):\n",
    "            score = self.predict(set.getX(i))\n",
    "            if (score*set.getY(i)>0):\n",
    "                nb_ok = nb_ok+1\n",
    "        acc = nb_ok/(set.size() * 1.0)\n",
    "        return acc\n"
   ]
  },
  {
   "cell_type": "markdown",
   "metadata": {},
   "source": [
    "On reprend aussi la fonction <code>plot_frontiere</code> pour dessiner la frontière de décision d'un classifieur. "
   ]
  },
  {
   "cell_type": "code",
   "execution_count": 7,
   "metadata": {
    "collapsed": false
   },
   "outputs": [],
   "source": [
    "def plot_frontiere(set,classifier,step=10):\n",
    "    \"\"\" LabeledSet * Classifier * int -> NoneType\n",
    "        Remarque: le 3e argument est optionnel et donne la \"résolution\" du tracé\n",
    "        affiche la frontière de décision associée au classifieur\n",
    "    \"\"\"\n",
    "    mmax=set.x.max(0)\n",
    "    mmin=set.x.min(0)\n",
    "    x1grid,x2grid=np.meshgrid(np.linspace(mmin[0],mmax[0],step),np.linspace(mmin[1],mmax[1],step))\n",
    "    grid=np.hstack((x1grid.reshape(x1grid.size,1),x2grid.reshape(x2grid.size,1)))\n",
    "    \n",
    "    # calcul de la prediction pour chaque point de la grille\n",
    "    res=np.array([classifier.predict(grid[i,:]) for i in range(len(grid)) ])\n",
    "    res=res.reshape(x1grid.shape)\n",
    "    # tracer des frontieres\n",
    "    plt.contourf(x1grid,x2grid,res,colors=[\"red\",\"cyan\"],levels=[-1000,0,1000],linewidth=2)"
   ]
  },
  {
   "cell_type": "markdown",
   "metadata": {},
   "source": [
    "## Etape 1: Bagging d'arbres de décision\n",
    "\n",
    "Dans cette étape, on procède à l'implémentation de l'algorithme du bagging. Dans un premier temps, le classifieur que l'on utilise est celui des arbres de décision.\n",
    "\n",
    "### Classifieurs par arbres de décision\n",
    "Reprendre ici les fonctions réalisées pour l'implémentation des arbres de décision : <code>classe_majoritaire()</code>, <code>shannon()</code>, <code>entropie()</code>, <code>discretise()</code>, <code>divise()</code>, et <code>construit_AD()</code>.\n",
    "Ainsi que les classes <code>ArbreBinaire</code> et <code>ArbreDecision</code>.\n"
   ]
  },
  {
   "cell_type": "code",
   "execution_count": 8,
   "metadata": {
    "collapsed": false
   },
   "outputs": [],
   "source": [
    "def classe_majoritaire(labeledSet):\n",
    "    a = sum(1 for i in range(labeledSet.nb_examples) if labeledSet.getY(i) == 1)  # Nombre d'exemple ayant pour classe +1\n",
    "    b = sum(1 for i in range(labeledSet.nb_examples) if labeledSet.getY(i) == -1)\n",
    "    if b > a:   # Si il y a plus d'exemple de la classe -1 alors on retourne -1 sinon 1 \n",
    "        return -1\n",
    "    else:\n",
    "        return 1\n",
    "    \n",
    "    \n",
    "def shannon(l):\n",
    "    return -sum(i*math.log(i, len(l)) for i in l if i > 0)  # Somme des donnees de la liste donnee en argument a l'aide\n",
    "                                                            # de la formule donnee\n",
    "    \n",
    "def entropie(labeledSet):\n",
    "    a = sum(1 for i in range(labeledSet.nb_examples) if labeledSet.getY(i) == 1)  # Nombre d'exemple ayant pour classe +1 \n",
    "    b = sum(1 for i in range(labeledSet.nb_examples) if labeledSet.getY(i) == -1)  \n",
    "    return shannon([float(a)/(a+b), float(b)/(a+b)])  # Taux de presence de chaque classe d'exemple\n",
    "\n",
    "\n",
    "def discretise(LSet, col):\n",
    "    \"\"\" LabelledSet * int -> tuple[float, float]\n",
    "        col est le numéro de colonne sur X à discrétiser\n",
    "        rend la valeur de coupure qui minimise l'entropie ainsi que son entropie.\n",
    "    \"\"\"\n",
    "    # initialisation:\n",
    "    min_entropie = 1.1  # on met à une valeur max car on veut minimiser\n",
    "    min_seuil = 0.0     \n",
    "    # trie des valeurs:\n",
    "    ind= np.argsort(LSet.x,axis=0)\n",
    "    \n",
    "    # calcul des distributions des classes pour E1 et E2:\n",
    "    inf_plus  = 0               # nombre de +1 dans E1\n",
    "    inf_moins = 0               # nombre de -1 dans E1\n",
    "    sup_plus  = 0               # nombre de +1 dans E2\n",
    "    sup_moins = 0               # nombre de -1 dans E2       \n",
    "    # remarque: au départ on considère que E1 est vide et donc E2 correspond à E. \n",
    "    # Ainsi inf_plus et inf_moins valent 0. Il reste à calculer sup_plus et sup_moins \n",
    "    # dans E.\n",
    "    for j in range(0,LSet.size()):\n",
    "        if (LSet.getY(j) == -1):\n",
    "            sup_moins += 1\n",
    "        else:\n",
    "            sup_plus += 1\n",
    "    nb_total = (sup_plus + sup_moins) # nombre d'exemples total dans E\n",
    "    \n",
    "    # parcours pour trouver le meilleur seuil:\n",
    "    for i in range(len(LSet.x)-1):\n",
    "        v_ind_i = ind[i]   # vecteur d'indices\n",
    "        courant = LSet.getX(v_ind_i[col])[col]\n",
    "        lookahead = LSet.getX(ind[i+1][col])[col]\n",
    "        val_seuil = (courant + lookahead) / 2.0;\n",
    "        # M-A-J de la distrib. des classes:\n",
    "        # pour réduire les traitements: on retire un exemple de E2 et on le place\n",
    "        # dans E1, c'est ainsi que l'on déplace donc le seuil de coupure.\n",
    "        if LSet.getY(ind[i][col])[0] == -1:\n",
    "            inf_moins += 1\n",
    "            sup_moins -= 1\n",
    "        else:\n",
    "            inf_plus += 1\n",
    "            sup_plus -= 1\n",
    "        # calcul de la distribution des classes de chaque côté du seuil:\n",
    "        nb_inf = (inf_moins + inf_plus)*1.0     # rem: on en fait un float pour éviter\n",
    "        nb_sup = (sup_moins + sup_plus)*1.0     # que ce soit une division entière.\n",
    "        # calcul de l'entropie de la coupure\n",
    "        val_entropie_inf = shannon([inf_moins / nb_inf, inf_plus  / nb_inf])\n",
    "        val_entropie_sup = shannon([sup_moins / nb_sup, sup_plus  / nb_sup])\n",
    "        val_entropie = (nb_inf / nb_total) * val_entropie_inf + (nb_sup / nb_total) * val_entropie_sup\n",
    "        # si cette coupure minimise l'entropie, on mémorise ce seuil et son entropie:\n",
    "        if (min_entropie > val_entropie):\n",
    "            min_entropie = val_entropie\n",
    "            min_seuil = val_seuil\n",
    "    return (min_seuil, min_entropie)\n",
    "\n",
    "\n",
    "def divise(LSet,att,seuil):\n",
    "    \"\"\" LSet: LabeledSet\n",
    "        att : numéro d'attribut\n",
    "        seuil : valeur de seuil\n",
    "        rend le tuple contenant les 2 sous-LabeledSet obtenus par la\n",
    "        division de LSet selon le seuil sur l'attribut att\n",
    "    \"\"\"\n",
    "    a = LabeledSet(2)\n",
    "    b = LabeledSet(2)\n",
    "    for i in range(LSet.size()):  # Pour chaque exemple on le range dans l'un des deux labeledSet\n",
    "        if LSet.getX(i)[att] <= seuil:  # Si il se trouve en dessous du seuil on le met dans l'un sinon dans l'autre\n",
    "            a.addExample(LSet.getX(i), LSet.getY(i))\n",
    "        else:\n",
    "            b.addExample(LSet.getX(i), LSet.getY(i))\n",
    "    return a, b  # Tuple contenant les deux labeledSet crees\n",
    "    \n",
    "    \n",
    "import graphviz as gv\n",
    "import math\n",
    "\n",
    "class ArbreBinaire:\n",
    "    def __init__(self):\n",
    "        self.attribut = None   # numéro de l'attribut\n",
    "        self.seuil = None\n",
    "        self.inferieur = None # ArbreBinaire Gauche (valeurs <= au seuil)\n",
    "        self.superieur = None # ArbreBinaire Droit (valeurs > au seuil)\n",
    "        self.classe = None # Classe si c'est une feuille: -1 ou +1\n",
    "        \n",
    "    def est_feuille(self):\n",
    "        \"\"\" rend True si l'arbre est une feuille \"\"\"\n",
    "        return self.seuil == None\n",
    "    \n",
    "    def ajoute_fils(self,ABinf,ABsup,att,seuil):\n",
    "        \"\"\" ABinf, ABsup: 2 arbres binaires\n",
    "            att: numéro d'attribut\n",
    "            seuil: valeur de seuil\n",
    "        \"\"\"\n",
    "        self.attribut = att\n",
    "        self.seuil = seuil\n",
    "        self.inferieur = ABinf\n",
    "        self.superieur = ABsup\n",
    "    \n",
    "    def ajoute_feuille(self,classe):\n",
    "        \"\"\" classe: -1 ou + 1\n",
    "        \"\"\"\n",
    "        self.classe = classe\n",
    "        \n",
    "    def classifie(self,exemple):\n",
    "        \"\"\" exemple : numpy.array\n",
    "            rend la classe de l'exemple: +1 ou -1\n",
    "        \"\"\"\n",
    "        if self.est_feuille():\n",
    "            return self.classe\n",
    "        if exemple[self.attribut] <= self.seuil:\n",
    "            return self.inferieur.classifie(exemple)\n",
    "        return self.superieur.classifie(exemple)\n",
    "    \n",
    "    def to_graph(self, g, prefixe='A'):\n",
    "        \"\"\" construit une représentation de l'arbre pour pouvoir\n",
    "            l'afficher\n",
    "        \"\"\"\n",
    "        if self.est_feuille():\n",
    "            g.node(prefixe,str(self.classe),shape='box')\n",
    "        else:\n",
    "            g.node(prefixe, str(self.attribut))\n",
    "            self.inferieur.to_graph(g,prefixe+\"g\")\n",
    "            self.superieur.to_graph(g,prefixe+\"d\")\n",
    "            g.edge(prefixe,prefixe+\"g\", '<='+ str(self.seuil))\n",
    "            g.edge(prefixe,prefixe+\"d\", '>'+ str(self.seuil))\n",
    "        \n",
    "        return g\n",
    "    \n",
    "    \n",
    "def construit_AD(LSet,epsilon):\n",
    "    \"\"\" LSet : LabeledSet\n",
    "        epsilon : seuil d'entropie pour le critère d'arrêt \n",
    "    \"\"\"\n",
    "    arbre = ArbreBinaire()  # On cree un arbreBinaire\n",
    "     \n",
    "        \n",
    "    if entropie(LSet) <= epsilon:  # Si l'entropie du lset est inferieur ou egal a l'epsilon que l'on a fixe \n",
    "        arbre.ajoute_feuille(classe_majoritaire(LSet))  # On ajoute une feuille qui aura pour label la classe majoritaire\n",
    "        return arbre  # On renvoie l'arbre \n",
    "    \n",
    "    \n",
    "    else:\n",
    "        min_ent = 2  # On fixe une entropie a 2 de cette facon on est certain de trouver plus petit\n",
    "        min_seuil = -1  \n",
    "        att = -1\n",
    "        \n",
    "        for i in range(len(LSet.getX(0))):  # Pour le nombre d'attribut du set\n",
    "            d = discretise(LSet, i)  # On discretise cet attribut\n",
    "            if min_ent > d[1]:  # Si l'entropie est plus petite\n",
    "                min_ent = d[1]\n",
    "                min_seuil = d[0]\n",
    "                att = i\n",
    "                \n",
    "        new_lset1, new_lset2 = divise(LSet, att, min_seuil)  # On cree 2 lset grace au parametre recuperer precedement\n",
    "        \n",
    "        #  On ajoute a l'arbre deux fils qui seront eux même des feuilles ou des arbres\n",
    "        arbre.ajoute_fils(construit_AD(new_lset1, epsilon), construit_AD(new_lset2, epsilon), att, min_seuil)\n",
    "        return arbre\n",
    "        \n",
    "        \n",
    "        \n",
    "class ArbreDecision(Classifier):\n",
    "    # Constructeur\n",
    "    def __init__(self,epsilon):\n",
    "        # valeur seuil d'entropie pour arrêter la construction\n",
    "        self.epsilon= epsilon\n",
    "        self.racine = None\n",
    "    \n",
    "    # Permet de calculer la prediction sur x => renvoie un score\n",
    "    def predict(self,x):\n",
    "        # classification de l'exemple x avec l'arbre de décision\n",
    "        # on rend 0 (classe -1) ou 1 (classe 1)\n",
    "        classe = self.racine.classifie(x)\n",
    "        if (classe == 1):\n",
    "            return(1)\n",
    "        else:\n",
    "            return(-1)\n",
    "    \n",
    "    # Permet d'entrainer le modele sur un ensemble de données\n",
    "    def train(self,set):\n",
    "        # construction de l'arbre de décision \n",
    "        self.set=set\n",
    "        self.racine = construit_AD(set,self.epsilon)\n",
    "\n",
    "    # Permet d'afficher l'arbre\n",
    "    def plot(self):\n",
    "        gtree = gv.Digraph(format='png')\n",
    "        return self.racine.to_graph(gtree)\n",
    "        "
   ]
  },
  {
   "cell_type": "markdown",
   "metadata": {},
   "source": [
    "Ainsi, vous devez donc pouvoir utiliser à partir d'ici la classe <code>ArbreDecision</code>.\n",
    "\n",
    "Par exemple, sur la base <code>set_exemples</code>:"
   ]
  },
  {
   "cell_type": "code",
   "execution_count": 9,
   "metadata": {
    "collapsed": false
   },
   "outputs": [
    {
     "name": "stdout",
     "output_type": "stream",
     "text": [
      "('accuracy:', 1.0)\n"
     ]
    },
    {
     "data": {
      "image/svg+xml": [
       "<?xml version=\"1.0\" encoding=\"UTF-8\" standalone=\"no\"?>\n",
       "<!DOCTYPE svg PUBLIC \"-//W3C//DTD SVG 1.1//EN\"\n",
       " \"http://www.w3.org/Graphics/SVG/1.1/DTD/svg11.dtd\">\n",
       "<!-- Generated by graphviz version 2.38.0 (20140413.2041)\n",
       " -->\n",
       "<!-- Title: %3 Pages: 1 -->\n",
       "<svg width=\"656pt\" height=\"392pt\"\n",
       " viewBox=\"0.00 0.00 656.00 392.00\" xmlns=\"http://www.w3.org/2000/svg\" xmlns:xlink=\"http://www.w3.org/1999/xlink\">\n",
       "<g id=\"graph0\" class=\"graph\" transform=\"scale(1 1) rotate(0) translate(4 388)\">\n",
       "<title>%3</title>\n",
       "<polygon fill=\"white\" stroke=\"none\" points=\"-4,4 -4,-388 652,-388 652,4 -4,4\"/>\n",
       "<!-- A -->\n",
       "<g id=\"node1\" class=\"node\"><title>A</title>\n",
       "<ellipse fill=\"none\" stroke=\"black\" cx=\"198\" cy=\"-366\" rx=\"27\" ry=\"18\"/>\n",
       "<text text-anchor=\"middle\" x=\"198\" y=\"-362.3\" font-family=\"Times,serif\" font-size=\"14.00\">1</text>\n",
       "</g>\n",
       "<!-- Ag -->\n",
       "<g id=\"node2\" class=\"node\"><title>Ag</title>\n",
       "<polygon fill=\"none\" stroke=\"black\" points=\"154,-297 100,-297 100,-261 154,-261 154,-297\"/>\n",
       "<text text-anchor=\"middle\" x=\"127\" y=\"-275.3\" font-family=\"Times,serif\" font-size=\"14.00\">&#45;1</text>\n",
       "</g>\n",
       "<!-- A&#45;&gt;Ag -->\n",
       "<g id=\"edge11\" class=\"edge\"><title>A&#45;&gt;Ag</title>\n",
       "<path fill=\"none\" stroke=\"black\" d=\"M172.784,-359.435C157.01,-354.523 137.871,-345.621 128,-330 123.743,-323.264 122.41,-314.931 122.451,-307.012\"/>\n",
       "<polygon fill=\"black\" stroke=\"black\" points=\"125.944,-307.234 123.167,-297.009 118.962,-306.734 125.944,-307.234\"/>\n",
       "<text text-anchor=\"middle\" x=\"188\" y=\"-318.8\" font-family=\"Times,serif\" font-size=\"14.00\">&lt;=&#45;0.8031558168535</text>\n",
       "</g>\n",
       "<!-- Ad -->\n",
       "<g id=\"node3\" class=\"node\"><title>Ad</title>\n",
       "<ellipse fill=\"none\" stroke=\"black\" cx=\"270\" cy=\"-279\" rx=\"27\" ry=\"18\"/>\n",
       "<text text-anchor=\"middle\" x=\"270\" y=\"-275.3\" font-family=\"Times,serif\" font-size=\"14.00\">0</text>\n",
       "</g>\n",
       "<!-- A&#45;&gt;Ad -->\n",
       "<g id=\"edge12\" class=\"edge\"><title>A&#45;&gt;Ad</title>\n",
       "<path fill=\"none\" stroke=\"black\" d=\"M218.51,-354.183C228.442,-348.133 239.933,-339.828 248,-330 253.646,-323.121 258.11,-314.566 261.498,-306.489\"/>\n",
       "<polygon fill=\"black\" stroke=\"black\" points=\"264.817,-307.609 265.106,-297.018 258.275,-305.117 264.817,-307.609\"/>\n",
       "<text text-anchor=\"middle\" x=\"313\" y=\"-318.8\" font-family=\"Times,serif\" font-size=\"14.00\">&gt;&#45;0.8031558168535</text>\n",
       "</g>\n",
       "<!-- Adg -->\n",
       "<g id=\"node4\" class=\"node\"><title>Adg</title>\n",
       "<ellipse fill=\"none\" stroke=\"black\" cx=\"190\" cy=\"-192\" rx=\"27\" ry=\"18\"/>\n",
       "<text text-anchor=\"middle\" x=\"190\" y=\"-188.3\" font-family=\"Times,serif\" font-size=\"14.00\">0</text>\n",
       "</g>\n",
       "<!-- Ad&#45;&gt;Adg -->\n",
       "<g id=\"edge9\" class=\"edge\"><title>Ad&#45;&gt;Adg</title>\n",
       "<path fill=\"none\" stroke=\"black\" d=\"M245.433,-271.425C230.409,-266.153 212.021,-257.231 201,-243 196.005,-236.55 193.178,-228.298 191.606,-220.366\"/>\n",
       "<polygon fill=\"black\" stroke=\"black\" points=\"195.049,-219.713 190.186,-210.3 188.117,-220.69 195.049,-219.713\"/>\n",
       "<text text-anchor=\"middle\" x=\"255.5\" y=\"-231.8\" font-family=\"Times,serif\" font-size=\"14.00\">&lt;=0.533405772885</text>\n",
       "</g>\n",
       "<!-- Add -->\n",
       "<g id=\"node9\" class=\"node\"><title>Add</title>\n",
       "<ellipse fill=\"none\" stroke=\"black\" cx=\"345\" cy=\"-192\" rx=\"27\" ry=\"18\"/>\n",
       "<text text-anchor=\"middle\" x=\"345\" y=\"-188.3\" font-family=\"Times,serif\" font-size=\"14.00\">0</text>\n",
       "</g>\n",
       "<!-- Ad&#45;&gt;Add -->\n",
       "<g id=\"edge10\" class=\"edge\"><title>Ad&#45;&gt;Add</title>\n",
       "<path fill=\"none\" stroke=\"black\" d=\"M288.333,-265.637C296.736,-259.44 306.475,-251.461 314,-243 320.679,-235.49 326.804,-226.365 331.814,-217.977\"/>\n",
       "<polygon fill=\"black\" stroke=\"black\" points=\"334.864,-219.695 336.786,-209.276 328.786,-216.222 334.864,-219.695\"/>\n",
       "<text text-anchor=\"middle\" x=\"375\" y=\"-231.8\" font-family=\"Times,serif\" font-size=\"14.00\">&gt;0.533405772885</text>\n",
       "</g>\n",
       "<!-- Adgg -->\n",
       "<g id=\"node5\" class=\"node\"><title>Adgg</title>\n",
       "<polygon fill=\"none\" stroke=\"black\" points=\"54,-123 0,-123 0,-87 54,-87 54,-123\"/>\n",
       "<text text-anchor=\"middle\" x=\"27\" y=\"-101.3\" font-family=\"Times,serif\" font-size=\"14.00\">1</text>\n",
       "</g>\n",
       "<!-- Adg&#45;&gt;Adgg -->\n",
       "<g id=\"edge3\" class=\"edge\"><title>Adg&#45;&gt;Adgg</title>\n",
       "<path fill=\"none\" stroke=\"black\" d=\"M162.988,-191.595C131.224,-190.843 78.6977,-184.854 46,-156 39.1939,-149.994 34.8153,-141.285 32.0026,-132.812\"/>\n",
       "<polygon fill=\"black\" stroke=\"black\" points=\"35.3758,-131.878 29.3685,-123.151 28.6224,-133.72 35.3758,-131.878\"/>\n",
       "<text text-anchor=\"middle\" x=\"116\" y=\"-144.8\" font-family=\"Times,serif\" font-size=\"14.00\">&lt;=&#45;0.8994394317084999</text>\n",
       "</g>\n",
       "<!-- Adgd -->\n",
       "<g id=\"node6\" class=\"node\"><title>Adgd</title>\n",
       "<ellipse fill=\"none\" stroke=\"black\" cx=\"190\" cy=\"-105\" rx=\"27\" ry=\"18\"/>\n",
       "<text text-anchor=\"middle\" x=\"190\" y=\"-101.3\" font-family=\"Times,serif\" font-size=\"14.00\">1</text>\n",
       "</g>\n",
       "<!-- Adg&#45;&gt;Adgd -->\n",
       "<g id=\"edge4\" class=\"edge\"><title>Adg&#45;&gt;Adgd</title>\n",
       "<path fill=\"none\" stroke=\"black\" d=\"M190,-173.799C190,-162.163 190,-146.548 190,-133.237\"/>\n",
       "<polygon fill=\"black\" stroke=\"black\" points=\"193.5,-133.175 190,-123.175 186.5,-133.175 193.5,-133.175\"/>\n",
       "<text text-anchor=\"middle\" x=\"256\" y=\"-144.8\" font-family=\"Times,serif\" font-size=\"14.00\">&gt;&#45;0.8994394317084999</text>\n",
       "</g>\n",
       "<!-- Adgdg -->\n",
       "<g id=\"node7\" class=\"node\"><title>Adgdg</title>\n",
       "<polygon fill=\"none\" stroke=\"black\" points=\"104,-36 50,-36 50,-0 104,-0 104,-36\"/>\n",
       "<text text-anchor=\"middle\" x=\"77\" y=\"-14.3\" font-family=\"Times,serif\" font-size=\"14.00\">1</text>\n",
       "</g>\n",
       "<!-- Adgd&#45;&gt;Adgdg -->\n",
       "<g id=\"edge1\" class=\"edge\"><title>Adgd&#45;&gt;Adgdg</title>\n",
       "<path fill=\"none\" stroke=\"black\" d=\"M162.99,-104.206C136.042,-102.781 95.8727,-95.8895 76,-69 71.2638,-62.5915 70.0522,-54.3513 70.4467,-46.4166\"/>\n",
       "<polygon fill=\"black\" stroke=\"black\" points=\"73.9383,-46.7032 71.729,-36.3413 66.9944,-45.8193 73.9383,-46.7032\"/>\n",
       "<text text-anchor=\"middle\" x=\"139.5\" y=\"-57.8\" font-family=\"Times,serif\" font-size=\"14.00\">&lt;=&#45;0.29655567876975</text>\n",
       "</g>\n",
       "<!-- Adgdd -->\n",
       "<g id=\"node8\" class=\"node\"><title>Adgdd</title>\n",
       "<polygon fill=\"none\" stroke=\"black\" points=\"254,-36 200,-36 200,-0 254,-0 254,-36\"/>\n",
       "<text text-anchor=\"middle\" x=\"227\" y=\"-14.3\" font-family=\"Times,serif\" font-size=\"14.00\">&#45;1</text>\n",
       "</g>\n",
       "<!-- Adgd&#45;&gt;Adgdd -->\n",
       "<g id=\"edge2\" class=\"edge\"><title>Adgd&#45;&gt;Adgdd</title>\n",
       "<path fill=\"none\" stroke=\"black\" d=\"M197.134,-87.6111C202.305,-75.7323 209.41,-59.41 215.393,-45.6658\"/>\n",
       "<polygon fill=\"black\" stroke=\"black\" points=\"218.725,-46.7797 219.507,-36.2138 212.307,-43.9859 218.725,-46.7797\"/>\n",
       "<text text-anchor=\"middle\" x=\"270\" y=\"-57.8\" font-family=\"Times,serif\" font-size=\"14.00\">&gt;&#45;0.29655567876975</text>\n",
       "</g>\n",
       "<!-- Addg -->\n",
       "<g id=\"node10\" class=\"node\"><title>Addg</title>\n",
       "<polygon fill=\"none\" stroke=\"black\" points=\"372,-123 318,-123 318,-87 372,-87 372,-123\"/>\n",
       "<text text-anchor=\"middle\" x=\"345\" y=\"-101.3\" font-family=\"Times,serif\" font-size=\"14.00\">1</text>\n",
       "</g>\n",
       "<!-- Add&#45;&gt;Addg -->\n",
       "<g id=\"edge7\" class=\"edge\"><title>Add&#45;&gt;Addg</title>\n",
       "<path fill=\"none\" stroke=\"black\" d=\"M345,-173.799C345,-162.163 345,-146.548 345,-133.237\"/>\n",
       "<polygon fill=\"black\" stroke=\"black\" points=\"348.5,-133.175 345,-123.175 341.5,-133.175 348.5,-133.175\"/>\n",
       "<text text-anchor=\"middle\" x=\"399.5\" y=\"-144.8\" font-family=\"Times,serif\" font-size=\"14.00\">&lt;=1.412540255345</text>\n",
       "</g>\n",
       "<!-- Addd -->\n",
       "<g id=\"node11\" class=\"node\"><title>Addd</title>\n",
       "<ellipse fill=\"none\" stroke=\"black\" cx=\"477\" cy=\"-105\" rx=\"27\" ry=\"18\"/>\n",
       "<text text-anchor=\"middle\" x=\"477\" y=\"-101.3\" font-family=\"Times,serif\" font-size=\"14.00\">0</text>\n",
       "</g>\n",
       "<!-- Add&#45;&gt;Addd -->\n",
       "<g id=\"edge8\" class=\"edge\"><title>Add&#45;&gt;Addd</title>\n",
       "<path fill=\"none\" stroke=\"black\" d=\"M371.597,-188.717C395.988,-185.324 431.749,-176.899 455,-156 461.895,-149.803 466.731,-141.048 470.077,-132.593\"/>\n",
       "<polygon fill=\"black\" stroke=\"black\" points=\"473.442,-133.57 473.353,-122.976 466.815,-131.313 473.442,-133.57\"/>\n",
       "<text text-anchor=\"middle\" x=\"515\" y=\"-144.8\" font-family=\"Times,serif\" font-size=\"14.00\">&gt;1.412540255345</text>\n",
       "</g>\n",
       "<!-- Adddg -->\n",
       "<g id=\"node12\" class=\"node\"><title>Adddg</title>\n",
       "<polygon fill=\"none\" stroke=\"black\" points=\"468,-36 414,-36 414,-0 468,-0 468,-36\"/>\n",
       "<text text-anchor=\"middle\" x=\"441\" y=\"-14.3\" font-family=\"Times,serif\" font-size=\"14.00\">&#45;1</text>\n",
       "</g>\n",
       "<!-- Addd&#45;&gt;Adddg -->\n",
       "<g id=\"edge5\" class=\"edge\"><title>Addd&#45;&gt;Adddg</title>\n",
       "<path fill=\"none\" stroke=\"black\" d=\"M459.448,-91.3187C452.688,-85.3815 445.705,-77.6965 442,-69 439.04,-62.0506 437.976,-54.05 437.862,-46.5152\"/>\n",
       "<polygon fill=\"black\" stroke=\"black\" points=\"441.366,-46.4528 438.233,-36.3317 434.371,-46.1974 441.366,-46.4528\"/>\n",
       "<text text-anchor=\"middle\" x=\"493\" y=\"-57.8\" font-family=\"Times,serif\" font-size=\"14.00\">&lt;=1.55201152353</text>\n",
       "</g>\n",
       "<!-- Adddd -->\n",
       "<g id=\"node13\" class=\"node\"><title>Adddd</title>\n",
       "<polygon fill=\"none\" stroke=\"black\" points=\"593,-36 539,-36 539,-0 593,-0 593,-36\"/>\n",
       "<text text-anchor=\"middle\" x=\"566\" y=\"-14.3\" font-family=\"Times,serif\" font-size=\"14.00\">1</text>\n",
       "</g>\n",
       "<!-- Addd&#45;&gt;Adddd -->\n",
       "<g id=\"edge6\" class=\"edge\"><title>Addd&#45;&gt;Adddd</title>\n",
       "<path fill=\"none\" stroke=\"black\" d=\"M500.602,-96.2252C514.724,-90.562 532.167,-81.6519 544,-69 550.079,-62.4999 554.658,-54.0465 558.019,-45.9453\"/>\n",
       "<polygon fill=\"black\" stroke=\"black\" points=\"561.365,-46.9867 561.534,-36.3932 554.796,-44.5691 561.365,-46.9867\"/>\n",
       "<text text-anchor=\"middle\" x=\"601\" y=\"-57.8\" font-family=\"Times,serif\" font-size=\"14.00\">&gt;1.55201152353</text>\n",
       "</g>\n",
       "</g>\n",
       "</svg>\n"
      ],
      "text/plain": [
       "<graphviz.dot.Digraph at 0x7f6df9cab390>"
      ]
     },
     "execution_count": 9,
     "metadata": {},
     "output_type": "execute_result"
    }
   ],
   "source": [
    "# un exemple d'utilisation:\n",
    "ad=ArbreDecision(0.0)               # initialisation d'un arbre binaire qui utilise epsilon= 0.0\n",
    "ad.train(set_exemples)              # construction de l'arbre à partir de la base jouet\n",
    "\n",
    "print(\"accuracy:\", ad.accuracy(set_exemples))    \n",
    "\n",
    "#test de l'affichage \n",
    "ad.plot()\n"
   ]
  },
  {
   "cell_type": "markdown",
   "metadata": {},
   "source": [
    "### Tirage aléatoire d'exemples\n",
    "\n",
    "Le bootstrap s'effectue en tirant aléatoirement un échantillon de $m$ exemples à partir de la base d'apprentissage $X$ à partir duquel, on construit un classifieur.\n",
    "Ce processus est répété $B$ fois.\n",
    "\n",
    "Afin de ne pas alourdir la place mémoire nécessaire pour réaliser un tel tirage, on ne travaille que sur les indices des exemples dans la base. Un **échantillon de $X$ est donc un vecteur d'entiers** qui représentent les indices des exemples choisis.\n"
   ]
  },
  {
   "cell_type": "markdown",
   "metadata": {},
   "source": [
    "#### Tirages aléatoires en Python\n",
    "\n",
    "Consulter la librairie Python random qui propose différentes fonctions utiles pour implémenter le tirage aléatoire du bootstrap.\n",
    "\n",
    "Par exemple, la fonction <code>sample()</code> de la librairie <code>random</code> rend une sélection aléatoire dans une population donnée en réalisant un tirage sans remise.\n",
    "\n",
    "Pour tester, exécuter plusieurs fois les instructions de la boîte suivante :"
   ]
  },
  {
   "cell_type": "code",
   "execution_count": 10,
   "metadata": {
    "collapsed": false
   },
   "outputs": [
    {
     "name": "stdout",
     "output_type": "stream",
     "text": [
      "('La liste L de depart: ', [0, 1, 2, 3, 4, 5, 6, 7, 8, 9, 10])\n",
      "('Echantillon: ', [9, 5, 6, 1, 0, 3])\n"
     ]
    }
   ],
   "source": [
    "import random\n",
    "L= [i for i in range(0,11)]             # construction de la liste des entiers de 0 à 10\n",
    "print(\"La liste L de depart: \",L)\n",
    "EchL = random.sample(L,6)               # tirage de 6 éléments de L\n",
    "print(\"Echantillon: \",EchL)"
   ]
  },
  {
   "cell_type": "markdown",
   "metadata": {},
   "source": [
    "La fonction <code>choice()</code> permet de choisir aléatoirement un élément:"
   ]
  },
  {
   "cell_type": "code",
   "execution_count": 11,
   "metadata": {
    "collapsed": false
   },
   "outputs": [
    {
     "name": "stdout",
     "output_type": "stream",
     "text": [
      "('La liste L de depart: ', [0, 1, 2, 3, 4, 5, 6, 7, 8, 9, 10])\n",
      "('Element choisi: ', 8)\n"
     ]
    }
   ],
   "source": [
    "L= [i for i in range(0,11)]             # construction de la liste des entiers de 0 à 10\n",
    "print(\"La liste L de depart: \",L)\n",
    "elt = random.choice(L)                  # choix d'un élémént\n",
    "print(\"Element choisi: \",elt)"
   ]
  },
  {
   "cell_type": "markdown",
   "metadata": {},
   "source": [
    "<font size=\"+1\">**[Q]**</font> Ecrire une fonction <code>tirage()</code> qui étant donné un vecteur d'entiers $VX$ qui représente l'ensemble des indices des exemples d'une base d'apprentissage $X$, un entier $m$, et un booléen $r$, rend un vecteur de $m$ indices choisis aléatoirement dans $VX$. Si le booléen $r$ est vrai, le tirage s'effectue *avec remise*, sinon il s'effectue *sans remise*."
   ]
  },
  {
   "cell_type": "code",
   "execution_count": 12,
   "metadata": {
    "collapsed": true
   },
   "outputs": [],
   "source": [
    "def tirage(vec, m, remise):\n",
    "    vec_tirage = []  # Vecteur final\n",
    "    if remise:  # Si tirage avec remise\n",
    "        for i in range(m):  # On choisit m element de maniere aleatoire de vec qu'on ajoute a vec_tirage\n",
    "            elt = random.choice(vec)\n",
    "            vec_tirage.append(elt)\n",
    "    else:\n",
    "        vec_tirage = random.sample(vec, m)  # On ajoute m element de vec sans doublon et de maniere aleatoire\n",
    "    return vec_tirage"
   ]
  },
  {
   "cell_type": "markdown",
   "metadata": {},
   "source": [
    "Exemples :"
   ]
  },
  {
   "cell_type": "code",
   "execution_count": 13,
   "metadata": {
    "collapsed": false
   },
   "outputs": [
    {
     "data": {
      "text/plain": [
       "[4, 5, 1, 1, 8, 5, 8, 2]"
      ]
     },
     "execution_count": 13,
     "metadata": {},
     "output_type": "execute_result"
    }
   ],
   "source": [
    "L= [i for i in range(0,10)]    # construction de la liste des entiers de 0 à 100\n",
    "tirage(L,8,True)               # tirage avec remise"
   ]
  },
  {
   "cell_type": "code",
   "execution_count": 14,
   "metadata": {
    "collapsed": false
   },
   "outputs": [
    {
     "data": {
      "text/plain": [
       "[3, 4, 2, 5, 0, 1, 6, 9]"
      ]
     },
     "execution_count": 14,
     "metadata": {},
     "output_type": "execute_result"
    }
   ],
   "source": [
    "tirage(L,8,False)               # tirage sans remise"
   ]
  },
  {
   "cell_type": "markdown",
   "metadata": {
    "collapsed": true
   },
   "source": [
    "<font size=\"+1\">**[Q]**</font> En utilisant la fonction précédente, écrire la fonction <code>echantillonLS()</code> qui, étant donné un <code>LabeledSet</code> $X$, un nombre entier $m$, et un booléen rend un échantillon de $X$ de taille $m$ sous la forme d'un <code>LabeledSet</code>. L'échantillon est obtenu par un tirage avec remise si le booléen est True, sinon, il est obtenu sans remise."
   ]
  },
  {
   "cell_type": "code",
   "execution_count": 15,
   "metadata": {
    "collapsed": true
   },
   "outputs": [],
   "source": [
    "def echantillonLS(labeledSet, m, remise):\n",
    "    final_ls = LabeledSet(labeledSet.getInputDimension())  # LabeledSet que l'on renverra\n",
    "    indice_vec = [i for i in range(labeledSet.size())]  # Indice de tous les exemples du labeledSet\n",
    "    t = tirage(indice_vec, m, remise)  # On choisit aleatoirement m indice de indice_vec\n",
    "    for i in t:  # Pour chaque indice choisi\n",
    "        final_ls.addExample(labeledSet.getX(i), labeledSet.getY(i))  # On recupere cet exemple dans le labeledSet et on \n",
    "        # l'ajoute au labeledSet final\n",
    "    return final_ls"
   ]
  },
  {
   "cell_type": "code",
   "execution_count": 16,
   "metadata": {
    "collapsed": false
   },
   "outputs": [
    {
     "data": {
      "image/png": "[encoded data removed]",
      "text/plain": [
       "<matplotlib.figure.Figure at 0x7f6df9c40790>"
      ]
     },
     "metadata": {},
     "output_type": "display_data"
    }
   ],
   "source": [
    "E = echantillonLS(set_exemples,10,True)\n",
    "plot2DSet(E)"
   ]
  },
  {
   "cell_type": "markdown",
   "metadata": {},
   "source": [
    "<font size=\"+1\">**[Q]**</font> Ecrire la classe <code>ClassifierBaggingTree</code>, dérivée de la classe <code>Classifier</code>, qui permet d'implémenter un bagging d'arbres de décision. Les spécifications de cette classe sont :\n",
    "- la création de l'ensemble nécessite les paramètres suivants : \n",
    "    - le nombre d'arbres à construire, \n",
    "    - le pourcentage d'exemples de la base d'apprentissage utilisés pour constituer un échantillon, \n",
    "    - la valeur de seuil d'entropie pour arrêter la construction de chaque arbre, \n",
    "    - et un booléen qui précise si un échantillon est tiré avec ou sans remise\n",
    "- l'apprentissage (méthode <code>train()</code>) construit autant d'arbres que précisé à la création. Chaque arbre est construit à partir d'un échantillon de la base d'apprentissage (<code>LabeledSet</code>) donnée en argument. Les arbres construits sont stockés dans un ensemble Python.\n",
    "- la prédiction (méthode <code>predict()</code>) classe un exemple par vote de tous les arbres de la forêt. Si la somme des votes est positive ou nulle, la classe rendue est +1, sinon, la classe rendue est -1."
   ]
  },
  {
   "cell_type": "code",
   "execution_count": 32,
   "metadata": {
    "collapsed": true
   },
   "outputs": [],
   "source": [
    "class ClassifierBaggingTree(Classifier):\n",
    "    def __init__(self, nb_tree, echantillon, entropie, remise):\n",
    "        self.nb_tree = nb_tree\n",
    "        self.echantillon = echantillon\n",
    "        self.entropie = entropie\n",
    "        self.remise = remise\n",
    "        self.liste = []\n",
    "        \n",
    "    def train(self, labeledSet):\n",
    "        for i in range(self.nb_tree):\n",
    "            arbre = ArbreDecision(self.entropie)  # Creation d'un arbre\n",
    "            pourcentage = int(labeledSet.size()*self.echantillon)  # On recupere le nombre d'exemple dont nous avons besoin\n",
    "            arbre.train(echantillonLS(labeledSet, pourcentage, self.remise))  # On entraine l'arbre cree avec un sous labeledSet\n",
    "            self.liste.append(arbre)  # On ajoute l'arbre a la liste\n",
    "            \n",
    "    \n",
    "    def predict(self, x):\n",
    "        somme = 0  # somme des predictions de chaque arbres\n",
    "        for i in self.liste:\n",
    "            somme += i.predict(x)  \n",
    "        if somme >= 0:  # Si la somme des predictions est nul ou > 0 alors on renvoie +1 sinon -1\n",
    "            return 1\n",
    "        else:\n",
    "            return -1"
   ]
  },
  {
   "cell_type": "code",
   "execution_count": 33,
   "metadata": {
    "collapsed": false
   },
   "outputs": [
    {
     "name": "stdout",
     "output_type": "stream",
     "text": [
      "('exemple:', 0, ' vraie classe = ', array([1]), '- classe trouvee = ', 1)\n",
      "('exemple:', 1, ' vraie classe = ', array([1]), '- classe trouvee = ', 1)\n",
      "('exemple:', 2, ' vraie classe = ', array([1]), '- classe trouvee = ', 1)\n",
      "('exemple:', 3, ' vraie classe = ', array([1]), '- classe trouvee = ', 1)\n",
      "('exemple:', 4, ' vraie classe = ', array([1]), '- classe trouvee = ', 1)\n",
      "('exemple:', 5, ' vraie classe = ', array([1]), '- classe trouvee = ', 1)\n",
      "('exemple:', 6, ' vraie classe = ', array([1]), '- classe trouvee = ', -1)\n",
      "('exemple:', 7, ' vraie classe = ', array([1]), '- classe trouvee = ', 1)\n",
      "('exemple:', 8, ' vraie classe = ', array([1]), '- classe trouvee = ', 1)\n",
      "('exemple:', 9, ' vraie classe = ', array([1]), '- classe trouvee = ', 1)\n",
      "('exemple:', 10, ' vraie classe = ', array([-1]), '- classe trouvee = ', -1)\n",
      "('exemple:', 11, ' vraie classe = ', array([-1]), '- classe trouvee = ', -1)\n",
      "('exemple:', 12, ' vraie classe = ', array([-1]), '- classe trouvee = ', -1)\n",
      "('exemple:', 13, ' vraie classe = ', array([-1]), '- classe trouvee = ', -1)\n",
      "('exemple:', 14, ' vraie classe = ', array([-1]), '- classe trouvee = ', 1)\n",
      "('exemple:', 15, ' vraie classe = ', array([-1]), '- classe trouvee = ', 1)\n",
      "('exemple:', 16, ' vraie classe = ', array([-1]), '- classe trouvee = ', -1)\n",
      "('exemple:', 17, ' vraie classe = ', array([-1]), '- classe trouvee = ', 1)\n",
      "('exemple:', 18, ' vraie classe = ', array([-1]), '- classe trouvee = ', -1)\n",
      "('exemple:', 19, ' vraie classe = ', array([-1]), '- classe trouvee = ', 1)\n",
      "('accuracy totale:', 0.75)\n"
     ]
    },
    {
     "data": {
      "image/png": "[encoded data removed]",
      "text/plain": [
       "<matplotlib.figure.Figure at 0x7f6df7545190>"
      ]
     },
     "metadata": {},
     "output_type": "display_data"
    }
   ],
   "source": [
    "foret = ClassifierBaggingTree(10,0.3,0.0,True)\n",
    "foret.train(set_exemples)\n",
    "for i in range(set_exemples.size()):\n",
    "    print(\"exemple:\",i,\" vraie classe = \", set_exemples.getY(i), \"- classe trouvee = \", foret.predict(set_exemples.getX(i)))\n",
    "    \n",
    "plot_frontiere(set_exemples,foret,20)\n",
    "plot2DSet(set_exemples) \n",
    "\n",
    "print(\"accuracy totale:\",foret.accuracy(set_exemples))"
   ]
  },
  {
   "cell_type": "markdown",
   "metadata": {},
   "source": [
    "### Expérimentations\n",
    "\n",
    "<font size=\"+1\">**[Q]**</font> Expérimenter l'algorithme précédent de la façon suivante :\n",
    "- générer une base d'apprentissage $X$ contenant au moins 1000 exemples ;\n",
    "- réaliser un échantillon de cette base contenant 50 exemples de chaque classe. Soit $E$ cet échantillon, et soit $F$ l'ensemble des exemples de $X$ qui ne sont pas dans $E$ ;\n",
    "- réaliser un apprentissage par bagging sur $F$ et évaluer le taux de prédiction du modèle obtenu sur $E$ ;\n",
    "- construire la courbe donnant le taux de prédiction obtenu en augmentant la taille de la forêt d'arbres de 1 à 100 arbres. "
   ]
  },
  {
   "cell_type": "code",
   "execution_count": 52,
   "metadata": {
    "collapsed": false
   },
   "outputs": [
    {
     "name": "stderr",
     "output_type": "stream",
     "text": [
      "/usr/local/lib/python2.7/dist-packages/ipykernel/__main__.py:5: RuntimeWarning: covariance is not positive-semidefinite.\n",
      "/usr/local/lib/python2.7/dist-packages/ipykernel/__main__.py:6: RuntimeWarning: covariance is not positive-semidefinite.\n"
     ]
    },
    {
     "data": {
      "image/png": "[encoded data removed]",
      "text/plain": [
       "<matplotlib.figure.Figure at 0x7f6df7327dd0>"
      ]
     },
     "metadata": {},
     "output_type": "display_data"
    },
    {
     "data": {
      "image/png": "[encoded data removed]",
      "text/plain": [
       "<matplotlib.figure.Figure at 0x7f6df73b7590>"
      ]
     },
     "metadata": {},
     "output_type": "display_data"
    }
   ],
   "source": [
    "# Creation des Gaussiennes\n",
    "# Exemple avec deux gaussiennes qui se \"melangent\"\n",
    "mean1 = [1, 1]\n",
    "mean2 = [-1, -1]\n",
    "mat1 = np.random.multivariate_normal(mean1, [[0.1, 1],[1, 0.1]], 500).T\n",
    "mat2 = np.random.multivariate_normal(mean2, [[0.1, 1],[1, 0.1]], 500).T\n",
    "data2 = LabeledSet(2)\n",
    "\n",
    "t1 = random.sample([i for i in range(500)], 50)\n",
    "t2 = random.sample([i for i in range(500)], 50)  #50 nombres au hasard entre 0 et 499\n",
    "\n",
    "set_test = LabeledSet(2)\n",
    "big_set = LabeledSet(2)\n",
    "\n",
    "for i in range(len(mat1[0])):  \n",
    "    if i in t1:  # Si il fait parti des nombres tire aleatoirement on l'ajoute au labeledSet de test\n",
    "        set_test.addExample([mat1[0][i], mat1[1][i]], 1)\n",
    "    else:\n",
    "        data2.addExample([mat1[0][i], mat1[1][i]], 1)\n",
    "    big_set.addExample([mat1[0][i], mat1[1][i]], 1)\n",
    "   \n",
    "        \n",
    "for i in range(len(mat1[0])):  # On ajoute les exemples au labeledSet\n",
    "    if i in t2:\n",
    "        set_test.addExample([mat2[0][i], mat2[1][i]], -1)\n",
    "    else:\n",
    "        data2.addExample([mat2[0][i], mat2[1][i]], -1)\n",
    "    big_set.addExample([mat2[0][i], mat2[1][i]], -1)\n",
    "\n",
    "# Affichage\n",
    "plt.title(\"Affichage des deux gaussiennes : Donnee de test\")\n",
    "plot2DSet(data2)\n",
    "plt.show()\n",
    "\n",
    "plt.title(\"Affichage des deux gaussiennes : Donnee de train\")\n",
    "plot2DSet(set_test)\n",
    "plt.show()\n",
    "\n",
    "\n",
    "\n"
   ]
  },
  {
   "cell_type": "code",
   "execution_count": 35,
   "metadata": {
    "collapsed": false
   },
   "outputs": [
    {
     "name": "stdout",
     "output_type": "stream",
     "text": [
      "Bagging : 20 trees: accuracy totale: train=0.9400 test=0.9211\n"
     ]
    }
   ],
   "source": [
    "# Réaliser un apprentissage par bagging sur E et évaluer le taux de prédiction du modèle sur F\n",
    "foret20 =  ClassifierBaggingTree(20,0.1,0.0,True)\n",
    "foret20.train(data2)\n",
    "print(\"Bagging : 20 trees: accuracy totale: train=%.4f test=%.4f\"%(foret20.accuracy(set_test),foret20.accuracy(data2)))"
   ]
  },
  {
   "cell_type": "code",
   "execution_count": 53,
   "metadata": {
    "collapsed": false
   },
   "outputs": [
    {
     "data": {
      "image/png": "[encoded data removed]",
      "text/plain": [
       "<matplotlib.figure.Figure at 0x7f6df7315e90>"
      ]
     },
     "metadata": {},
     "output_type": "display_data"
    },
    {
     "data": {
      "image/png": "[encoded data removed]",
      "text/plain": [
       "<matplotlib.figure.Figure at 0x7f6df72ad4d0>"
      ]
     },
     "metadata": {},
     "output_type": "display_data"
    }
   ],
   "source": [
    "#################################\n",
    "#CE TEST PREND ENVIRON 5 MINUTES#\n",
    "#################################\n",
    "\n",
    "\n",
    "accuracy_test = []\n",
    "oob = []  # prediction de la methode out of bags en fonction du nombre d'abre\n",
    "nb_arbre = [i for i in range(1,101, 5)] + [100]\n",
    "\n",
    "for i in nb_arbre:\n",
    "    f = ClassifierBaggingTree(i,0.1,0.0,True)  # On cree un classifieur avec i arbre\n",
    "    f.train(data2)  # On lance l'apprentissage des i arbres qui auront 100 exemples\n",
    "    accuracy_test.append(f.accuracy(set_test))\n",
    "    if i < 32:\n",
    "        oob.append(out_of_bags(f))\n",
    "    \n",
    "plt.plot(nb_arbre, accuracy_test, label=\"test\")\n",
    "plt.title(\"Taux de precision en fonction du nombre d'arbre\")\n",
    "plt.legend(bbox_to_anchor=(1.05, 1), loc=2, borderaxespad=0.)\n",
    "plt.show()\n",
    "\n",
    "plt.plot(nb_arbre[0:7], oob)\n",
    "plt.title(\"Resultat de la methode out of bags en fonction du nombre d'arbre\")\n",
    "plt.show()"
   ]
  },
  {
   "cell_type": "markdown",
   "metadata": {},
   "source": [
    "### Evaluation par la méthode \"Out Of Bags\"\n",
    "\n",
    "<font size=\"+1\">**[Q]**</font> Sur les mêmes données, réaliser une évaluation par la méthode \"Out Of Bags\" vue en cours. Construire la courbe donnant le taux de prédiction OOB en fonction de la taille de la forêt d'arbres.\n",
    "\n"
   ]
  },
  {
   "cell_type": "code",
   "execution_count": 93,
   "metadata": {
    "collapsed": false
   },
   "outputs": [],
   "source": [
    "def out_of_bags(f):\n",
    "    erreur = 0  # Nombre d'erreurs\n",
    "    total = 0  # Nombre total d'exemple\n",
    "    for i in range(big_set.size()):  # Pour chaque exemple\n",
    "        somme = 0\n",
    "        for j in f.liste:  # Pour chaque arbre\n",
    "            is_in = False  # Si l'arbre n'a pas ete entraine avec cet exemple\n",
    "            for k in range(j.set.size()):\n",
    "                if np.array_equal(big_set.getX(i), j.set.getX(k)):\n",
    "                    is_in = True\n",
    "            if not is_in:  # Alors on ajoute sa prediction a la somme\n",
    "                somme += j.predict(big_set.getX(i))\n",
    "        if somme >= 0 and big_set.getY(i) == -1 or somme < 0 and big_set.getY(i) == 1:  # Si la somme (prediction globale)\n",
    "            # se trompe, on augmente le nombre d'erreurs\n",
    "            erreur += 1\n",
    "        total += 1\n",
    "    return float(erreur)/total\n",
    "        "
   ]
  },
  {
   "cell_type": "markdown",
   "metadata": {
    "collapsed": true
   },
   "source": [
    "## Etape 3: Bagging de perceptrons\n",
    "\n",
    "<font size=\"+1\">**[Q]**</font> Ecrire et tester la classe <code>ClassifierBaggingPerceptron</code> qui implémente l'algorithme du bagging pour le perceptron."
   ]
  },
  {
   "cell_type": "code",
   "execution_count": 86,
   "metadata": {
    "collapsed": false
   },
   "outputs": [],
   "source": [
    "import copy\n",
    "class ClassifierBaggingPerceptron(Classifier):\n",
    "    def __init__(self, nb_perceptron, input_dimension, learning_rate, echantillon, remise, nb_iteration):\n",
    "        self.nb_perceptron = nb_perceptron\n",
    "        self.input_dimension = input_dimension\n",
    "        self.learning_rate = learning_rate\n",
    "        self.echantillon = echantillon\n",
    "        self.remise = remise\n",
    "        self.liste = []\n",
    "        self.nb_iteration = nb_perceptron\n",
    "        \n",
    "    def train(self, labeledSet):\n",
    "        for i in range(self.nb_perceptron):\n",
    "            perceptron = Perceptron(self.input_dimension, self.learning_rate, self.nb_iteration)  \n",
    "            pourcentage = int(labeledSet.size()*self.echantillon)  \n",
    "            perceptron.iterate(echantillonLS(labeledSet, pourcentage, self.remise))  \n",
    "            self.liste.append(perceptron)  \n",
    "            \n",
    "    \n",
    "    def predict(self, x):\n",
    "        somme = 0  # somme des predictions de chaque arbres\n",
    "        for i in self.liste:\n",
    "            somme += i.predict(x)  \n",
    "        if somme >= 0:  # Si la somme des predictions est nul ou > 0 alors on renvoie +1 sinon -1\n",
    "            return 1\n",
    "        else:\n",
    "            return -1\n",
    "        \n",
    "        \n",
    "class Perceptron(Classifier):\n",
    "    \n",
    "    def __init__(self, input_dimension, learning_rate, n):\n",
    "        self.input_dimension = input_dimension\n",
    "        self.learning_rate = learning_rate\n",
    "        self.w = np.random.rand(input_dimension) * 2 - 1\n",
    "        self.nombre_iterations = n\n",
    "    \n",
    "    def predict(self, x):\n",
    "        return np.dot(x, self.w)\n",
    "    \n",
    "    def train(self, labeledSet):\n",
    "        self.set = labeledSet\n",
    "        alea = [k for k in range(labeledSet.size())]\n",
    "        random.shuffle(alea)\n",
    "        for j in alea:\n",
    "            if self.predict(labeledSet.getX(j))*labeledSet.getY(j) < 0:\n",
    "                self.w = self.w + self.learning_rate * labeledSet.getY(j) * labeledSet.getX(j)\n",
    "                \n",
    "    def iterate(self, training):\n",
    "        for i in range(self.nombre_iterations):\n",
    "            old_w = copy.deepcopy(self.w)\n",
    "            self.train(training)\n",
    "            if np.array_equal(old_w, self.w):\n",
    "                #print \"Converge\"\n",
    "                break\n",
    "                    \n",
    "                "
   ]
  },
  {
   "cell_type": "code",
   "execution_count": 91,
   "metadata": {
    "collapsed": true
   },
   "outputs": [],
   "source": [
    "class ClassifierBaggingPerceptronKernel(Classifier):\n",
    "    def __init__(self, nb_perceptron, input_dimension, learning_rate, echantillon, remise, kernel, n):\n",
    "        self.nb_perceptron = nb_perceptron\n",
    "        self.input_dimension = input_dimension\n",
    "        self.learning_rate = learning_rate\n",
    "        self.echantillon = echantillon\n",
    "        self.remise = remise\n",
    "        self.kernel = kernel\n",
    "        self.liste = []\n",
    "        self.n = n\n",
    "        \n",
    "    def train(self, labeledSet):\n",
    "        for i in range(self.nb_perceptron):\n",
    "            perceptronk = PerceptronKernel(self.input_dimension, self.learning_rate, self.kernel, self.n)  \n",
    "            pourcentage = int(labeledSet.size()*self.echantillon)  \n",
    "            perceptronk.iterate(echantillonLS(labeledSet, pourcentage, self.remise))  \n",
    "            self.liste.append(perceptronk)  \n",
    "            \n",
    "    \n",
    "    def predict(self, x):\n",
    "        somme = 0  # somme des predictions de chaque arbres\n",
    "        for i in self.liste:\n",
    "            somme += i.predict(x)  \n",
    "        if somme >= 0:  # Si la somme des predictions est nul ou > 0 alors on renvoie +1 sinon -1\n",
    "            return 1\n",
    "        else:\n",
    "            return -1\n",
    "\n",
    "\n",
    "\n",
    "class PerceptronKernel(Classifier):\n",
    "    def __init__(self,dimension_kernel,learning_rate,kernel, n):\n",
    "        self.dimension_kernel = dimension_kernel\n",
    "        self.learning_rate = learning_rate\n",
    "        self.kernel = kernel\n",
    "        self.w = np.random.rand(dimension_kernel) * 2 - 1 \n",
    "        self.nb_iterations = n\n",
    "        \n",
    "    #Permet de calculer la prediction sur x => renvoie un score\n",
    "    def predict(self,x):\n",
    "        x = self.kernel.transform(x)\n",
    "        a = sum(self.w[i]*x[i] for i in range(len(x)))\n",
    "        return a\n",
    "    \n",
    "    #Permet d'entrainer le modele sur un ensemble de données\n",
    "    def train(self,labeledSet):\n",
    "        alea = [k for k in range(labeledSet.size())]\n",
    "        random.shuffle(alea)\n",
    "        for j in alea:\n",
    "            t = self.kernel.transform(labeledSet.getX(j))\n",
    "            if self.predict(t)*labeledSet.getY(j) < 0:\n",
    "                self.w = self.w + self.learning_rate * labeledSet.getY(j) * t   \n",
    "                \n",
    "    def iterate(self, training):\n",
    "        for i in range(self.nb_iterations):\n",
    "            old_w = copy.deepcopy(self.w)\n",
    "            self.train(training)\n",
    "            if np.array_equal(old_w, self.w):\n",
    "                break                   \n",
    "    \n",
    "\n",
    "class KernelPoly:\n",
    "    def transform(self,x):\n",
    "            return np.asarray([x[0], x[1], x[0]*x[1], x[0]**2, x[1]**2, 1])"
   ]
  },
  {
   "cell_type": "code",
   "execution_count": 38,
   "metadata": {
    "collapsed": false
   },
   "outputs": [
    {
     "name": "stdout",
     "output_type": "stream",
     "text": [
      "('accuracy:', 0.93)\n"
     ]
    }
   ],
   "source": [
    "# un exemple d'utilisation:\n",
    "percep=ClassifierBaggingPerceptron(20, 2, 0.01, 0, 0.1, True)           \n",
    "percep.train(data2)            \n",
    "    \n",
    "print(\"accuracy:\", percep.accuracy(set_test))    \n"
   ]
  },
  {
   "cell_type": "code",
   "execution_count": 87,
   "metadata": {
    "collapsed": false
   },
   "outputs": [
    {
     "data": {
      "image/png": "[encoded data removed]",
      "text/plain": [
       "<matplotlib.figure.Figure at 0x7f6df71ca4d0>"
      ]
     },
     "metadata": {},
     "output_type": "display_data"
    }
   ],
   "source": [
    "#################################\n",
    "#CE TEST PREND ENVIRON 5 MINUTES#\n",
    "#################################\n",
    "\n",
    "\n",
    "accuracy_test = []\n",
    "oob = []  # prediction de la methode out of bags en fonction du nombre d'abre\n",
    "nb_arbre = [i for i in range(1,101, 5)] + [100]\n",
    "\n",
    "for i in nb_arbre:\n",
    "    f = ClassifierBaggingPerceptron(i, 2, 0.01, 0.1, True, 100)   # On cree un classifieur avec i arbre\n",
    "    f.train(data2)  # On lance l'apprentissage des i arbres qui auront 100 exemples\n",
    "    accuracy_test.append(f.accuracy(set_test))\n",
    "    #oob.append(out_of_bags(f))\n",
    "    \n",
    "plt.plot(nb_arbre, accuracy_test, label=\"test\")\n",
    "plt.title(\"Taux de precision en fonction du nombre de perceptron\")\n",
    "plt.legend(bbox_to_anchor=(1.05, 1), loc=2, borderaxespad=0.)\n",
    "plt.show()\n",
    "\n",
    "#plt.plot(nb_arbre, oob)\n",
    "#plt.title(\"Resultat de la methode out of bags en fonction du nombre de perceptron\")\n",
    "#plt.show()"
   ]
  },
  {
   "cell_type": "markdown",
   "metadata": {},
   "source": [
    "## Etape 4: expérimentation\n",
    "\n",
    "<font size=\"+1\">**[Q]**</font> Appliquer l'algorithme de bagging d'arbres de décision sur d'autres bases d'apprentissage. Construire la courbe donnant le taux de prédiction pour une forêt d'arbres variant de 1 à 200 arbres. \n",
    "\n",
    "Réaliser ensuite la même expérimentation avec un bagging de perceptrons."
   ]
  },
  {
   "cell_type": "code",
   "execution_count": 69,
   "metadata": {
    "collapsed": false
   },
   "outputs": [
    {
     "name": "stderr",
     "output_type": "stream",
     "text": [
      "/usr/local/lib/python2.7/dist-packages/ipykernel/__main__.py:11: RuntimeWarning: covariance is not positive-semidefinite.\n",
      "/usr/local/lib/python2.7/dist-packages/ipykernel/__main__.py:12: RuntimeWarning: covariance is not positive-semidefinite.\n",
      "/usr/local/lib/python2.7/dist-packages/ipykernel/__main__.py:13: RuntimeWarning: covariance is not positive-semidefinite.\n",
      "/usr/local/lib/python2.7/dist-packages/ipykernel/__main__.py:14: RuntimeWarning: covariance is not positive-semidefinite.\n"
     ]
    },
    {
     "data": {
      "image/png": "[encoded data removed]",
      "text/plain": [
       "<matplotlib.figure.Figure at 0x7f6df73b79d0>"
      ]
     },
     "metadata": {},
     "output_type": "display_data"
    },
    {
     "data": {
      "image/png": "[encoded data removed]",
      "text/plain": [
       "<matplotlib.figure.Figure at 0x7f6df7274e50>"
      ]
     },
     "metadata": {},
     "output_type": "display_data"
    }
   ],
   "source": [
    "# Test sur le XOR\n",
    "\n",
    "#Initialisation XOR\n",
    "set_test_xor = LabeledSet(2) \n",
    "data = LabeledSet(2)\n",
    "\n",
    "mean1 = [0, 0]\n",
    "mean2 = [1, 1]\n",
    "mean3 = [1, 0]\n",
    "mean4 = [0, 1]\n",
    "mat1 = np.random.multivariate_normal(mean1, [[0,0.05],[0.05,0]], 250).T\n",
    "mat2 = np.random.multivariate_normal(mean2, [[0,0.05],[0.05,0]], 250).T\n",
    "mat3 = np.random.multivariate_normal(mean3, [[0,0.05],[0.05,0]], 250).T\n",
    "mat4 = np.random.multivariate_normal(mean4, [[0,0.05],[0.05,0]], 250).T\n",
    "\n",
    "t1 = random.sample([i for i in range(250)], 25)\n",
    "t2 = random.sample([i for i in range(250)], 25)\n",
    "t3 = random.sample([i for i in range(250)], 25)\n",
    "t4 = random.sample([i for i in range(250)], 25)\n",
    "\n",
    "for i in range(len(mat1[0])):\n",
    "    if i not in t1:\n",
    "        data.addExample([mat1[0][i], mat1[1][i]], 1)\n",
    "    else:\n",
    "        set_test_xor.addExample([mat1[0][i], mat1[1][i]], 1)\n",
    "    if i not in t2:\n",
    "        data.addExample([mat2[0][i], mat2[1][i]], 1)\n",
    "    else:\n",
    "        set_test_xor.addExample([mat2[0][i], mat2[1][i]], 1)\n",
    "for i in range(len(mat2[0])):\n",
    "    if i not in t3:\n",
    "        data.addExample([mat3[0][i], mat3[1][i]], -1)\n",
    "    else:\n",
    "        set_test_xor.addExample([mat3[0][i], mat3[1][i]], -1)\n",
    "    if i not in t4:\n",
    "        data.addExample([mat4[0][i], mat4[1][i]], -1)\n",
    "    else:\n",
    "        set_test_xor.addExample([mat4[0][i], mat4[1][i]], -1)\n",
    "        \n",
    "plot2DSet(data)\n",
    "plt.show()\n",
    "\n",
    "plot2DSet(set_test_xor)\n",
    "plt.show()"
   ]
  },
  {
   "cell_type": "code",
   "execution_count": 70,
   "metadata": {
    "collapsed": false
   },
   "outputs": [
    {
     "data": {
      "image/png": "[encoded data removed]",
      "text/plain": [
       "<matplotlib.figure.Figure at 0x7f6df7137710>"
      ]
     },
     "metadata": {},
     "output_type": "display_data"
    }
   ],
   "source": [
    "accuracy_test = []\n",
    "nb_arbre = [i for i in range(1,101, 5)] + [100]\n",
    "\n",
    "\n",
    "for i in nb_arbre:\n",
    "    f = ClassifierBaggingTree(i,0.1,0.0,True)  # On cree un classifieur avec i arbre\n",
    "    f.train(data)  # On lance l'apprentissage des i arbres qui auront 100 exemples\n",
    "    accuracy_test.append(f.accuracy(set_test_xor))\n",
    "    \n",
    "    \n",
    "plt.plot(nb_arbre, accuracy_test, label=\"test\")\n",
    "plt.title(\"Taux de precision en fonction du nombre d'arbre\")\n",
    "plt.legend(bbox_to_anchor=(1.05, 1), loc=2, borderaxespad=0.)\n",
    "plt.show()"
   ]
  },
  {
   "cell_type": "code",
   "execution_count": 92,
   "metadata": {
    "collapsed": false
   },
   "outputs": [
    {
     "name": "stdout",
     "output_type": "stream",
     "text": [
      "1\n",
      "6\n",
      "11\n",
      "16\n",
      "21\n",
      "26\n",
      "31\n",
      "36\n",
      "41\n",
      "46\n",
      "51\n",
      "56\n",
      "61\n",
      "66\n",
      "71\n",
      "76\n",
      "81\n",
      "86\n",
      "91\n",
      "96\n",
      "100\n"
     ]
    },
    {
     "data": {
      "image/png": "[encoded data removed]",
      "text/plain": [
       "<matplotlib.figure.Figure at 0x7f6df76098d0>"
      ]
     },
     "metadata": {},
     "output_type": "display_data"
    }
   ],
   "source": [
    "#################################\n",
    "#CE TEST PREND ENVIRON 5 MINUTES#\n",
    "#################################\n",
    "\n",
    "\n",
    "accuracy_test = []\n",
    "nb_arbre = [i for i in range(1,101, 5)] + [100]\n",
    "\n",
    "for i in nb_arbre:\n",
    "    f = ClassifierBaggingPerceptronKernel(i, 6, 0.01, 0.1, True, KernelPoly(), 100)   # On cree un classifieur avec i arbre\n",
    "    f.train(data)  # On lance l'apprentissage des i arbres qui auront 100 exemples\n",
    "    accuracy_test.append(f.accuracy(set_test_xor))\n",
    "    \n",
    "plt.plot(nb_arbre, accuracy_test, label=\"test\")\n",
    "plt.title(\"Taux de precision en fonction du nombre de perceptron\")\n",
    "plt.legend(bbox_to_anchor=(1.05, 1), loc=2, borderaxespad=0.)\n",
    "plt.show()\n"
   ]
  }
 ],
 "metadata": {
  "kernelspec": {
   "display_name": "Python 2",
   "language": "python",
   "name": "python2"
  },
  "language_info": {
   "codemirror_mode": {
    "name": "ipython",
    "version": 2
   },
   "file_extension": ".py",
   "mimetype": "text/x-python",
   "name": "python",
   "nbconvert_exporter": "python",
   "pygments_lexer": "ipython2",
   "version": "2.7.9"
  }
 },
 "nbformat": 4,
 "nbformat_minor": 0
}
