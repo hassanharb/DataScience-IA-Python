{
 "cells": [
  {
   "cell_type": "markdown",
   "metadata": {},
   "source": [
    "TME 1 Harb Hassan et Chrétien Clément"
   ]
  },
  {
   "cell_type": "markdown",
   "metadata": {},
   "source": [
    "L'objectif du TP est d'implémenter les mesures vues en cours: moyenne, médiane, quartiles, corrélations. Le dataset concerné est un jeu de donnée qui contient le prix des 3 qualités de médicaments dans différents états d'amériques. La référence du dataset est disponible ici : https://github.com/amitkaps/weed/blob/master/1-Acquire.ipynb"
   ]
  },
  {
   "cell_type": "code",
   "execution_count": 2,
   "metadata": {
    "collapsed": true
   },
   "outputs": [],
   "source": [
    "import numpy as np\n",
    "import pandas as pd\n",
    "from datetime import datetime as dt\n",
    "import matplotlib.pyplot as plt\n",
    "%matplotlib inline  "
   ]
  },
  {
   "cell_type": "markdown",
   "metadata": {},
   "source": [
    "Les données sont composées de trois fichiers:\n",
    "* Le prix par date et par état (pour trois qualités différentes)\n",
    "* Des informations démographiques sur chaque état\n",
    "* La population de chaque état\n"
   ]
  },
  {
   "cell_type": "code",
   "execution_count": 3,
   "metadata": {
    "collapsed": false
   },
   "outputs": [],
   "source": [
    "prices_pd = pd.read_csv(\"data/Weed_Price.csv\", parse_dates=[-1])\n",
    "demography_pd = pd.read_csv(\"data/Demographics_State.csv\")\n",
    "population_pd = pd.read_csv(\"data/Population_State.csv\")"
   ]
  },
  {
   "cell_type": "markdown",
   "metadata": {},
   "source": [
    "## Exercice: \n",
    "* Commencez par visualiser la structure des données chargées (méthode ''head()'' et ''tail()'')"
   ]
  },
  {
   "cell_type": "code",
   "execution_count": 4,
   "metadata": {
    "collapsed": false
   },
   "outputs": [
    {
     "name": "stdout",
     "output_type": "stream",
     "text": [
      "               State   HighQ  HighQN    MedQ  MedQN  LowQ  LowQN       date\n",
      "22894       Virginia  364.98    3513  293.12   3079   NaN    284 2014-12-31\n",
      "22895     Washington  233.05    3337  189.92   3562   NaN    160 2014-12-31\n",
      "22896  West Virginia  359.35     551  224.03    545   NaN     60 2014-12-31\n",
      "22897      Wisconsin  350.52    2244  272.71   2221   NaN    167 2014-12-31\n",
      "22898        Wyoming  322.27     131  351.86    197   NaN     12 2014-12-31\n"
     ]
    }
   ],
   "source": [
    "print prices_pd.tail(5)"
   ]
  },
  {
   "cell_type": "code",
   "execution_count": 5,
   "metadata": {
    "collapsed": false
   },
   "outputs": [
    {
     "name": "stdout",
     "output_type": "stream",
     "text": [
      "           region  total_population  percent_white  percent_black  \\\n",
      "46       virginia           8100653             64             19   \n",
      "47     washington           6819579             72              3   \n",
      "48  west virginia           1853619             93              3   \n",
      "49      wisconsin           5706871             83              6   \n",
      "50        wyoming            570134             85              1   \n",
      "\n",
      "    percent_asian  percent_hispanic  per_capita_income  median_rent  \\\n",
      "46              6                 8              33493          910   \n",
      "47              7                11              30742          853   \n",
      "48              1                 1              22966          448   \n",
      "49              2                 6              27523          636   \n",
      "50              1                 9              28902          647   \n",
      "\n",
      "    median_age  \n",
      "46        37.5  \n",
      "47        37.3  \n",
      "48        41.5  \n",
      "49        38.7  \n",
      "50        36.8  \n"
     ]
    }
   ],
   "source": [
    "print demography_pd.tail(5)"
   ]
  },
  {
   "cell_type": "code",
   "execution_count": 6,
   "metadata": {
    "collapsed": false
   },
   "outputs": [
    {
     "name": "stdout",
     "output_type": "stream",
     "text": [
      "                 region     value\n",
      "0               alabama   4777326\n",
      "1                alaska    711139\n",
      "2               arizona   6410979\n",
      "3              arkansas   2916372\n",
      "4            california  37325068\n",
      "5              colorado   5042853\n",
      "6           connecticut   3572213\n",
      "7              delaware    900131\n",
      "8  district of columbia    605759\n",
      "9               florida  18885152\n"
     ]
    }
   ],
   "source": [
    "print population_pd.head(10)"
   ]
  },
  {
   "cell_type": "code",
   "execution_count": 7,
   "metadata": {
    "collapsed": false
   },
   "outputs": [
    {
     "name": "stdout",
     "output_type": "stream",
     "text": [
      "           region    value\n",
      "46       virginia  8014955\n",
      "47     washington  6738714\n",
      "48  west virginia  1850481\n",
      "49      wisconsin  5687219\n",
      "50        wyoming   562803\n"
     ]
    }
   ],
   "source": [
    "print population_pd.tail(5)"
   ]
  },
  {
   "cell_type": "markdown",
   "metadata": {},
   "source": [
    "Les types des données peuvent être récupérer à travers la méthode ''dtypes''"
   ]
  },
  {
   "cell_type": "code",
   "execution_count": 8,
   "metadata": {
    "collapsed": false
   },
   "outputs": [
    {
     "data": {
      "text/plain": [
       "State             object\n",
       "HighQ            float64\n",
       "HighQN             int64\n",
       "MedQ             float64\n",
       "MedQN              int64\n",
       "LowQ             float64\n",
       "LowQN              int64\n",
       "date      datetime64[ns]\n",
       "dtype: object"
      ]
     },
     "execution_count": 8,
     "metadata": {},
     "output_type": "execute_result"
    }
   ],
   "source": [
    "prices_pd.dtypes"
   ]
  },
  {
   "cell_type": "markdown",
   "metadata": {},
   "source": [
    "Nous allons maintenant écrire les fonctions permettant de calculer des mesures ''basiques'' sur des données unidimensionnelles. Pour cela, nous allons travailler avec la structure ''array'' de numpy. Pour convertir une colonne ''pandas'' en ''array'', voici commment faire:"
   ]
  },
  {
   "cell_type": "code",
   "execution_count": 9,
   "metadata": {
    "collapsed": false
   },
   "outputs": [
    {
     "data": {
      "text/plain": [
       "array([198.64, 260.6 , 209.35, ..., 224.03, 272.71, 351.86])"
      ]
     },
     "execution_count": 9,
     "metadata": {},
     "output_type": "execute_result"
    }
   ],
   "source": [
    "prices_pd[\"MedQ\"].values"
   ]
  },
  {
   "cell_type": "markdown",
   "metadata": {},
   "source": [
    "## La moyenne\n",
    "\n",
    "### Exercice: \n",
    "Ecrire la fonction moyenne(valeurs) qui calcule la moyenne des éléments d'un tableau (en utilisant la boucle ''for'', sans utiliser les fonctions déjà implémentées dans numpy)"
   ]
  },
  {
   "cell_type": "code",
   "execution_count": 10,
   "metadata": {
    "collapsed": true
   },
   "outputs": [],
   "source": [
    "def moyenne(tab):\n",
    "    somme = 0\n",
    "    for i in tab:\n",
    "        somme += i\n",
    "    return somme/len(tab)"
   ]
  },
  {
   "cell_type": "markdown",
   "metadata": {},
   "source": [
    "Tester la fonction moyenne et comparer vos résultats avec l'implémentation de base de python"
   ]
  },
  {
   "cell_type": "code",
   "execution_count": 11,
   "metadata": {
    "collapsed": false
   },
   "outputs": [
    {
     "name": "stdout",
     "output_type": "stream",
     "text": [
      "La moyenne (qualité moyenne) est : 247.618306 dollars (fontion python)\n",
      "La moyenne (qualité moyenne) est : 247.618306 dollars (notre fonction)\n"
     ]
    }
   ],
   "source": [
    "print(\"La moyenne (qualité moyenne) est : %f dollars (fontion python)\" % prices_pd[\"MedQ\"].mean())\n",
    "print(\"La moyenne (qualité moyenne) est : %f dollars (notre fonction)\" % moyenne(prices_pd[\"MedQ\"]))"
   ]
  },
  {
   "cell_type": "markdown",
   "metadata": {},
   "source": [
    "### Exercice:\n",
    "Calculez:\n",
    "* La moyenne des prix pour les qualités medium et high\n",
    "* La moyenne des prix pour les qualités medium et high dans l'état de ''New York''\n",
    "\n",
    "Les calculs seront fait d'une part à l'aide de votre fonction, et d'autre part à l'aide des fonctions de python. "
   ]
  },
  {
   "cell_type": "code",
   "execution_count": 12,
   "metadata": {
    "collapsed": false
   },
   "outputs": [
    {
     "name": "stdout",
     "output_type": "stream",
     "text": [
      "La moyenne (qualité haute) est : 329.759854 dollars (fontion python)\n",
      "La moyenne (qualité haute) est : 329.759854 dollars (notre fonction)\n",
      "\n",
      "La moyenne (qualité moyenne) est : 247.618306 dollars (fontion python)\n",
      "La moyenne (qualité moyenne) est : 247.618306 dollars (notre fonction)\n",
      "\n",
      "La moyenne (qualité haute) de l'état de New York est : 346.912762 dollars (fontion python)\n",
      "La moyenne (qualité haute) de l'état de New York est : 346.912762 dollars (notre fonction)\n",
      "\n",
      "La moyenne (qualité moyenne) de l'état de New York est : 265.376949 dollars (fontion python)\n",
      "La moyenne (qualité moyenne) de l'état de New York est : 265.376949 dollars (notre fonction)\n"
     ]
    }
   ],
   "source": [
    "print(\"La moyenne (qualité haute) est : %f dollars (fontion python)\" % prices_pd[\"HighQ\"].mean())\n",
    "print(\"La moyenne (qualité haute) est : %f dollars (notre fonction)\" % moyenne(prices_pd[\"HighQ\"]))\n",
    "print\n",
    "print(\"La moyenne (qualité moyenne) est : %f dollars (fontion python)\" % prices_pd[\"MedQ\"].mean())\n",
    "print(\"La moyenne (qualité moyenne) est : %f dollars (notre fonction)\" % moyenne(prices_pd[\"MedQ\"]))\n",
    "print \n",
    "tab_NY = prices_pd[prices_pd.State==\"New York\"]\n",
    "print(\"La moyenne (qualité haute) de l'état de New York est : %f dollars (fontion python)\" % tab_NY[\"HighQ\"].mean())\n",
    "print(\"La moyenne (qualité haute) de l'état de New York est : %f dollars (notre fonction)\" % moyenne(tab_NY[\"HighQ\"].values))\n",
    "print\n",
    "print(\"La moyenne (qualité moyenne) de l'état de New York est : %f dollars (fontion python)\" % tab_NY[\"MedQ\"].mean())\n",
    "print(\"La moyenne (qualité moyenne) de l'état de New York est : %f dollars (notre fonction)\" % moyenne(tab_NY[\"MedQ\"].values))"
   ]
  },
  {
   "cell_type": "markdown",
   "metadata": {},
   "source": [
    "### Exercice\n",
    "Calculez la moyenne des prix qualités medium et high dans tous les états -- la liste des états est obtenues ainsi states=np.unique(prices_pd[\"State\"].values)\n",
    "\n",
    "Pour cela, vous pouvez (devez) le faire de deux manières:\n",
    "* Faites une boucle sur chacun des états\n",
    "* Utilisez la fonction groupby comme expliqué ici : http://pandas.pydata.org/pandas-docs/stable/groupby.html"
   ]
  },
  {
   "cell_type": "code",
   "execution_count": 13,
   "metadata": {
    "collapsed": false
   },
   "outputs": [
    {
     "name": "stdout",
     "output_type": "stream",
     "text": [
      "Etat\t\t\t\tmoyenne prix medium\t\t\t\tmoyenne prix high\n",
      "Alabama\t\t\t\t204.6061692650334\t\t\t\t339.5618485523386\n",
      "Alaska\t\t\t\t262.0463919821826\t\t\t\t291.4820044543429\n",
      "Arizona\t\t\t\t209.36534521158129\t\t\t\t300.66748329621385\n",
      "Arkansas\t\t\t\t190.4146547884187\t\t\t\t348.0561469933185\n",
      "California\t\t\t\t191.26890868596882\t\t\t\t245.37612472160356\n",
      "Colorado\t\t\t\t196.5325167037862\t\t\t\t238.91870824053453\n",
      "Connecticut\t\t\t\t271.3238975501113\t\t\t\t341.6940757238307\n",
      "Delaware\t\t\t\t231.23031180400892\t\t\t\t366.7818485523385\n",
      "District of Columbia\t\t\t\t288.2513140311804\t\t\t\t348.1774164810691\n",
      "Florida\t\t\t\t217.88256124721602\t\t\t\t302.57031180400895\n",
      "Georgia\t\t\t\t215.9436302895323\t\t\t\t326.6596436525612\n",
      "Hawaii\t\t\t\t268.73815144766144\t\t\t\t309.9189309576838\n",
      "Idaho\t\t\t\t249.8224276169265\t\t\t\t275.6393763919822\n",
      "Illinois\t\t\t\t284.18008908685965\t\t\t\t355.46334075723826\n",
      "Indiana\t\t\t\t211.98951002227173\t\t\t\t333.1911135857461\n",
      "Iowa\t\t\t\t289.9455233853007\t\t\t\t367.09579064587973\n",
      "Kansas\t\t\t\t261.24307349665924\t\t\t\t350.8191982182628\n",
      "Kentucky\t\t\t\t179.93376391982184\t\t\t\t338.855167037862\n",
      "Louisiana\t\t\t\t243.11788418708238\t\t\t\t366.8325389755011\n",
      "Maine\t\t\t\t248.43817371937638\t\t\t\t315.39008908685975\n",
      "Maryland\t\t\t\t254.14044543429844\t\t\t\t370.98516703786197\n",
      "Massachusetts\t\t\t\t290.1978841870824\t\t\t\t349.01164810690426\n",
      "Michigan\t\t\t\t273.3523385300668\t\t\t\t292.09051224944324\n",
      "Minnesota\t\t\t\t275.85006681514477\t\t\t\t358.24327394209354\n",
      "Mississippi\t\t\t\t148.23160356347438\t\t\t\t337.5592873051225\n",
      "Missouri\t\t\t\t244.81220489977727\t\t\t\t359.27663697104674\n",
      "Montana\t\t\t\t248.39855233853004\t\t\t\t267.8317371937639\n",
      "Nebraska\t\t\t\t248.16064587973275\t\t\t\t341.5593541202673\n",
      "Nevada\t\t\t\t226.21741648106902\t\t\t\t267.8201113585746\n",
      "New Hampshire\t\t\t\t290.1077505567929\t\t\t\t359.4760356347439\n",
      "New Jersey\t\t\t\t288.72701559020044\t\t\t\t349.32169265033406\n",
      "New Mexico\t\t\t\t209.2422494432071\t\t\t\t289.56253897550107\n",
      "New York\t\t\t\t265.37694877505567\t\t\t\t346.91276169265035\n",
      "North Carolina\t\t\t\t245.69922048997776\t\t\t\t349.4750334075724\n",
      "North Dakota\t\t\t\t349.0666815144766\t\t\t\t398.66875278396435\n",
      "Ohio\t\t\t\t216.95316258351895\t\t\t\t334.55465478841865\n",
      "Oklahoma\t\t\t\t233.82200445434296\t\t\t\t361.573140311804\n",
      "Oregon\t\t\t\t183.88986636971043\t\t\t\t208.49623608017816\n",
      "Pennsylvania\t\t\t\t267.8913363028953\t\t\t\t366.1256792873051\n",
      "Rhode Island\t\t\t\t258.172293986637\t\t\t\t323.8383518930958\n",
      "South Carolina\t\t\t\t203.33977728285078\t\t\t\t341.6929175946548\n",
      "South Dakota\t\t\t\t351.9448106904231\t\t\t\t375.8184855233853\n",
      "Tennessee\t\t\t\t225.80886414253897\t\t\t\t352.7530066815144\n",
      "Texas\t\t\t\t233.5368374164811\t\t\t\t337.1052115812917\n",
      "Utah\t\t\t\t237.3718930957684\t\t\t\t289.5960579064588\n",
      "Vermont\t\t\t\t315.5475501113586\t\t\t\t374.25044543429846\n",
      "Virginia\t\t\t\t290.4080846325167\t\t\t\t368.1469933184855\n",
      "Washington\t\t\t\t189.92498886414256\t\t\t\t233.38781737193764\n",
      "West Virginia\t\t\t\t215.88380846325168\t\t\t\t357.394565701559\n",
      "Wisconsin\t\t\t\t271.6481737193764\t\t\t\t353.05251670378624\n",
      "Wyoming\t\t\t\t358.5348329621381\t\t\t\t339.0207795100223\n",
      "State\n",
      "Alabama                 204.606169\n",
      "Alaska                  262.046392\n",
      "Arizona                 209.365345\n",
      "Arkansas                190.414655\n",
      "California              191.268909\n",
      "Colorado                196.532517\n",
      "Connecticut             271.323898\n",
      "Delaware                231.230312\n",
      "District of Columbia    288.251314\n",
      "Florida                 217.882561\n",
      "Georgia                 215.943630\n",
      "Hawaii                  268.738151\n",
      "Idaho                   249.822428\n",
      "Illinois                284.180089\n",
      "Indiana                 211.989510\n",
      "Iowa                    289.945523\n",
      "Kansas                  261.243073\n",
      "Kentucky                179.933764\n",
      "Louisiana               243.117884\n",
      "Maine                   248.438174\n",
      "Maryland                254.140445\n",
      "Massachusetts           290.197884\n",
      "Michigan                273.352339\n",
      "Minnesota               275.850067\n",
      "Mississippi             148.231604\n",
      "Missouri                244.812205\n",
      "Montana                 248.398552\n",
      "Nebraska                248.160646\n",
      "Nevada                  226.217416\n",
      "New Hampshire           290.107751\n",
      "New Jersey              288.727016\n",
      "New Mexico              209.242249\n",
      "New York                265.376949\n",
      "North Carolina          245.699220\n",
      "North Dakota            349.066682\n",
      "Ohio                    216.953163\n",
      "Oklahoma                233.822004\n",
      "Oregon                  183.889866\n",
      "Pennsylvania            267.891336\n",
      "Rhode Island            258.172294\n",
      "South Carolina          203.339777\n",
      "South Dakota            351.944811\n",
      "Tennessee               225.808864\n",
      "Texas                   233.536837\n",
      "Utah                    237.371893\n",
      "Vermont                 315.547550\n",
      "Virginia                290.408085\n",
      "Washington              189.924989\n",
      "West Virginia           215.883808\n",
      "Wisconsin               271.648174\n",
      "Wyoming                 358.534833\n",
      "Name: MedQ, Length: 51, dtype: float64\n",
      "State\n",
      "Alabama                 339.561849\n",
      "Alaska                  291.482004\n",
      "Arizona                 300.667483\n",
      "Arkansas                348.056147\n",
      "California              245.376125\n",
      "Colorado                238.918708\n",
      "Connecticut             341.694076\n",
      "Delaware                366.781849\n",
      "District of Columbia    348.177416\n",
      "Florida                 302.570312\n",
      "Georgia                 326.659644\n",
      "Hawaii                  309.918931\n",
      "Idaho                   275.639376\n",
      "Illinois                355.463341\n",
      "Indiana                 333.191114\n",
      "Iowa                    367.095791\n",
      "Kansas                  350.819198\n",
      "Kentucky                338.855167\n",
      "Louisiana               366.832539\n",
      "Maine                   315.390089\n",
      "Maryland                370.985167\n",
      "Massachusetts           349.011648\n",
      "Michigan                292.090512\n",
      "Minnesota               358.243274\n",
      "Mississippi             337.559287\n",
      "Missouri                359.276637\n",
      "Montana                 267.831737\n",
      "Nebraska                341.559354\n",
      "Nevada                  267.820111\n",
      "New Hampshire           359.476036\n",
      "New Jersey              349.321693\n",
      "New Mexico              289.562539\n",
      "New York                346.912762\n",
      "North Carolina          349.475033\n",
      "North Dakota            398.668753\n",
      "Ohio                    334.554655\n",
      "Oklahoma                361.573140\n",
      "Oregon                  208.496236\n",
      "Pennsylvania            366.125679\n",
      "Rhode Island            323.838352\n",
      "South Carolina          341.692918\n",
      "South Dakota            375.818486\n",
      "Tennessee               352.753007\n",
      "Texas                   337.105212\n",
      "Utah                    289.596058\n",
      "Vermont                 374.250445\n",
      "Virginia                368.146993\n",
      "Washington              233.387817\n",
      "West Virginia           357.394566\n",
      "Wisconsin               353.052517\n",
      "Wyoming                 339.020780\n",
      "Name: HighQ, Length: 51, dtype: float64\n"
     ]
    }
   ],
   "source": [
    "states= np.unique(prices_pd[\"State\"].values)\n",
    "print \"Etat\\t\\t\\t\\tmoyenne prix medium\\t\\t\\t\\tmoyenne prix high\"\n",
    "for i in states:\n",
    "    etat_courant = prices_pd[prices_pd.State==i]\n",
    "    print i+\"\\t\\t\\t\\t\"+str(etat_courant[\"MedQ\"].mean())+\"\\t\\t\\t\\t\"+str(etat_courant[\"HighQ\"].mean())\n",
    "    \n",
    "print prices_pd.groupby(\"State\")[\"MedQ\"].mean()\n",
    "print prices_pd.groupby(\"State\")[\"HighQ\"].mean()"
   ]
  },
  {
   "cell_type": "markdown",
   "metadata": {},
   "source": [
    "### Exercice\n",
    "Calculez la moyenne (avec les deux fonctions) sur le prix de la basse qualité. Que constatez vous ? Expliquez..."
   ]
  },
  {
   "cell_type": "code",
   "execution_count": 14,
   "metadata": {
    "collapsed": false
   },
   "outputs": [
    {
     "name": "stdout",
     "output_type": "stream",
     "text": [
      "La moyenne (qualité moyenne) est : 203.747847 dollars (fontion python)\n",
      "La moyenne (qualité moyenne) est : nan dollars (notre fonction)\n"
     ]
    }
   ],
   "source": [
    "print(\"La moyenne (qualité moyenne) est : %f dollars (fontion python)\" % prices_pd[\"LowQ\"].mean())\n",
    "print(\"La moyenne (qualité moyenne) est : %f dollars (notre fonction)\" % moyenne(prices_pd[\"LowQ\"]))"
   ]
  },
  {
   "cell_type": "markdown",
   "metadata": {},
   "source": [
    "### Exercice: \n",
    "Remplacez le NAN de la colonne LowQ à l'aide de la fonction décrite ici: http://pandas.pydata.org/pandas-docs/version/0.17.1/generated/pandas.DataFrame.fillna.html. Nous souhaitons plus particulièrement utiliser la méthode ''fill'' après avoir trié par état et par date : prices_pd.sort(columns=['State', 'date'], inplace=True). Expliquez ce que cela fait exactement"
   ]
  },
  {
   "cell_type": "code",
   "execution_count": 15,
   "metadata": {
    "collapsed": false
   },
   "outputs": [],
   "source": [
    "prices_pd.sort(columns=['State', 'date'], inplace=True)\n",
    "prices_pd = prices_pd.fillna(value=prices_pd[\"LowQ\"].mean())"
   ]
  },
  {
   "cell_type": "markdown",
   "metadata": {},
   "source": [
    "### Exercice: \n",
    "Recalculez la moyenne des prix pour la qualité 'Low'. Qu'en est-il maintenant ? "
   ]
  },
  {
   "cell_type": "code",
   "execution_count": 16,
   "metadata": {
    "collapsed": false
   },
   "outputs": [
    {
     "name": "stdout",
     "output_type": "stream",
     "text": [
      "La moyenne (qualité moyenne) est : 203.747847 dollars (fontion python)\n",
      "La moyenne (qualité moyenne) est : 203.747847 dollars (notre fonction)\n"
     ]
    }
   ],
   "source": [
    "print(\"La moyenne (qualité moyenne) est : %f dollars (fontion python)\" % prices_pd[\"LowQ\"].mean())\n",
    "print(\"La moyenne (qualité moyenne) est : %f dollars (notre fonction)\" % moyenne(prices_pd[\"LowQ\"]))"
   ]
  },
  {
   "cell_type": "markdown",
   "metadata": {},
   "source": [
    "### Exercice :\n",
    "Dessinez l'histogramme des moyennes des prix (LowQ) par etat. Pour cela, inspirez vous de http://matplotlib.org/examples/lines_bars_and_markers/barh_demo.html"
   ]
  },
  {
   "cell_type": "code",
   "execution_count": 17,
   "metadata": {
    "collapsed": false,
    "scrolled": true
   },
   "outputs": [
    {
     "data": {
      "image/png": "[encoded data removed]",
      "text/plain": [
       "<matplotlib.figure.Figure at 0x7f68f46e5510>"
      ]
     },
     "metadata": {},
     "output_type": "display_data"
    }
   ],
   "source": [
    "plt.rcdefaults()\n",
    "fig, ax = plt.subplots()\n",
    "states = np.unique(prices_pd[\"State\"].values)\n",
    "state = []\n",
    "moyenne_low = []\n",
    "for i in states:\n",
    "    etat_courant = prices_pd[prices_pd.State==i]\n",
    "    state.append(i)\n",
    "    moyenne_low.append(etat_courant[\"LowQ\"].mean())\n",
    "x_pos = np.arange(len(moyenne_low))\n",
    "ax.barh(x_pos, moyenne_low, color='yellow')\n",
    "ax.set_yticks(x_pos)\n",
    "ax.set_yticklabels(state)\n",
    "plt.ylim(51, 0)\n",
    "plt.show()"
   ]
  },
  {
   "cell_type": "markdown",
   "metadata": {},
   "source": [
    "## Estimation de densité\n",
    "\n",
    "Nous allons maintenant nous intéresser à calculer le nombre d'états concernés par une fourchette de prix. Pour cela:\n",
    "* Calculer le tableau des prix moyens de la facon suivante\n",
    "    \n"
   ]
  },
  {
   "cell_type": "code",
   "execution_count": 18,
   "metadata": {
    "collapsed": true
   },
   "outputs": [],
   "source": [
    "prix_moyens=prices_pd[[\"State\",\"LowQ\"]].groupby([\"State\"]).mean()\n",
    "#print(prix_moyens)\n",
    "#print(\"===========\")\n",
    "prix_moyens=prix_moyens.values.ravel()\n",
    "#print(prix_moyens)"
   ]
  },
  {
   "cell_type": "markdown",
   "metadata": {},
   "source": [
    "### Exercice : \n",
    "* Calculez les valeurs min et max des prix moyens"
   ]
  },
  {
   "cell_type": "code",
   "execution_count": 19,
   "metadata": {
    "collapsed": false
   },
   "outputs": [
    {
     "name": "stdout",
     "output_type": "stream",
     "text": [
      "Le minimum est : 137.53098968376693\n",
      "Le maximum est : 449.57631262363685\n"
     ]
    }
   ],
   "source": [
    "print \"Le minimum est :\", min(prix_moyens)\n",
    "print \"Le maximum est :\", max(prix_moyens)"
   ]
  },
  {
   "cell_type": "markdown",
   "metadata": {},
   "source": [
    "### Exercice : \n",
    "Prenez un intervalle de discrétisation de taille 20, et calculez l'effectif (sous forme d'un vecteur) du nombre d'états par ''bins''. Dessinez l'histogramme correspondant"
   ]
  },
  {
   "cell_type": "code",
   "execution_count": 20,
   "metadata": {
    "collapsed": false
   },
   "outputs": [
    {
     "data": {
      "image/png": "[encoded data removed]",
      "text/plain": [
       "<matplotlib.figure.Figure at 0x7f68f46d8a10>"
      ]
     },
     "metadata": {},
     "output_type": "display_data"
    }
   ],
   "source": [
    "boite=[]\n",
    "for i in range(int(min(prix_moyens))+20, int(max(prix_moyens))+20, 20):\n",
    "    petite_boite = 0\n",
    "    for j in prix_moyens:\n",
    "        if j <= i and j >= i-20:\n",
    "            petite_boite += 1\n",
    "    boite.append(petite_boite)\n",
    "\n",
    "plt.rcdefaults()\n",
    "fig, ax = plt.subplots(1,1)\n",
    "nom_boite= []\n",
    "for i in range(137,458,20):\n",
    "    nom_boite.append(\"[\"+str(i)+\" - \"+str(i+20)+\"]\")\n",
    "x_pos = np.arange(len(boite))\n",
    "ax.barh(x_pos, boite, color='yellow')\n",
    "ax.set_yticks(x_pos)\n",
    "ax.set_yticklabels(nom_boite)\n",
    "plt.show()"
   ]
  },
  {
   "cell_type": "markdown",
   "metadata": {},
   "source": [
    "### Exercice :\n",
    "Prenez maintenant un intervalle de taille 40"
   ]
  },
  {
   "cell_type": "code",
   "execution_count": 21,
   "metadata": {
    "collapsed": false
   },
   "outputs": [
    {
     "data": {
      "image/png": "[encoded data removed]",
      "text/plain": [
       "<matplotlib.figure.Figure at 0x7f68f0a0ca10>"
      ]
     },
     "metadata": {},
     "output_type": "display_data"
    }
   ],
   "source": [
    "boite=[]\n",
    "for i in range(int(min(prix_moyens))+40, int(max(prix_moyens))+40, 40):\n",
    "    petite_boite = 0\n",
    "    for j in prix_moyens:\n",
    "        if j <= i and j >= i-40:\n",
    "            petite_boite += 1\n",
    "    boite.append(petite_boite)\n",
    "\n",
    "plt.rcdefaults()\n",
    "fig, ax = plt.subplots(1,1)\n",
    "nom_boite= []\n",
    "for i in range(137,437+40,40):\n",
    "    nom_boite.append(\"[\"+str(i)+\" - \"+str(i+40)+\"]\")\n",
    "x_pos = np.arange(len(boite))\n",
    "ax.barh(x_pos, boite, color='yellow')\n",
    "ax.set_yticks(x_pos)\n",
    "ax.set_yticklabels(nom_boite)\n",
    "plt.show()"
   ]
  },
  {
   "cell_type": "markdown",
   "metadata": {},
   "source": [
    "On peut faire cela de la manière suivante avec pandas"
   ]
  },
  {
   "cell_type": "code",
   "execution_count": 22,
   "metadata": {
    "collapsed": false
   },
   "outputs": [
    {
     "name": "stderr",
     "output_type": "stream",
     "text": [
      "/users/Etu5/3774365/.local/lib/python2.7/site-packages/matplotlib/__init__.py:830: MatplotlibDeprecationWarning: axes.color_cycle is deprecated and replaced with axes.prop_cycle; please use the latter.\n",
      "  mplDeprecation)\n"
     ]
    },
    {
     "data": {
      "text/plain": [
       "<matplotlib.axes._subplots.AxesSubplot at 0x7f68f2577090>"
      ]
     },
     "execution_count": 22,
     "metadata": {},
     "output_type": "execute_result"
    }
   ],
   "source": [
    "effectif=pd.cut(prix_moyens,20)\n",
    "effectif2=pd.value_counts(effectif)\n",
    "effectif3=effectif2.reindex(effectif.levels)\n",
    "effectif3.plot(kind='bar')"
   ]
  },
  {
   "cell_type": "markdown",
   "metadata": {},
   "source": [
    "Et comme cela avec numpy"
   ]
  },
  {
   "cell_type": "code",
   "execution_count": 23,
   "metadata": {
    "collapsed": false
   },
   "outputs": [
    {
     "data": {
      "text/plain": [
       "(array([ 1.,  6., 15., 11.,  6.,  8.,  0.,  0.,  1.,  0.,  1.,  0.,  0.,\n",
       "         0.,  0.,  0.,  0.,  0.,  0.,  2.]),\n",
       " array([137.53098968, 153.13325583, 168.73552198, 184.33778812,\n",
       "        199.94005427, 215.54232042, 231.14458657, 246.74685271,\n",
       "        262.34911886, 277.95138501, 293.55365115, 309.1559173 ,\n",
       "        324.75818345, 340.36044959, 355.96271574, 371.56498189,\n",
       "        387.16724804, 402.76951418, 418.37178033, 433.97404648,\n",
       "        449.57631262]),\n",
       " <a list of 20 Patch objects>)"
      ]
     },
     "execution_count": 23,
     "metadata": {},
     "output_type": "execute_result"
    }
   ],
   "source": [
    "plt.hist(prix_moyens,bins=20)"
   ]
  },
  {
   "cell_type": "markdown",
   "metadata": {},
   "source": [
    "L'estimation de densité en pandas peut se faire ainsi"
   ]
  },
  {
   "cell_type": "code",
   "execution_count": 24,
   "metadata": {
    "collapsed": false
   },
   "outputs": [
    {
     "data": {
      "text/plain": [
       "<matplotlib.axes._subplots.AxesSubplot at 0x7f692da2b0d0>"
      ]
     },
     "execution_count": 24,
     "metadata": {},
     "output_type": "execute_result"
    }
   ],
   "source": [
    "effectif=pd.DataFrame(prix_moyens)\n",
    "effectif.plot(kind='kde')"
   ]
  },
  {
   "cell_type": "markdown",
   "metadata": {},
   "source": [
    "## Densité cumulée\n",
    "\n",
    "### Exercice: \n",
    "Calculez la densité cumulée à partir de prix_moyens, avec un intervalle de discrétisation donné et dessinez. La méthode doit retourner deux tableau: l'abscisse X (les prix moyens possibles entre prix min et prix max), et la densité associée"
   ]
  },
  {
   "cell_type": "code",
   "execution_count": 42,
   "metadata": {
    "collapsed": false
   },
   "outputs": [
    {
     "name": "stdout",
     "output_type": "stream",
     "text": [
      "(137.219, 153.133]     1\n",
      "(153.133, 168.736]     7\n",
      "(168.736, 184.338]    22\n",
      "(184.338, 199.94]     33\n",
      "(199.94, 215.542]     39\n",
      "(215.542, 231.145]    47\n",
      "(231.145, 246.747]    47\n",
      "(246.747, 262.349]    47\n",
      "(262.349, 277.951]    48\n",
      "(277.951, 293.554]    48\n",
      "(293.554, 309.156]    49\n",
      "(309.156, 324.758]    49\n",
      "(324.758, 340.36]     49\n",
      "(340.36, 355.963]     49\n",
      "(355.963, 371.565]    49\n",
      "(371.565, 387.167]    49\n",
      "(387.167, 402.77]     49\n",
      "(402.77, 418.372]     49\n",
      "(418.372, 433.974]    49\n",
      "(433.974, 449.576]    51\n",
      "dtype: float64\n"
     ]
    },
    {
     "data": {
      "image/png": "[encoded data removed]",
      "text/plain": [
       "<matplotlib.figure.Figure at 0x7f68e1eb6410>"
      ]
     },
     "metadata": {},
     "output_type": "display_data"
    }
   ],
   "source": [
    "def densite_cumule(p, inter):\n",
    "    effectif=pd.cut(p,inter)\n",
    "    effectif2=pd.value_counts(effectif)\n",
    "    effectif3=effectif2.reindex(effectif.levels)\n",
    "    for i in range(len(effectif3)):\n",
    "        if np.isnan(effectif3[i]):\n",
    "            effectif3[i] = 0\n",
    "        if i > 0:\n",
    "            effectif3[i] += effectif3[i-1] \n",
    "    print effectif3\n",
    "    plt.rcdefaults()\n",
    "    fig, ax = plt.subplots(1,1)\n",
    "    nom_boite= []\n",
    "    for i in range(137,437+inter,inter):\n",
    "        nom_boite.append(\"[\"+str(i)+\" - \"+str(i+inter)+\"]\")\n",
    "    x_pos = np.arange(len(effectif3))\n",
    "    ax.bar(x_pos, effectif3, color='yellow')\n",
    "    ax.set_xticklabels(nom_boite)\n",
    "    plt.show()\n",
    "    \n",
    "densite_cumule(prix_moyens, 20)\n",
    "    "
   ]
  },
  {
   "cell_type": "markdown",
   "metadata": {},
   "source": [
    "### Exercice : \n",
    "Ecrire la fonction Q(alpha,x,y) qui permet de trouver le quartile(alpha,x,y) - quartile(0.5,x,densite) correspondra à la médiane. Calculez et dessinez (sur une feuille) le boxplot"
   ]
  },
  {
   "cell_type": "code",
   "execution_count": null,
   "metadata": {
    "collapsed": false
   },
   "outputs": [],
   "source": [
    "  "
   ]
  },
  {
   "cell_type": "markdown",
   "metadata": {},
   "source": [
    "Le boxplot en pandas se fait ainsi:"
   ]
  },
  {
   "cell_type": "code",
   "execution_count": 43,
   "metadata": {
    "collapsed": false
   },
   "outputs": [
    {
     "name": "stderr",
     "output_type": "stream",
     "text": [
      "/usr/lib/python2.7/dist-packages/pandas/tools/plotting.py:2380: FutureWarning: \n",
      "The default value for 'return_type' will change to 'axes' in a future release.\n",
      " To use the future behavior now, set return_type='axes'.\n",
      " To keep the previous behavior and silence this warning, set return_type='dict'.\n",
      "  warnings.warn(msg, FutureWarning)\n"
     ]
    },
    {
     "data": {
      "text/plain": [
       "{'boxes': [<matplotlib.lines.Line2D at 0x7f68e1c41d10>],\n",
       " 'caps': [<matplotlib.lines.Line2D at 0x7f68e1c41cd0>,\n",
       "  <matplotlib.lines.Line2D at 0x7f68e1c4d210>],\n",
       " 'fliers': [<matplotlib.lines.Line2D at 0x7f68e1c4dcd0>],\n",
       " 'means': [],\n",
       " 'medians': [<matplotlib.lines.Line2D at 0x7f68e1c4d9d0>],\n",
       " 'whiskers': [<matplotlib.lines.Line2D at 0x7f68e1c41650>,\n",
       "  <matplotlib.lines.Line2D at 0x7f68e1c41b50>]}"
      ]
     },
     "execution_count": 43,
     "metadata": {},
     "output_type": "execute_result"
    }
   ],
   "source": [
    "a=pd.DataFrame(prix_moyens)\n",
    "a.boxplot()"
   ]
  },
  {
   "cell_type": "markdown",
   "metadata": {},
   "source": [
    "## Variance\n",
    "\n",
    "### Exercice : \n",
    "On souhaite maintenant rajouter une colonne ''HighQ_var'' aux données originales contenant la variance des prix par état. ATTENTION, cela suppose de traiter les états (State) les uns après les autres"
   ]
  },
  {
   "cell_type": "code",
   "execution_count": 52,
   "metadata": {
    "collapsed": false
   },
   "outputs": [
    {
     "name": "stdout",
     "output_type": "stream",
     "text": [
      "[2.3654694113620494, 31.068218253877653, 4.054197897827884, 47.03699250400554, 2.976043334110453, 6.342560469442114, 18.331655326114465, 24.772389233188346, 3.9680623677461933, 5.246545559793838, 13.370709895288202, 9.448169903919117, 0.8385639763691674, 5.777760776980273, 3.4458170227330265, 7.858185176660818, 3.9425124974578436, 1.0725933462631654, 23.725228297478708, 22.017006228143735, 34.81368822376871, 12.712531804901756, 18.408800405751943, 78.87524741047913, 7.293090806097201, 54.650898489590844, 10.943423708215757, 30.352202478162265, 1.8448786067529417, 51.004924595612195, 12.805187780814594, 6.412755691688042, 12.21787522383322, 16.27492165812669, 55.57066169612251, 2.6924974866196147, 31.75860149701639, 7.544846634689317, 12.837811620974092, 44.71465697193955, 14.880762311694882, 138.0545344546905, 14.806993409754902, 16.133560367260085, 4.265720094642379, 12.853054590006993, 11.836045525567824, 1.344088777337413, 8.229870245683314, 11.718480303173083, 219.12338046140658]\n"
     ]
    }
   ],
   "source": [
    "var_state = []\n",
    "states= np.unique(prices_pd[\"State\"].values)\n",
    "for i in states:\n",
    "    etat_courant = prices_pd[prices_pd.State==i]\n",
    "    var_state.append(sum((j - etat_courant[\"HighQ\"].mean())**2 for j in etat_courant[\"HighQ\"])/len(etat_courant[\"HighQ\"]))\n",
    "print var_state"
   ]
  },
  {
   "cell_type": "markdown",
   "metadata": {},
   "source": [
    "## Synthèse : La californie\n",
    "\n",
    "### Exercice : \n",
    "Pandas permet de faire la synthèse de données de la manière suivante: \n",
    "data.describe()\n",
    "* Vérifier que les valeurs trouvée sur l'état de la californie collent avec les valeurs trouvées par vos différentes méthodes. \n",
    "** Pour cela: mettez le code qui utilise vos fonctions (moyennes, variance, et quartiles) ainsi que le résutlats de la fonction describe"
   ]
  },
  {
   "cell_type": "code",
   "execution_count": null,
   "metadata": {
    "collapsed": false
   },
   "outputs": [],
   "source": []
  },
  {
   "cell_type": "markdown",
   "metadata": {},
   "source": [
    "## Matrice de corrélation\n",
    "\n",
    "### Exercice: \n",
    "\n",
    "Nous allons maintenant nous intéresser à calculer la corrélation entre les prix à new-york et les prix en californie\n",
    "* Commencez par dessinez le nuage des points des prix(par date) en californie (axe x) et à new york (axe y) pour la bonne qualité. Pour cela on va d'abord créer un DataFrame avec le prix de californie et de new york par date"
   ]
  },
  {
   "cell_type": "code",
   "execution_count": 55,
   "metadata": {
    "collapsed": false
   },
   "outputs": [
    {
     "data": {
      "text/html": [
       "<div style=\"max-height:1000px;max-width:1500px;overflow:auto;\">\n",
       "<table border=\"1\" class=\"dataframe\">\n",
       "  <thead>\n",
       "    <tr style=\"text-align: right;\">\n",
       "      <th></th>\n",
       "      <th>State_x</th>\n",
       "      <th>HighQ_x</th>\n",
       "      <th>HighQN_x</th>\n",
       "      <th>MedQ_x</th>\n",
       "      <th>MedQN_x</th>\n",
       "      <th>LowQ_x</th>\n",
       "      <th>LowQN_x</th>\n",
       "      <th>date</th>\n",
       "      <th>State_y</th>\n",
       "      <th>HighQ_y</th>\n",
       "      <th>HighQN_y</th>\n",
       "      <th>MedQ_y</th>\n",
       "      <th>MedQN_y</th>\n",
       "      <th>LowQ_y</th>\n",
       "      <th>LowQN_y</th>\n",
       "    </tr>\n",
       "  </thead>\n",
       "  <tbody>\n",
       "    <tr>\n",
       "      <th>0</th>\n",
       "      <td> California</td>\n",
       "      <td> 248.77</td>\n",
       "      <td> 12021</td>\n",
       "      <td> 193.44</td>\n",
       "      <td> 12724</td>\n",
       "      <td> 193.88</td>\n",
       "      <td> 770</td>\n",
       "      <td>2013-12-27</td>\n",
       "      <td> New York</td>\n",
       "      <td> 351.98</td>\n",
       "      <td> 5773</td>\n",
       "      <td> 268.83</td>\n",
       "      <td> 5786</td>\n",
       "      <td> 190.31</td>\n",
       "      <td> 479</td>\n",
       "    </tr>\n",
       "    <tr>\n",
       "      <th>1</th>\n",
       "      <td> California</td>\n",
       "      <td> 248.74</td>\n",
       "      <td> 12025</td>\n",
       "      <td> 193.44</td>\n",
       "      <td> 12728</td>\n",
       "      <td> 193.88</td>\n",
       "      <td> 770</td>\n",
       "      <td>2013-12-28</td>\n",
       "      <td> New York</td>\n",
       "      <td> 351.92</td>\n",
       "      <td> 5775</td>\n",
       "      <td> 268.83</td>\n",
       "      <td> 5786</td>\n",
       "      <td> 190.31</td>\n",
       "      <td> 479</td>\n",
       "    </tr>\n",
       "    <tr>\n",
       "      <th>2</th>\n",
       "      <td> California</td>\n",
       "      <td> 248.76</td>\n",
       "      <td> 12047</td>\n",
       "      <td> 193.55</td>\n",
       "      <td> 12760</td>\n",
       "      <td> 193.60</td>\n",
       "      <td> 772</td>\n",
       "      <td>2013-12-29</td>\n",
       "      <td> New York</td>\n",
       "      <td> 351.99</td>\n",
       "      <td> 5785</td>\n",
       "      <td> 269.02</td>\n",
       "      <td> 5806</td>\n",
       "      <td> 190.75</td>\n",
       "      <td> 480</td>\n",
       "    </tr>\n",
       "    <tr>\n",
       "      <th>3</th>\n",
       "      <td> California</td>\n",
       "      <td> 248.82</td>\n",
       "      <td> 12065</td>\n",
       "      <td> 193.54</td>\n",
       "      <td> 12779</td>\n",
       "      <td> 193.80</td>\n",
       "      <td> 773</td>\n",
       "      <td>2013-12-30</td>\n",
       "      <td> New York</td>\n",
       "      <td> 352.02</td>\n",
       "      <td> 5791</td>\n",
       "      <td> 268.98</td>\n",
       "      <td> 5814</td>\n",
       "      <td> 190.75</td>\n",
       "      <td> 480</td>\n",
       "    </tr>\n",
       "    <tr>\n",
       "      <th>4</th>\n",
       "      <td> California</td>\n",
       "      <td> 248.76</td>\n",
       "      <td> 12082</td>\n",
       "      <td> 193.54</td>\n",
       "      <td> 12792</td>\n",
       "      <td> 193.80</td>\n",
       "      <td> 773</td>\n",
       "      <td>2013-12-31</td>\n",
       "      <td> New York</td>\n",
       "      <td> 351.97</td>\n",
       "      <td> 5794</td>\n",
       "      <td> 268.93</td>\n",
       "      <td> 5818</td>\n",
       "      <td> 190.75</td>\n",
       "      <td> 480</td>\n",
       "    </tr>\n",
       "  </tbody>\n",
       "</table>\n",
       "</div>"
      ],
      "text/plain": [
       "      State_x  HighQ_x  HighQN_x  MedQ_x  MedQN_x  LowQ_x  LowQN_x       date  \\\n",
       "0  California   248.77     12021  193.44    12724  193.88      770 2013-12-27   \n",
       "1  California   248.74     12025  193.44    12728  193.88      770 2013-12-28   \n",
       "2  California   248.76     12047  193.55    12760  193.60      772 2013-12-29   \n",
       "3  California   248.82     12065  193.54    12779  193.80      773 2013-12-30   \n",
       "4  California   248.76     12082  193.54    12792  193.80      773 2013-12-31   \n",
       "\n",
       "    State_y  HighQ_y  HighQN_y  MedQ_y  MedQN_y  LowQ_y  LowQN_y  \n",
       "0  New York   351.98      5773  268.83     5786  190.31      479  \n",
       "1  New York   351.92      5775  268.83     5786  190.31      479  \n",
       "2  New York   351.99      5785  269.02     5806  190.75      480  \n",
       "3  New York   352.02      5791  268.98     5814  190.75      480  \n",
       "4  New York   351.97      5794  268.93     5818  190.75      480  "
      ]
     },
     "execution_count": 55,
     "metadata": {},
     "output_type": "execute_result"
    }
   ],
   "source": [
    "prix_ny=prices_pd[prices_pd['State']=='New York']\n",
    "prix_ca=prices_pd[prices_pd['State']=='California']\n",
    "prix_ca_ny=prix_ca.merge(prix_ny,on='date')\n",
    "prix_ca_ny.head()\n"
   ]
  },
  {
   "cell_type": "markdown",
   "metadata": {},
   "source": [
    "### Exercice\n",
    "\n",
    "Dessinez le nuage de points : voir http://matplotlib.org/examples/shapes_and_collections/scatter_demo.html"
   ]
  },
  {
   "cell_type": "code",
   "execution_count": 58,
   "metadata": {
    "collapsed": false
   },
   "outputs": [
    {
     "data": {
      "image/png": "[encoded data removed]",
      "text/plain": [
       "<matplotlib.figure.Figure at 0x7f68df9c7c10>"
      ]
     },
     "metadata": {},
     "output_type": "display_data"
    }
   ],
   "source": [
    "plt.scatter(prix_ca, prix_ny)\n",
    "plt.show()"
   ]
  },
  {
   "cell_type": "markdown",
   "metadata": {},
   "source": [
    "### Exercice\n",
    "\n",
    "A l'aide de la fonction moyenne écrite précédemment, écrire une fonction correlation(x,y) qui calcule la correlation lineaire entre deux tableaux numpy"
   ]
  },
  {
   "cell_type": "code",
   "execution_count": null,
   "metadata": {
    "collapsed": true
   },
   "outputs": [],
   "source": []
  },
  {
   "cell_type": "code",
   "execution_count": null,
   "metadata": {
    "collapsed": true
   },
   "outputs": [],
   "source": [
    "print(\"La correlation est :%f\"%correlation(prix_ca_ny[\"HighQ_x\"].values,prix_ca_ny[\"HighQ_y\"].values))"
   ]
  },
  {
   "cell_type": "markdown",
   "metadata": {},
   "source": [
    "### Exercice: \n",
    "\n",
    "Calculez la matrice des correlations pour toutes les combinaisons d'états"
   ]
  },
  {
   "cell_type": "code",
   "execution_count": null,
   "metadata": {
    "collapsed": true
   },
   "outputs": [],
   "source": []
  },
  {
   "cell_type": "markdown",
   "metadata": {},
   "source": [
    "## Exercice: \n",
    "* Calculez les correlations entre le prix (low et high) en fonction du revenu moyen par etat disponible dans le tableau demography_pd chargé au début\n",
    "* que pouvez vous en conclure"
   ]
  },
  {
   "cell_type": "markdown",
   "metadata": {},
   "source": [
    "## Travail pour la fin de TP + Maison\n",
    "Travail de rendu (à faire avant le prochain TP):\n",
    "* Vous avez implémenté et vu comment calculer tout un ensemble d'indicateurs statistiques assez simples. \n",
    "* Vous avez vu comment produire de jolis graphiques\n",
    "\n",
    "## Travail à faire : proposez une analyse originale a l'aide des données disponibles ici : http://opendata.paris.fr et des indicateurs/graphiques vus en cours et aujourd'hui\n",
    "* Voir  http://matplotlib.org/gallery.html pour les visualisations\n",
    "\n",
    "#### Exemple : \n",
    "* (Récupération de données: ) Téléchargez les données ici : http://opendata.paris.fr/explore/dataset/liste_des_prenoms_2004_a_2012/?disjunctive.prenoms&disjunctive.annee\n",
    "* Calculez l'histogramme et la densité des différents prénoms \n",
    "* Proposez une visualisation des 10 prénoms les plus donnés chaque année\n",
    "* Calculer les corrélations entre prénoms pour dégager les listes de prénoms corrélés et anti-corrélés dans le temps. Illuster les plus fortes corrélations par des nuages de points\n",
    "* ==> Proposez un nuage de mots à partir des données extraites (outil possible: https://www.jasondavies.com/wordcloud/ ou  https://github.com/mbostock/d3/wiki/Gallery)\n",
    "\n",
    "\n",
    "\n",
    "    "
   ]
  }
 ],
 "metadata": {
  "kernelspec": {
   "display_name": "Python 2",
   "language": "python",
   "name": "python2"
  },
  "language_info": {
   "codemirror_mode": {
    "name": "ipython",
    "version": 2
   },
   "file_extension": ".py",
   "mimetype": "text/x-python",
   "name": "python",
   "nbconvert_exporter": "python",
   "pygments_lexer": "ipython2",
   "version": "2.7.9"
  }
 },
 "nbformat": 4,
 "nbformat_minor": 1
}
